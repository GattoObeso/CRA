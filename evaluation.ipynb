{
  "nbformat": 4,
  "nbformat_minor": 0,
  "metadata": {
    "colab": {
      "name": "evaluation.ipynb",
      "provenance": [],
      "collapsed_sections": [],
      "authorship_tag": "ABX9TyPpCMKzxESJEGWVvOdfzocw",
      "include_colab_link": true
    },
    "kernelspec": {
      "name": "python3",
      "display_name": "Python 3"
    },
    "language_info": {
      "name": "python"
    }
  },
  "cells": [
    {
      "cell_type": "markdown",
      "metadata": {
        "id": "view-in-github",
        "colab_type": "text"
      },
      "source": [
        "<a href=\"https://colab.research.google.com/github/masies/CRA/blob/main/evaluation.ipynb\" target=\"_parent\"><img src=\"https://colab.research.google.com/assets/colab-badge.svg\" alt=\"Open In Colab\"/></a>"
      ]
    },
    {
      "cell_type": "code",
      "metadata": {
        "colab": {
          "base_uri": "https://localhost:8080/"
        },
        "id": "mZMBWPJmFVQI",
        "outputId": "ff4928c9-d246-4154-f638-48ccba93b5b2"
      },
      "source": [
        "from os import walk\n",
        "import os\n",
        "import regex\n",
        "\n",
        "from google.colab import auth\n",
        "auth.authenticate_user()\n",
        "project_id = 'helical-loop-303918'\n",
        "bucket_name = 'code_review_automation'\n",
        "!gcloud config set project {project_id}\n"
      ],
      "execution_count": 6,
      "outputs": [
        {
          "output_type": "stream",
          "text": [
            "Updated property [core/project].\n"
          ],
          "name": "stdout"
        }
      ]
    },
    {
      "cell_type": "code",
      "metadata": {
        "colab": {
          "base_uri": "https://localhost:8080/"
        },
        "id": "8j3lXYX4Fnp8",
        "outputId": "19eaec96-db04-4fda-fa56-1cbecf45a94f"
      },
      "source": [
        "!rm -rf ./validation_eval/\n",
        "!gsutil cp -r gs://code_review_automation/fine_tuning/HP_tuning/comment_v1/both/non_pretrained/slanted/validation_eval ."
      ],
      "execution_count": 9,
      "outputs": [
        {
          "output_type": "stream",
          "text": [
            "Copying gs://code_review_automation/fine_tuning/HP_tuning/comment_v1/both/non_pretrained/slanted/validation_eval/codeANDcomment_code_100000_predictions...\n",
            "Copying gs://code_review_automation/fine_tuning/HP_tuning/comment_v1/both/non_pretrained/slanted/validation_eval/codeANDcomment_code_10200_predictions...\n",
            "Copying gs://code_review_automation/fine_tuning/HP_tuning/comment_v1/both/non_pretrained/slanted/validation_eval/codeANDcomment_code_15000_predictions...\n",
            "Copying gs://code_review_automation/fine_tuning/HP_tuning/comment_v1/both/non_pretrained/slanted/validation_eval/codeANDcomment_code_15300_predictions...\n",
            "/ [4 files][  1.7 MiB/  1.7 MiB]                                                \n",
            "==> NOTE: You are performing a sequence of gsutil operations that may\n",
            "run significantly faster if you instead use gsutil -m cp ... Please\n",
            "see the -m section under \"gsutil help options\" for further information\n",
            "about when gsutil -m can be advantageous.\n",
            "\n",
            "Copying gs://code_review_automation/fine_tuning/HP_tuning/comment_v1/both/non_pretrained/slanted/validation_eval/codeANDcomment_code_20000_predictions...\n",
            "Copying gs://code_review_automation/fine_tuning/HP_tuning/comment_v1/both/non_pretrained/slanted/validation_eval/codeANDcomment_code_20400_predictions...\n",
            "Copying gs://code_review_automation/fine_tuning/HP_tuning/comment_v1/both/non_pretrained/slanted/validation_eval/codeANDcomment_code_25000_predictions...\n",
            "Copying gs://code_review_automation/fine_tuning/HP_tuning/comment_v1/both/non_pretrained/slanted/validation_eval/codeANDcomment_code_25500_predictions...\n",
            "Copying gs://code_review_automation/fine_tuning/HP_tuning/comment_v1/both/non_pretrained/slanted/validation_eval/codeANDcomment_code_30000_predictions...\n",
            "Copying gs://code_review_automation/fine_tuning/HP_tuning/comment_v1/both/non_pretrained/slanted/validation_eval/codeANDcomment_code_30600_predictions...\n",
            "Copying gs://code_review_automation/fine_tuning/HP_tuning/comment_v1/both/non_pretrained/slanted/validation_eval/codeANDcomment_code_35000_predictions...\n",
            "Copying gs://code_review_automation/fine_tuning/HP_tuning/comment_v1/both/non_pretrained/slanted/validation_eval/codeANDcomment_code_35700_predictions...\n",
            "Copying gs://code_review_automation/fine_tuning/HP_tuning/comment_v1/both/non_pretrained/slanted/validation_eval/codeANDcomment_code_40000_predictions...\n",
            "Copying gs://code_review_automation/fine_tuning/HP_tuning/comment_v1/both/non_pretrained/slanted/validation_eval/codeANDcomment_code_40800_predictions...\n",
            "Copying gs://code_review_automation/fine_tuning/HP_tuning/comment_v1/both/non_pretrained/slanted/validation_eval/codeANDcomment_code_45000_predictions...\n",
            "Copying gs://code_review_automation/fine_tuning/HP_tuning/comment_v1/both/non_pretrained/slanted/validation_eval/codeANDcomment_code_45900_predictions...\n",
            "Copying gs://code_review_automation/fine_tuning/HP_tuning/comment_v1/both/non_pretrained/slanted/validation_eval/codeANDcomment_code_50000_predictions...\n",
            "Copying gs://code_review_automation/fine_tuning/HP_tuning/comment_v1/both/non_pretrained/slanted/validation_eval/codeANDcomment_code_55000_predictions...\n",
            "Copying gs://code_review_automation/fine_tuning/HP_tuning/comment_v1/both/non_pretrained/slanted/validation_eval/codeANDcomment_code_55100_predictions...\n",
            "Copying gs://code_review_automation/fine_tuning/HP_tuning/comment_v1/both/non_pretrained/slanted/validation_eval/codeANDcomment_code_60000_predictions...\n",
            "Copying gs://code_review_automation/fine_tuning/HP_tuning/comment_v1/both/non_pretrained/slanted/validation_eval/codeANDcomment_code_65000_predictions...\n",
            "Copying gs://code_review_automation/fine_tuning/HP_tuning/comment_v1/both/non_pretrained/slanted/validation_eval/codeANDcomment_code_70000_predictions...\n",
            "Copying gs://code_review_automation/fine_tuning/HP_tuning/comment_v1/both/non_pretrained/slanted/validation_eval/codeANDcomment_code_75000_predictions...\n",
            "Copying gs://code_review_automation/fine_tuning/HP_tuning/comment_v1/both/non_pretrained/slanted/validation_eval/codeANDcomment_code_80000_predictions...\n",
            "Copying gs://code_review_automation/fine_tuning/HP_tuning/comment_v1/both/non_pretrained/slanted/validation_eval/codeANDcomment_code_85000_predictions...\n",
            "Copying gs://code_review_automation/fine_tuning/HP_tuning/comment_v1/both/non_pretrained/slanted/validation_eval/codeANDcomment_code_90000_predictions...\n",
            "Copying gs://code_review_automation/fine_tuning/HP_tuning/comment_v1/both/non_pretrained/slanted/validation_eval/codeANDcomment_code_95000_predictions...\n",
            "Copying gs://code_review_automation/fine_tuning/HP_tuning/comment_v1/both/non_pretrained/slanted/validation_eval/codeANDcomment_code_inputs...\n",
            "Copying gs://code_review_automation/fine_tuning/HP_tuning/comment_v1/both/non_pretrained/slanted/validation_eval/codeANDcomment_code_targets...\n",
            "Copying gs://code_review_automation/fine_tuning/HP_tuning/comment_v1/both/non_pretrained/slanted/validation_eval/code_code_100000_predictions...\n",
            "Copying gs://code_review_automation/fine_tuning/HP_tuning/comment_v1/both/non_pretrained/slanted/validation_eval/code_code_10200_predictions...\n",
            "Copying gs://code_review_automation/fine_tuning/HP_tuning/comment_v1/both/non_pretrained/slanted/validation_eval/code_code_15000_predictions...\n",
            "Copying gs://code_review_automation/fine_tuning/HP_tuning/comment_v1/both/non_pretrained/slanted/validation_eval/code_code_15300_predictions...\n",
            "Copying gs://code_review_automation/fine_tuning/HP_tuning/comment_v1/both/non_pretrained/slanted/validation_eval/code_code_20000_predictions...\n",
            "Copying gs://code_review_automation/fine_tuning/HP_tuning/comment_v1/both/non_pretrained/slanted/validation_eval/code_code_20400_predictions...\n",
            "Copying gs://code_review_automation/fine_tuning/HP_tuning/comment_v1/both/non_pretrained/slanted/validation_eval/code_code_25000_predictions...\n",
            "Copying gs://code_review_automation/fine_tuning/HP_tuning/comment_v1/both/non_pretrained/slanted/validation_eval/code_code_25500_predictions...\n",
            "Copying gs://code_review_automation/fine_tuning/HP_tuning/comment_v1/both/non_pretrained/slanted/validation_eval/code_code_30000_predictions...\n",
            "Copying gs://code_review_automation/fine_tuning/HP_tuning/comment_v1/both/non_pretrained/slanted/validation_eval/code_code_30600_predictions...\n",
            "Copying gs://code_review_automation/fine_tuning/HP_tuning/comment_v1/both/non_pretrained/slanted/validation_eval/code_code_35000_predictions...\n",
            "Copying gs://code_review_automation/fine_tuning/HP_tuning/comment_v1/both/non_pretrained/slanted/validation_eval/code_code_35700_predictions...\n",
            "Copying gs://code_review_automation/fine_tuning/HP_tuning/comment_v1/both/non_pretrained/slanted/validation_eval/code_code_40000_predictions...\n",
            "Copying gs://code_review_automation/fine_tuning/HP_tuning/comment_v1/both/non_pretrained/slanted/validation_eval/code_code_40800_predictions...\n",
            "Copying gs://code_review_automation/fine_tuning/HP_tuning/comment_v1/both/non_pretrained/slanted/validation_eval/code_code_45000_predictions...\n",
            "Copying gs://code_review_automation/fine_tuning/HP_tuning/comment_v1/both/non_pretrained/slanted/validation_eval/code_code_45900_predictions...\n",
            "Copying gs://code_review_automation/fine_tuning/HP_tuning/comment_v1/both/non_pretrained/slanted/validation_eval/code_code_50000_predictions...\n",
            "Copying gs://code_review_automation/fine_tuning/HP_tuning/comment_v1/both/non_pretrained/slanted/validation_eval/code_code_55000_predictions...\n",
            "Copying gs://code_review_automation/fine_tuning/HP_tuning/comment_v1/both/non_pretrained/slanted/validation_eval/code_code_55100_predictions...\n",
            "Copying gs://code_review_automation/fine_tuning/HP_tuning/comment_v1/both/non_pretrained/slanted/validation_eval/code_code_60000_predictions...\n",
            "Copying gs://code_review_automation/fine_tuning/HP_tuning/comment_v1/both/non_pretrained/slanted/validation_eval/code_code_65000_predictions...\n",
            "Copying gs://code_review_automation/fine_tuning/HP_tuning/comment_v1/both/non_pretrained/slanted/validation_eval/code_code_70000_predictions...\n",
            "Copying gs://code_review_automation/fine_tuning/HP_tuning/comment_v1/both/non_pretrained/slanted/validation_eval/code_code_75000_predictions...\n",
            "Copying gs://code_review_automation/fine_tuning/HP_tuning/comment_v1/both/non_pretrained/slanted/validation_eval/code_code_80000_predictions...\n",
            "Copying gs://code_review_automation/fine_tuning/HP_tuning/comment_v1/both/non_pretrained/slanted/validation_eval/code_code_85000_predictions...\n",
            "Copying gs://code_review_automation/fine_tuning/HP_tuning/comment_v1/both/non_pretrained/slanted/validation_eval/code_code_90000_predictions...\n",
            "Copying gs://code_review_automation/fine_tuning/HP_tuning/comment_v1/both/non_pretrained/slanted/validation_eval/code_code_95000_predictions...\n",
            "Copying gs://code_review_automation/fine_tuning/HP_tuning/comment_v1/both/non_pretrained/slanted/validation_eval/code_code_inputs...\n",
            "Copying gs://code_review_automation/fine_tuning/HP_tuning/comment_v1/both/non_pretrained/slanted/validation_eval/code_code_targets...\n",
            "Copying gs://code_review_automation/fine_tuning/HP_tuning/comment_v1/both/non_pretrained/slanted/validation_eval/events.out.tfevents.1616856329.07df62361431...\n",
            "Copying gs://code_review_automation/fine_tuning/HP_tuning/comment_v1/both/non_pretrained/slanted/validation_eval/events.out.tfevents.1617053118.18d612fb824b...\n",
            "Copying gs://code_review_automation/fine_tuning/HP_tuning/comment_v1/both/non_pretrained/slanted/validation_eval/events.out.tfevents.1617086798.81aedae62369...\n",
            "Copying gs://code_review_automation/fine_tuning/HP_tuning/comment_v1/both/non_pretrained/slanted/validation_eval/events.out.tfevents.1617087060.81aedae62369...\n",
            "Copying gs://code_review_automation/fine_tuning/HP_tuning/comment_v1/both/non_pretrained/slanted/validation_eval/events.out.tfevents.1617087263.81aedae62369...\n",
            "Copying gs://code_review_automation/fine_tuning/HP_tuning/comment_v1/both/non_pretrained/slanted/validation_eval/events.out.tfevents.1617087481.81aedae62369...\n",
            "Copying gs://code_review_automation/fine_tuning/HP_tuning/comment_v1/both/non_pretrained/slanted/validation_eval/events.out.tfevents.1617087674.81aedae62369...\n",
            "Copying gs://code_review_automation/fine_tuning/HP_tuning/comment_v1/both/non_pretrained/slanted/validation_eval/events.out.tfevents.1617087880.81aedae62369...\n",
            "Copying gs://code_review_automation/fine_tuning/HP_tuning/comment_v1/both/non_pretrained/slanted/validation_eval/events.out.tfevents.1617088074.81aedae62369...\n",
            "Copying gs://code_review_automation/fine_tuning/HP_tuning/comment_v1/both/non_pretrained/slanted/validation_eval/events.out.tfevents.1617088294.81aedae62369...\n",
            "Copying gs://code_review_automation/fine_tuning/HP_tuning/comment_v1/both/non_pretrained/slanted/validation_eval/events.out.tfevents.1617088529.81aedae62369...\n",
            "| [69 files][ 25.3 MiB/ 25.3 MiB]                                               \n",
            "==> NOTE: You are performing a sequence of gsutil operations that may\n",
            "run significantly faster if you instead use gsutil -m cp ... Please\n",
            "see the -m section under \"gsutil help options\" for further information\n",
            "about when gsutil -m can be advantageous.\n",
            "\n",
            "\n",
            "Operation completed over 69 objects/25.3 MiB.                                    \n"
          ],
          "name": "stdout"
        }
      ]
    },
    {
      "cell_type": "code",
      "metadata": {
        "colab": {
          "base_uri": "https://localhost:8080/"
        },
        "id": "RgdS_9RBIYNV",
        "outputId": "0f809f11-f463-4510-852f-14d8de6d5962"
      },
      "source": [
        "def eval(val_folder, tasks):\n",
        "  for task in tasks:\n",
        "    print(task)\n",
        "    _, _, filenames = next(walk(val_folder))\n",
        "    prediction_paths = [os.path.join(val_folder, f) for f in filenames if f.startswith(task) and f.endswith(\"predictions\")]\n",
        "    target_path = [os.path.join(val_folder, f) for f in filenames if f.startswith(task) and f.endswith(\"targets\")][0]\n",
        "\n",
        "    with open(target_path) as f:\n",
        "        targets = [item.strip() for item in f.readlines()]\n",
        "\n",
        "    for path in sorted(prediction_paths):\n",
        "      step = regex.findall( task + \"_(\\d+)_predictions\", path)[0]\n",
        "      if step.endswith(\"000\"):\n",
        "        with open(path) as f:\n",
        "          predictions = [item.strip() for item in f.readlines()]\n",
        "        \n",
        "        perfect_predictions = 0\n",
        "        almost_perfect_predictions = 0\n",
        "        for pred, target in zip(predictions, targets):\n",
        "          if ' '.join(pred.strip().split()) == ' '.join(target.strip().split()):\n",
        "            perfect_predictions += 1\n",
        "          elif ''.join(pred.strip().split()) == ''.join(target.strip().split()):\n",
        "            almost_perfect_predictions += 1\n",
        "            index = next((i for i, (char1, char2) in enumerate(zip(pred, target)) if char1 != char2), None)\n",
        "            \n",
        "        print(\"perfect predictions at step \" + step + \" : \", round(perfect_predictions/len(predictions)*100,2))\n",
        "        print(\"almost perfect predictions at step \" + step + \" : \", round((perfect_predictions + almost_perfect_predictions)/len(predictions)*100,2))\n",
        "        print()\n",
        "\n",
        "eval('validation_eval', [\"code_code\", \"codeANDcomment_code\"])\n",
        "# eval('validation_eval', [\"code_code\"])\n",
        "      \n"
      ],
      "execution_count": 10,
      "outputs": [
        {
          "output_type": "stream",
          "text": [
            "code_code\n",
            "perfect predictions at step 100000 :  6.37\n",
            "almost perfect predictions at step 100000 :  6.48\n",
            "\n",
            "perfect predictions at step 15000 :  5.96\n",
            "almost perfect predictions at step 15000 :  6.19\n",
            "\n",
            "perfect predictions at step 20000 :  5.55\n",
            "almost perfect predictions at step 20000 :  5.67\n",
            "\n",
            "perfect predictions at step 25000 :  6.07\n",
            "almost perfect predictions at step 25000 :  6.13\n",
            "\n",
            "perfect predictions at step 30000 :  5.84\n",
            "almost perfect predictions at step 30000 :  5.9\n",
            "\n",
            "perfect predictions at step 35000 :  5.55\n",
            "almost perfect predictions at step 35000 :  5.61\n",
            "\n",
            "perfect predictions at step 40000 :  5.9\n",
            "almost perfect predictions at step 40000 :  6.02\n",
            "\n",
            "perfect predictions at step 45000 :  6.07\n",
            "almost perfect predictions at step 45000 :  6.25\n",
            "\n",
            "perfect predictions at step 50000 :  6.66\n",
            "almost perfect predictions at step 50000 :  6.83\n",
            "\n",
            "perfect predictions at step 55000 :  6.66\n",
            "almost perfect predictions at step 55000 :  6.83\n",
            "\n",
            "perfect predictions at step 60000 :  6.25\n",
            "almost perfect predictions at step 60000 :  6.43\n",
            "\n",
            "perfect predictions at step 65000 :  6.02\n",
            "almost perfect predictions at step 65000 :  6.25\n",
            "\n",
            "perfect predictions at step 70000 :  5.9\n",
            "almost perfect predictions at step 70000 :  6.13\n",
            "\n",
            "perfect predictions at step 75000 :  6.07\n",
            "almost perfect predictions at step 75000 :  6.19\n",
            "\n",
            "perfect predictions at step 80000 :  6.66\n",
            "almost perfect predictions at step 80000 :  6.78\n",
            "\n",
            "perfect predictions at step 85000 :  6.19\n",
            "almost perfect predictions at step 85000 :  6.31\n",
            "\n",
            "perfect predictions at step 90000 :  6.66\n",
            "almost perfect predictions at step 90000 :  6.78\n",
            "\n",
            "perfect predictions at step 95000 :  6.37\n",
            "almost perfect predictions at step 95000 :  6.48\n",
            "\n",
            "codeANDcomment_code\n",
            "perfect predictions at step 100000 :  6.43\n",
            "almost perfect predictions at step 100000 :  6.66\n",
            "\n",
            "perfect predictions at step 15000 :  6.83\n",
            "almost perfect predictions at step 15000 :  7.07\n",
            "\n",
            "perfect predictions at step 20000 :  6.72\n",
            "almost perfect predictions at step 20000 :  6.83\n",
            "\n",
            "perfect predictions at step 25000 :  6.66\n",
            "almost perfect predictions at step 25000 :  6.78\n",
            "\n",
            "perfect predictions at step 30000 :  6.78\n",
            "almost perfect predictions at step 30000 :  6.89\n",
            "\n",
            "perfect predictions at step 35000 :  5.9\n",
            "almost perfect predictions at step 35000 :  6.02\n",
            "\n",
            "perfect predictions at step 40000 :  6.43\n",
            "almost perfect predictions at step 40000 :  6.6\n",
            "\n",
            "perfect predictions at step 45000 :  6.48\n",
            "almost perfect predictions at step 45000 :  6.66\n",
            "\n",
            "perfect predictions at step 50000 :  7.01\n",
            "almost perfect predictions at step 50000 :  7.24\n",
            "\n",
            "perfect predictions at step 55000 :  7.01\n",
            "almost perfect predictions at step 55000 :  7.24\n",
            "\n",
            "perfect predictions at step 60000 :  6.78\n",
            "almost perfect predictions at step 60000 :  7.01\n",
            "\n",
            "perfect predictions at step 65000 :  6.78\n",
            "almost perfect predictions at step 65000 :  6.95\n",
            "\n",
            "perfect predictions at step 70000 :  6.25\n",
            "almost perfect predictions at step 70000 :  6.48\n",
            "\n",
            "perfect predictions at step 75000 :  6.37\n",
            "almost perfect predictions at step 75000 :  6.48\n",
            "\n",
            "perfect predictions at step 80000 :  6.83\n",
            "almost perfect predictions at step 80000 :  7.01\n",
            "\n",
            "perfect predictions at step 85000 :  6.95\n",
            "almost perfect predictions at step 85000 :  7.07\n",
            "\n",
            "perfect predictions at step 90000 :  7.13\n",
            "almost perfect predictions at step 90000 :  7.3\n",
            "\n",
            "perfect predictions at step 95000 :  6.48\n",
            "almost perfect predictions at step 95000 :  6.72\n",
            "\n"
          ],
          "name": "stdout"
        }
      ]
    },
    {
      "cell_type": "code",
      "metadata": {
        "colab": {
          "base_uri": "https://localhost:8080/"
        },
        "id": "q487s7UgY7MH",
        "outputId": "57714baf-c496-41ac-9774-accdc0976849"
      },
      "source": [
        "! pip install -q torch==1.4.0 -f https://download.pytorch.org/whl/cu101/torch_stable.html\n",
        "! pip install -q transformers==3.5.0 fast-trees\n",
        "! git clone -q https://github.com/microsoft/CodeXGLUE.git\n",
        "!cd /content/CodeXGLUE/Code-Code/code-to-code-trans/evaluator/CodeBLEU/ && python calc_code_bleu.py --refs ./../references.txt --hyp ./../predictions.txt --lang java --params 0.25,0.25,0.25,0.25"
      ],
      "execution_count": 1,
      "outputs": [
        {
          "output_type": "stream",
          "text": [
            "\u001b[K     |████████████████████████████████| 753.4MB 22kB/s \n",
            "\u001b[31mERROR: torchvision 0.9.0+cu101 has requirement torch==1.8.0, but you'll have torch 1.4.0 which is incompatible.\u001b[0m\n",
            "\u001b[31mERROR: torchtext 0.9.0 has requirement torch==1.8.0, but you'll have torch 1.4.0 which is incompatible.\u001b[0m\n",
            "\u001b[K     |████████████████████████████████| 1.3MB 4.3MB/s \n",
            "\u001b[K     |████████████████████████████████| 890kB 17.0MB/s \n",
            "\u001b[K     |████████████████████████████████| 1.1MB 25.5MB/s \n",
            "\u001b[K     |████████████████████████████████| 2.9MB 39.5MB/s \n",
            "\u001b[K     |████████████████████████████████| 163kB 40.1MB/s \n",
            "\u001b[K     |████████████████████████████████| 112kB 44.0MB/s \n",
            "\u001b[K     |████████████████████████████████| 71kB 5.8MB/s \n",
            "\u001b[?25h  Building wheel for sacremoses (setup.py) ... \u001b[?25l\u001b[?25hdone\n",
            "  Building wheel for tree-sitter (setup.py) ... \u001b[?25l\u001b[?25hdone\n"
          ],
          "name": "stdout"
        }
      ]
    },
    {
      "cell_type": "code",
      "metadata": {
        "colab": {
          "base_uri": "https://localhost:8080/"
        },
        "id": "VButhu5r5Yxt",
        "outputId": "089d2590-c14a-461b-e583-f9eeb35965c8"
      },
      "source": [
        "!cd /content/CodeXGLUE/Code-Code/code-to-code-trans/evaluator/CodeBLEU/ && python calc_code_bleu.py --refs ./../../../../../tar --hyp ./../../../../../pred --lang java --params 0.25,0.25,0.25,0.25"
      ],
      "execution_count": 2,
      "outputs": [
        {
          "output_type": "stream",
          "text": [
            "Traceback (most recent call last):\n",
            "  File \"calc_code_bleu.py\", line 29, in <module>\n",
            "    for file in args.refs]\n",
            "  File \"calc_code_bleu.py\", line 29, in <listcomp>\n",
            "    for file in args.refs]\n",
            "FileNotFoundError: [Errno 2] No such file or directory: './../../../../../tar'\n"
          ],
          "name": "stdout"
        }
      ]
    }
  ]
}