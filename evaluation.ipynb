{
  "nbformat": 4,
  "nbformat_minor": 0,
  "metadata": {
    "colab": {
      "name": "evaluation.ipynb",
      "provenance": [],
      "collapsed_sections": [],
      "authorship_tag": "ABX9TyPqlZVEUW/LSAIj6DFgEHji",
      "include_colab_link": true
    },
    "kernelspec": {
      "name": "python3",
      "display_name": "Python 3"
    },
    "language_info": {
      "name": "python"
    }
  },
  "cells": [
    {
      "cell_type": "markdown",
      "metadata": {
        "id": "view-in-github",
        "colab_type": "text"
      },
      "source": [
        "<a href=\"https://colab.research.google.com/github/masies/CRA/blob/main/evaluation.ipynb\" target=\"_parent\"><img src=\"https://colab.research.google.com/assets/colab-badge.svg\" alt=\"Open In Colab\"/></a>"
      ]
    },
    {
      "cell_type": "code",
      "metadata": {
        "colab": {
          "base_uri": "https://localhost:8080/"
        },
        "id": "mZMBWPJmFVQI",
        "outputId": "c6c72306-5f51-43e1-96a6-bb25b3b4a21a"
      },
      "source": [
        "! pip install -q torch==1.4.0 -f https://download.pytorch.org/whl/cu101/torch_stable.html\n",
        "! pip install -q transformers==3.5.0 fast-trees\n",
        "! git clone -q https://github.com/microsoft/CodeXGLUE.git\n",
        "\n",
        "from os import walk\n",
        "import os\n",
        "import regex\n",
        "\n",
        "from google.colab import auth\n",
        "auth.authenticate_user()\n",
        "project_id = 'helical-loop-303918'\n",
        "bucket_name = 'code_review_automation'\n",
        "!gcloud config set project {project_id}"
      ],
      "execution_count": 1,
      "outputs": [
        {
          "output_type": "stream",
          "text": [
            "\u001b[K     |████████████████████████████████| 753.4MB 25kB/s \n",
            "\u001b[31mERROR: torchvision 0.9.1+cu101 has requirement torch==1.8.1, but you'll have torch 1.4.0 which is incompatible.\u001b[0m\n",
            "\u001b[31mERROR: torchtext 0.9.1 has requirement torch==1.8.1, but you'll have torch 1.4.0 which is incompatible.\u001b[0m\n",
            "\u001b[K     |████████████████████████████████| 1.3MB 12.9MB/s \n",
            "\u001b[K     |████████████████████████████████| 2.9MB 47.8MB/s \n",
            "\u001b[K     |████████████████████████████████| 1.1MB 47.7MB/s \n",
            "\u001b[K     |████████████████████████████████| 870kB 47.4MB/s \n",
            "\u001b[K     |████████████████████████████████| 163kB 50.4MB/s \n",
            "\u001b[K     |████████████████████████████████| 112kB 51.3MB/s \n",
            "\u001b[K     |████████████████████████████████| 71kB 5.4MB/s \n",
            "\u001b[?25h  Building wheel for sacremoses (setup.py) ... \u001b[?25l\u001b[?25hdone\n",
            "  Building wheel for tree-sitter (setup.py) ... \u001b[?25l\u001b[?25hdone\n",
            "Updated property [core/project].\n"
          ],
          "name": "stdout"
        }
      ]
    },
    {
      "cell_type": "code",
      "metadata": {
        "colab": {
          "base_uri": "https://localhost:8080/"
        },
        "id": "q9f7oh6t8omA",
        "outputId": "562ce81c-aa2e-48b7-daa8-0b14f3395df0"
      },
      "source": [
        "!rm -rf ./validation_eval/\n",
        "!gsutil -m cp -r gs://code_review_automation/fine_tuning/HP_tuning/final_version/comment_v2/codeANDcomment_code/pretrained/validation_eval ."
      ],
      "execution_count": 5,
      "outputs": [
        {
          "output_type": "stream",
          "text": [
            "Copying gs://code_review_automation/fine_tuning/HP_tuning/final_version/comment_v2/codeANDcomment_code/pretrained/validation_eval/codeANDcomment_code_205000_predictions...\n",
            "Copying gs://code_review_automation/fine_tuning/HP_tuning/final_version/comment_v2/codeANDcomment_code/pretrained/validation_eval/codeANDcomment_code_240000_predictions...\n",
            "/ [0/13 files][    0.0 B/  6.6 MiB]   0% Done                                   \r/ [0/13 files][    0.0 B/  6.6 MiB]   0% Done                                   \rCopying gs://code_review_automation/fine_tuning/HP_tuning/final_version/comment_v2/codeANDcomment_code/pretrained/validation_eval/codeANDcomment_code_210000_predictions...\n",
            "/ [0/13 files][    0.0 B/  6.6 MiB]   0% Done                                   \rCopying gs://code_review_automation/fine_tuning/HP_tuning/final_version/comment_v2/codeANDcomment_code/pretrained/validation_eval/codeANDcomment_code_215000_predictions...\n",
            "/ [0/13 files][    0.0 B/  6.6 MiB]   0% Done                                   \rCopying gs://code_review_automation/fine_tuning/HP_tuning/final_version/comment_v2/codeANDcomment_code/pretrained/validation_eval/codeANDcomment_code_235000_predictions...\n",
            "/ [0/13 files][    0.0 B/  6.6 MiB]   0% Done                                   \rCopying gs://code_review_automation/fine_tuning/HP_tuning/final_version/comment_v2/codeANDcomment_code/pretrained/validation_eval/codeANDcomment_code_230000_predictions...\n",
            "/ [0/13 files][    0.0 B/  6.6 MiB]   0% Done                                   \rCopying gs://code_review_automation/fine_tuning/HP_tuning/final_version/comment_v2/codeANDcomment_code/pretrained/validation_eval/codeANDcomment_code_245000_predictions...\n",
            "/ [0/13 files][    0.0 B/  6.6 MiB]   0% Done                                   \rCopying gs://code_review_automation/fine_tuning/HP_tuning/final_version/comment_v2/codeANDcomment_code/pretrained/validation_eval/codeANDcomment_code_220000_predictions...\n",
            "/ [0/13 files][    0.0 B/  6.6 MiB]   0% Done                                   \rCopying gs://code_review_automation/fine_tuning/HP_tuning/final_version/comment_v2/codeANDcomment_code/pretrained/validation_eval/codeANDcomment_code_225000_predictions...\n",
            "Copying gs://code_review_automation/fine_tuning/HP_tuning/final_version/comment_v2/codeANDcomment_code/pretrained/validation_eval/codeANDcomment_code_250000_predictions...\n",
            "Copying gs://code_review_automation/fine_tuning/HP_tuning/final_version/comment_v2/codeANDcomment_code/pretrained/validation_eval/codeANDcomment_code_inputs...\n",
            "Copying gs://code_review_automation/fine_tuning/HP_tuning/final_version/comment_v2/codeANDcomment_code/pretrained/validation_eval/codeANDcomment_code_targets...\n",
            "Copying gs://code_review_automation/fine_tuning/HP_tuning/final_version/comment_v2/codeANDcomment_code/pretrained/validation_eval/events.out.tfevents.1617575186.7357053d33e5...\n",
            "\\ [13/13 files][  6.6 MiB/  6.6 MiB] 100% Done                                  \n",
            "Operation completed over 13 objects/6.6 MiB.                                     \n"
          ],
          "name": "stdout"
        }
      ]
    },
    {
      "cell_type": "code",
      "metadata": {
        "colab": {
          "base_uri": "https://localhost:8080/"
        },
        "id": "RgdS_9RBIYNV",
        "outputId": "70ff7f3c-c757-444b-8baf-b9bcd78c3e09"
      },
      "source": [
        "def eval(val_folder, tasks):\n",
        "  for task in tasks:\n",
        "    print(task)\n",
        "    _, _, filenames = next(walk(val_folder))\n",
        "    prediction_paths = [os.path.join(val_folder, f) for f in filenames if f.startswith(task) and f.endswith(\"predictions\")]\n",
        "    target_path = [os.path.join(val_folder, f) for f in filenames if f.startswith(task) and f.endswith(\"targets\")][0]\n",
        "\n",
        "    with open(target_path) as f:\n",
        "        targets = [item.strip() for item in f.readlines()]\n",
        "\n",
        "    for path in sorted(prediction_paths):\n",
        "      step = regex.findall( task + \"_(\\d+)_predictions\", path)[0]\n",
        "      if step.endswith(\"000\"):\n",
        "        # !cd /content/CodeXGLUE/Code-Code/code-to-code-trans/evaluator/CodeBLEU/ && python calc_code_bleu.py --refs ./../../../../../{target_path} --hyp ./../../../../../{path} --lang java --params 0.25,0.25,0.25,0.25\n",
        "        \n",
        "        with open(path) as f:\n",
        "          predictions = [item.strip() for item in f.readlines()]\n",
        "        \n",
        "        perfect_predictions = 0\n",
        "        almost_perfect_predictions = 0\n",
        "        for pred, target in zip(predictions, targets):\n",
        "          if ' '.join(pred.strip().split()) == ' '.join(target.strip().split()):\n",
        "            perfect_predictions += 1\n",
        "          elif ''.join(pred.strip().split()) == ''.join(target.strip().split()):\n",
        "            almost_perfect_predictions += 1\n",
        "            index = next((i for i, (char1, char2) in enumerate(zip(pred, target)) if char1 != char2), None)\n",
        "            \n",
        "        print(step + \" - PP: \", round(perfect_predictions/len(predictions)*100,2), \" | APP: \", round((perfect_predictions + almost_perfect_predictions)/len(predictions)*100,2))\n",
        "        print()\n",
        "\n",
        "# eval('validation_eval', [\"code_code\", \"codeANDcomment_code\"])\n",
        "# eval('validation_eval', [\"code_code\"])\n",
        "eval('validation_eval', [\"codeANDcomment_code\"])\n",
        "      \n"
      ],
      "execution_count": 6,
      "outputs": [
        {
          "output_type": "stream",
          "text": [
            "codeANDcomment_code\n",
            "205000 - PP:  0.0  | APP:  0.0\n",
            "\n",
            "210000 - PP:  25.57  | APP:  26.39\n",
            "\n",
            "215000 - PP:  26.27  | APP:  27.09\n",
            "\n",
            "220000 - PP:  26.62  | APP:  27.44\n",
            "\n",
            "225000 - PP:  26.62  | APP:  27.5\n",
            "\n",
            "230000 - PP:  26.62  | APP:  27.5\n",
            "\n",
            "235000 - PP:  27.2  | APP:  27.79\n",
            "\n",
            "240000 - PP:  27.15  | APP:  27.85\n",
            "\n",
            "245000 - PP:  27.03  | APP:  27.67\n",
            "\n",
            "250000 - PP:  26.91  | APP:  27.67\n",
            "\n"
          ],
          "name": "stdout"
        }
      ]
    },
    {
      "cell_type": "code",
      "metadata": {
        "id": "w4LgD7Afnj_q"
      },
      "source": [
        "def codeBleu(pred, target):\n",
        "  with open(\"pred.txt\", \"w\") as f:\n",
        "    f.write(pred)\n",
        "  with open(\"tar.txt\", \"w\") as f:\n",
        "    f.write(target)\n",
        "  try :\n",
        "    a = !cd /content/CodeXGLUE/Code-Code/code-to-code-trans/evaluator/CodeBLEU/ && python calc_code_bleu.py --refs ./../../../../../pred.txt --hyp ./../../../../../tar.txt --lang java --params 0.25,0.25,0.25,0.25\n",
        "    codeBleu = float(a[1].replace(\"CodeBLEU score:  \",\"\"))\n",
        "    print(codeBleu)\n",
        "  except Exception as e:\n",
        "    codeBleu = 0"
      ],
      "execution_count": null,
      "outputs": []
    }
  ]
}