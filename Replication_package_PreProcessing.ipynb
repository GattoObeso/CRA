{
  "nbformat": 4,
  "nbformat_minor": 0,
  "metadata": {
    "colab": {
      "name": "Replication_package_PreProcessing.ipynb",
      "provenance": [],
      "collapsed_sections": [],
      "machine_shape": "hm",
      "authorship_tag": "ABX9TyMbEdqEyxFasU9E6hrvcMgF",
      "include_colab_link": true
    },
    "kernelspec": {
      "name": "python3",
      "display_name": "Python 3"
    },
    "language_info": {
      "name": "python"
    }
  },
  "cells": [
    {
      "cell_type": "markdown",
      "metadata": {
        "id": "view-in-github",
        "colab_type": "text"
      },
      "source": [
        "<a href=\"https://colab.research.google.com/github/masies/CRA/blob/main/Replication_package_PreProcessing.ipynb\" target=\"_parent\"><img src=\"https://colab.research.google.com/assets/colab-badge.svg\" alt=\"Open In Colab\"/></a>"
      ]
    },
    {
      "cell_type": "markdown",
      "metadata": {
        "id": "vo51EorrISne"
      },
      "source": [
        "#Pre Processing\n",
        "\n",
        "We provide all the datasets needed for Pre-Training and Fine-Tuning the T5 models, as well as the `vocab` and `model` files for the Sentencepiece model we trained and our configuration setting [here](https://). \n",
        "\n",
        "In this colab notebook, however, we will see how to create all of these files strating from our raw datasets.\n",
        "\n",
        "## NOTEBOOK SETTINGS\n",
        "\n",
        "We recommend to use \"high ram\" setting for this notebook\n",
        "you can changed this in the colab menu : `runtime > change runtime type`\n",
        "\n",
        "## DATASETS\n",
        "\n",
        "For executing this colab notebook you need to setup a Google Cloud Storage bucket containing the following raw datasets :\n",
        "\n",
        "### for pre-training:\n",
        "- StackOverflow_archive, available [here](htt://); \n",
        "- CodeSearchNet_archive, available [here](htt://); \n",
        "\n",
        "### for fine-tuning:\n",
        "- fine_tuning_raw_small, available [here](htt://)\n",
        "- fine_tuning_raw_large, available [here](htt://)\n"
      ]
    },
    {
      "cell_type": "code",
      "metadata": {
        "colab": {
          "base_uri": "https://localhost:8080/"
        },
        "id": "7OK62koC4-7l",
        "outputId": "10d2f583-6de2-47b4-830c-13062689da8a"
      },
      "source": [
        "!pip install sentencepiece\n",
        "!pip3 install pip install transformers\n",
        "\n",
        "import json\n",
        "import pickle\n",
        "import string\n",
        "import numpy as np\n",
        "import pandas as pd\n",
        "import seaborn as sns\n",
        "import matplotlib.pyplot as plt\n",
        "import sentencepiece as spm\n",
        "import re\n",
        "import regex\n",
        "import unicodedata\n",
        "from bs4 import BeautifulSoup, NavigableString\n",
        "\n",
        "!pip install nltk\n",
        "from nltk.tokenize import word_tokenize\n",
        "import nltk\n",
        "nltk.download('punkt')\n",
        "\n",
        "from google.colab import auth\n",
        "auth.authenticate_user()\n",
        "#@title ## Your GCS credential\n",
        "project_id = 'helical-loop-303918'#@param {type:\"string\"}\n",
        "bucket_name = 'code_review_automation'#@param {type:\"string\"}\n",
        "\n",
        "!gcloud config set project {project_id}"
      ],
      "execution_count": 1,
      "outputs": [
        {
          "output_type": "stream",
          "text": [
            "Collecting sentencepiece\n",
            "\u001b[?25l  Downloading https://files.pythonhosted.org/packages/f5/99/e0808cb947ba10f575839c43e8fafc9cc44e4a7a2c8f79c60db48220a577/sentencepiece-0.1.95-cp37-cp37m-manylinux2014_x86_64.whl (1.2MB)\n",
            "\u001b[K     |████████████████████████████████| 1.2MB 4.0MB/s \n",
            "\u001b[?25hInstalling collected packages: sentencepiece\n",
            "Successfully installed sentencepiece-0.1.95\n",
            "Requirement already satisfied: pip in /usr/local/lib/python3.7/dist-packages (19.3.1)\n",
            "Requirement already satisfied: install in /usr/local/lib/python3.7/dist-packages (1.3.4)\n",
            "Collecting transformers\n",
            "\u001b[?25l  Downloading https://files.pythonhosted.org/packages/d5/43/cfe4ee779bbd6a678ac6a97c5a5cdeb03c35f9eaebbb9720b036680f9a2d/transformers-4.6.1-py3-none-any.whl (2.2MB)\n",
            "\u001b[K     |████████████████████████████████| 2.3MB 3.9MB/s \n",
            "\u001b[?25hRequirement already satisfied: requests in /usr/local/lib/python3.7/dist-packages (from transformers) (2.23.0)\n",
            "Requirement already satisfied: importlib-metadata; python_version < \"3.8\" in /usr/local/lib/python3.7/dist-packages (from transformers) (4.0.1)\n",
            "Collecting huggingface-hub==0.0.8\n",
            "  Downloading https://files.pythonhosted.org/packages/a1/88/7b1e45720ecf59c6c6737ff332f41c955963090a18e72acbcbeac6b25e86/huggingface_hub-0.0.8-py3-none-any.whl\n",
            "Collecting tokenizers<0.11,>=0.10.1\n",
            "\u001b[?25l  Downloading https://files.pythonhosted.org/packages/d4/e2/df3543e8ffdab68f5acc73f613de9c2b155ac47f162e725dcac87c521c11/tokenizers-0.10.3-cp37-cp37m-manylinux_2_5_x86_64.manylinux1_x86_64.manylinux_2_12_x86_64.manylinux2010_x86_64.whl (3.3MB)\n",
            "\u001b[K     |████████████████████████████████| 3.3MB 40.8MB/s \n",
            "\u001b[?25hRequirement already satisfied: tqdm>=4.27 in /usr/local/lib/python3.7/dist-packages (from transformers) (4.41.1)\n",
            "Requirement already satisfied: packaging in /usr/local/lib/python3.7/dist-packages (from transformers) (20.9)\n",
            "Requirement already satisfied: regex!=2019.12.17 in /usr/local/lib/python3.7/dist-packages (from transformers) (2019.12.20)\n",
            "Requirement already satisfied: filelock in /usr/local/lib/python3.7/dist-packages (from transformers) (3.0.12)\n",
            "Collecting sacremoses\n",
            "\u001b[?25l  Downloading https://files.pythonhosted.org/packages/75/ee/67241dc87f266093c533a2d4d3d69438e57d7a90abb216fa076e7d475d4a/sacremoses-0.0.45-py3-none-any.whl (895kB)\n",
            "\u001b[K     |████████████████████████████████| 901kB 45.6MB/s \n",
            "\u001b[?25hRequirement already satisfied: numpy>=1.17 in /usr/local/lib/python3.7/dist-packages (from transformers) (1.19.5)\n",
            "Requirement already satisfied: certifi>=2017.4.17 in /usr/local/lib/python3.7/dist-packages (from requests->transformers) (2020.12.5)\n",
            "Requirement already satisfied: chardet<4,>=3.0.2 in /usr/local/lib/python3.7/dist-packages (from requests->transformers) (3.0.4)\n",
            "Requirement already satisfied: idna<3,>=2.5 in /usr/local/lib/python3.7/dist-packages (from requests->transformers) (2.10)\n",
            "Requirement already satisfied: urllib3!=1.25.0,!=1.25.1,<1.26,>=1.21.1 in /usr/local/lib/python3.7/dist-packages (from requests->transformers) (1.24.3)\n",
            "Requirement already satisfied: zipp>=0.5 in /usr/local/lib/python3.7/dist-packages (from importlib-metadata; python_version < \"3.8\"->transformers) (3.4.1)\n",
            "Requirement already satisfied: typing-extensions>=3.6.4; python_version < \"3.8\" in /usr/local/lib/python3.7/dist-packages (from importlib-metadata; python_version < \"3.8\"->transformers) (3.7.4.3)\n",
            "Requirement already satisfied: pyparsing>=2.0.2 in /usr/local/lib/python3.7/dist-packages (from packaging->transformers) (2.4.7)\n",
            "Requirement already satisfied: joblib in /usr/local/lib/python3.7/dist-packages (from sacremoses->transformers) (1.0.1)\n",
            "Requirement already satisfied: click in /usr/local/lib/python3.7/dist-packages (from sacremoses->transformers) (7.1.2)\n",
            "Requirement already satisfied: six in /usr/local/lib/python3.7/dist-packages (from sacremoses->transformers) (1.15.0)\n",
            "Installing collected packages: huggingface-hub, tokenizers, sacremoses, transformers\n",
            "Successfully installed huggingface-hub-0.0.8 sacremoses-0.0.45 tokenizers-0.10.3 transformers-4.6.1\n",
            "Requirement already satisfied: nltk in /usr/local/lib/python3.7/dist-packages (3.2.5)\n",
            "Requirement already satisfied: six in /usr/local/lib/python3.7/dist-packages (from nltk) (1.15.0)\n",
            "[nltk_data] Downloading package punkt to /root/nltk_data...\n",
            "[nltk_data]   Unzipping tokenizers/punkt.zip.\n",
            "Updated property [core/project].\n",
            "\n",
            "\n",
            "To take a quick anonymous survey, run:\n",
            "  $ gcloud survey\n",
            "\n"
          ],
          "name": "stdout"
        }
      ]
    },
    {
      "cell_type": "markdown",
      "metadata": {
        "id": "m5RN-6waCv2e"
      },
      "source": [
        "# PRE-TRAINING DATASET\n",
        "\n",
        "In this section we will build the pre-training dataset on which we will pre-train the T5 model. \n",
        "We will also generate the sentencepiece model, trained on this dataset"
      ]
    },
    {
      "cell_type": "markdown",
      "metadata": {
        "id": "C1cYBx2U-HVq"
      },
      "source": [
        "## We start by defining bunch of utils functions to later process the datasets"
      ]
    },
    {
      "cell_type": "code",
      "metadata": {
        "id": "A67kMUGN95hM"
      },
      "source": [
        "def removeEmojis(s):\n",
        "  # list of all the emoji in unicode, yeah, really ugly but that's the best I came up with, (thanks https://gist.github.com/akkez/99ceeae2f13c9d8d9be7df0279e2c438)\n",
        "  emoji_pattern = regex.compile(r\"\\U0001f469\\u200d\\u2764\\ufe0f\\u200d\\U0001f48b\\u200d\\U0001f468|\\U0001f468\\u200d\\u2764\\ufe0f\\u200d\\U0001f48b\\u200d\\U0001f468|\\U0001f469\\u200d\\u2764\\ufe0f\\u200d\\U0001f48b\\u200d\\U0001f469|\\U0001f9d1\\U0001f3fb\\u200d\\U0001f91d\\u200d\\U0001f9d1\\U0001f3fb|\\U0001f9d1\\U0001f3fc\\u200d\\U0001f91d\\u200d\\U0001f9d1\\U0001f3fb|\\U0001f9d1\\U0001f3fc\\u200d\\U0001f91d\\u200d\\U0001f9d1\\U0001f3fc|\\U0001f9d1\\U0001f3fd\\u200d\\U0001f91d\\u200d\\U0001f9d1\\U0001f3fb|\\U0001f9d1\\U0001f3fd\\u200d\\U0001f91d\\u200d\\U0001f9d1\\U0001f3fc|\\U0001f9d1\\U0001f3fd\\u200d\\U0001f91d\\u200d\\U0001f9d1\\U0001f3fd|\\U0001f9d1\\U0001f3fe\\u200d\\U0001f91d\\u200d\\U0001f9d1\\U0001f3fb|\\U0001f9d1\\U0001f3fe\\u200d\\U0001f91d\\u200d\\U0001f9d1\\U0001f3fc|\\U0001f9d1\\U0001f3fe\\u200d\\U0001f91d\\u200d\\U0001f9d1\\U0001f3fd|\\U0001f9d1\\U0001f3fe\\u200d\\U0001f91d\\u200d\\U0001f9d1\\U0001f3fe|\\U0001f9d1\\U0001f3ff\\u200d\\U0001f91d\\u200d\\U0001f9d1\\U0001f3fb|\\U0001f9d1\\U0001f3ff\\u200d\\U0001f91d\\u200d\\U0001f9d1\\U0001f3fc|\\U0001f9d1\\U0001f3ff\\u200d\\U0001f91d\\u200d\\U0001f9d1\\U0001f3fd|\\U0001f9d1\\U0001f3ff\\u200d\\U0001f91d\\u200d\\U0001f9d1\\U0001f3fe|\\U0001f9d1\\U0001f3ff\\u200d\\U0001f91d\\u200d\\U0001f9d1\\U0001f3ff|\\U0001f469\\U0001f3fc\\u200d\\U0001f91d\\u200d\\U0001f469\\U0001f3fb|\\U0001f469\\U0001f3fd\\u200d\\U0001f91d\\u200d\\U0001f469\\U0001f3fb|\\U0001f469\\U0001f3fd\\u200d\\U0001f91d\\u200d\\U0001f469\\U0001f3fc|\\U0001f469\\U0001f3fe\\u200d\\U0001f91d\\u200d\\U0001f469\\U0001f3fb|\\U0001f469\\U0001f3fe\\u200d\\U0001f91d\\u200d\\U0001f469\\U0001f3fc|\\U0001f469\\U0001f3fe\\u200d\\U0001f91d\\u200d\\U0001f469\\U0001f3fd|\\U0001f469\\U0001f3ff\\u200d\\U0001f91d\\u200d\\U0001f469\\U0001f3fb|\\U0001f469\\U0001f3ff\\u200d\\U0001f91d\\u200d\\U0001f469\\U0001f3fc|\\U0001f469\\U0001f3ff\\u200d\\U0001f91d\\u200d\\U0001f469\\U0001f3fd|\\U0001f469\\U0001f3ff\\u200d\\U0001f91d\\u200d\\U0001f469\\U0001f3fe|\\U0001f469\\U0001f3fb\\u200d\\U0001f91d\\u200d\\U0001f468\\U0001f3fc|\\U0001f469\\U0001f3fb\\u200d\\U0001f91d\\u200d\\U0001f468\\U0001f3fd|\\U0001f469\\U0001f3fb\\u200d\\U0001f91d\\u200d\\U0001f468\\U0001f3fe|\\U0001f469\\U0001f3fb\\u200d\\U0001f91d\\u200d\\U0001f468\\U0001f3ff|\\U0001f469\\U0001f3fc\\u200d\\U0001f91d\\u200d\\U0001f468\\U0001f3fb|\\U0001f469\\U0001f3fc\\u200d\\U0001f91d\\u200d\\U0001f468\\U0001f3fd|\\U0001f469\\U0001f3fc\\u200d\\U0001f91d\\u200d\\U0001f468\\U0001f3fe|\\U0001f469\\U0001f3fc\\u200d\\U0001f91d\\u200d\\U0001f468\\U0001f3ff|\\U0001f469\\U0001f3fd\\u200d\\U0001f91d\\u200d\\U0001f468\\U0001f3fb|\\U0001f469\\U0001f3fd\\u200d\\U0001f91d\\u200d\\U0001f468\\U0001f3fc|\\U0001f469\\U0001f3fd\\u200d\\U0001f91d\\u200d\\U0001f468\\U0001f3fe|\\U0001f469\\U0001f3fd\\u200d\\U0001f91d\\u200d\\U0001f468\\U0001f3ff|\\U0001f469\\U0001f3fe\\u200d\\U0001f91d\\u200d\\U0001f468\\U0001f3fb|\\U0001f469\\U0001f3fe\\u200d\\U0001f91d\\u200d\\U0001f468\\U0001f3fc|\\U0001f469\\U0001f3fe\\u200d\\U0001f91d\\u200d\\U0001f468\\U0001f3fd|\\U0001f469\\U0001f3fe\\u200d\\U0001f91d\\u200d\\U0001f468\\U0001f3ff|\\U0001f469\\U0001f3ff\\u200d\\U0001f91d\\u200d\\U0001f468\\U0001f3fb|\\U0001f469\\U0001f3ff\\u200d\\U0001f91d\\u200d\\U0001f468\\U0001f3fc|\\U0001f469\\U0001f3ff\\u200d\\U0001f91d\\u200d\\U0001f468\\U0001f3fd|\\U0001f469\\U0001f3ff\\u200d\\U0001f91d\\u200d\\U0001f468\\U0001f3fe|\\U0001f468\\U0001f3fc\\u200d\\U0001f91d\\u200d\\U0001f468\\U0001f3fb|\\U0001f468\\U0001f3fd\\u200d\\U0001f91d\\u200d\\U0001f468\\U0001f3fb|\\U0001f468\\U0001f3fd\\u200d\\U0001f91d\\u200d\\U0001f468\\U0001f3fc|\\U0001f468\\U0001f3fe\\u200d\\U0001f91d\\u200d\\U0001f468\\U0001f3fb|\\U0001f468\\U0001f3fe\\u200d\\U0001f91d\\u200d\\U0001f468\\U0001f3fc|\\U0001f468\\U0001f3fe\\u200d\\U0001f91d\\u200d\\U0001f468\\U0001f3fd|\\U0001f468\\U0001f3ff\\u200d\\U0001f91d\\u200d\\U0001f468\\U0001f3fb|\\U0001f468\\U0001f3ff\\u200d\\U0001f91d\\u200d\\U0001f468\\U0001f3fc|\\U0001f468\\U0001f3ff\\u200d\\U0001f91d\\u200d\\U0001f468\\U0001f3fd|\\U0001f468\\U0001f3ff\\u200d\\U0001f91d\\u200d\\U0001f468\\U0001f3fe|\\U0001f469\\u200d\\u2764\\u200d\\U0001f48b\\u200d\\U0001f468|\\U0001f468\\u200d\\u2764\\u200d\\U0001f48b\\u200d\\U0001f468|\\U0001f469\\u200d\\u2764\\u200d\\U0001f48b\\u200d\\U0001f469|\\U0001f468\\u200d\\U0001f469\\u200d\\U0001f467\\u200d\\U0001f466|\\U0001f468\\u200d\\U0001f469\\u200d\\U0001f466\\u200d\\U0001f466|\\U0001f468\\u200d\\U0001f469\\u200d\\U0001f467\\u200d\\U0001f467|\\U0001f468\\u200d\\U0001f468\\u200d\\U0001f467\\u200d\\U0001f466|\\U0001f468\\u200d\\U0001f468\\u200d\\U0001f466\\u200d\\U0001f466|\\U0001f468\\u200d\\U0001f468\\u200d\\U0001f467\\u200d\\U0001f467|\\U0001f469\\u200d\\U0001f469\\u200d\\U0001f467\\u200d\\U0001f466|\\U0001f469\\u200d\\U0001f469\\u200d\\U0001f466\\u200d\\U0001f466|\\U0001f469\\u200d\\U0001f469\\u200d\\U0001f467\\u200d\\U0001f467|\\U0001f3f4\\U000e0067\\U000e0062\\U000e0065\\U000e006e\\U000e0067\\U000e007f|\\U0001f3f4\\U000e0067\\U000e0062\\U000e0073\\U000e0063\\U000e0074\\U000e007f|\\U0001f3f4\\U000e0067\\U000e0062\\U000e0077\\U000e006c\\U000e0073\\U000e007f|\\U0001f469\\u200d\\u2764\\ufe0f\\u200d\\U0001f468|\\U0001f468\\u200d\\u2764\\ufe0f\\u200d\\U0001f468|\\U0001f469\\u200d\\u2764\\ufe0f\\u200d\\U0001f469|\\U0001f441\\ufe0f\\u200d\\U0001f5e8\\ufe0f|\\U0001f471\\U0001f3fb\\u200d\\u2642\\ufe0f|\\U0001f471\\U0001f3fc\\u200d\\u2642\\ufe0f|\\U0001f471\\U0001f3fd\\u200d\\u2642\\ufe0f|\\U0001f471\\U0001f3fe\\u200d\\u2642\\ufe0f|\\U0001f471\\U0001f3ff\\u200d\\u2642\\ufe0f|\\U0001f471\\U0001f3fb\\u200d\\u2640\\ufe0f|\\U0001f471\\U0001f3fc\\u200d\\u2640\\ufe0f|\\U0001f471\\U0001f3fd\\u200d\\u2640\\ufe0f|\\U0001f471\\U0001f3fe\\u200d\\u2640\\ufe0f|\\U0001f471\\U0001f3ff\\u200d\\u2640\\ufe0f|\\U0001f64d\\U0001f3fb\\u200d\\u2642\\ufe0f|\\U0001f64d\\U0001f3fc\\u200d\\u2642\\ufe0f|\\U0001f64d\\U0001f3fd\\u200d\\u2642\\ufe0f|\\U0001f64d\\U0001f3fe\\u200d\\u2642\\ufe0f|\\U0001f64d\\U0001f3ff\\u200d\\u2642\\ufe0f|\\U0001f64d\\U0001f3fb\\u200d\\u2640\\ufe0f|\\U0001f64d\\U0001f3fc\\u200d\\u2640\\ufe0f|\\U0001f64d\\U0001f3fd\\u200d\\u2640\\ufe0f|\\U0001f64d\\U0001f3fe\\u200d\\u2640\\ufe0f|\\U0001f64d\\U0001f3ff\\u200d\\u2640\\ufe0f|\\U0001f64e\\U0001f3fb\\u200d\\u2642\\ufe0f|\\U0001f64e\\U0001f3fc\\u200d\\u2642\\ufe0f|\\U0001f64e\\U0001f3fd\\u200d\\u2642\\ufe0f|\\U0001f64e\\U0001f3fe\\u200d\\u2642\\ufe0f|\\U0001f64e\\U0001f3ff\\u200d\\u2642\\ufe0f|\\U0001f64e\\U0001f3fb\\u200d\\u2640\\ufe0f|\\U0001f64e\\U0001f3fc\\u200d\\u2640\\ufe0f|\\U0001f64e\\U0001f3fd\\u200d\\u2640\\ufe0f|\\U0001f64e\\U0001f3fe\\u200d\\u2640\\ufe0f|\\U0001f64e\\U0001f3ff\\u200d\\u2640\\ufe0f|\\U0001f645\\U0001f3fb\\u200d\\u2642\\ufe0f|\\U0001f645\\U0001f3fc\\u200d\\u2642\\ufe0f|\\U0001f645\\U0001f3fd\\u200d\\u2642\\ufe0f|\\U0001f645\\U0001f3fe\\u200d\\u2642\\ufe0f|\\U0001f645\\U0001f3ff\\u200d\\u2642\\ufe0f|\\U0001f645\\U0001f3fb\\u200d\\u2640\\ufe0f|\\U0001f645\\U0001f3fc\\u200d\\u2640\\ufe0f|\\U0001f645\\U0001f3fd\\u200d\\u2640\\ufe0f|\\U0001f645\\U0001f3fe\\u200d\\u2640\\ufe0f|\\U0001f645\\U0001f3ff\\u200d\\u2640\\ufe0f|\\U0001f646\\U0001f3fb\\u200d\\u2642\\ufe0f|\\U0001f646\\U0001f3fc\\u200d\\u2642\\ufe0f|\\U0001f646\\U0001f3fd\\u200d\\u2642\\ufe0f|\\U0001f646\\U0001f3fe\\u200d\\u2642\\ufe0f|\\U0001f646\\U0001f3ff\\u200d\\u2642\\ufe0f|\\U0001f646\\U0001f3fb\\u200d\\u2640\\ufe0f|\\U0001f646\\U0001f3fc\\u200d\\u2640\\ufe0f|\\U0001f646\\U0001f3fd\\u200d\\u2640\\ufe0f|\\U0001f646\\U0001f3fe\\u200d\\u2640\\ufe0f|\\U0001f646\\U0001f3ff\\u200d\\u2640\\ufe0f|\\U0001f481\\U0001f3fb\\u200d\\u2642\\ufe0f|\\U0001f481\\U0001f3fc\\u200d\\u2642\\ufe0f|\\U0001f481\\U0001f3fd\\u200d\\u2642\\ufe0f|\\U0001f481\\U0001f3fe\\u200d\\u2642\\ufe0f|\\U0001f481\\U0001f3ff\\u200d\\u2642\\ufe0f|\\U0001f481\\U0001f3fb\\u200d\\u2640\\ufe0f|\\U0001f481\\U0001f3fc\\u200d\\u2640\\ufe0f|\\U0001f481\\U0001f3fd\\u200d\\u2640\\ufe0f|\\U0001f481\\U0001f3fe\\u200d\\u2640\\ufe0f|\\U0001f481\\U0001f3ff\\u200d\\u2640\\ufe0f|\\U0001f64b\\U0001f3fb\\u200d\\u2642\\ufe0f|\\U0001f64b\\U0001f3fc\\u200d\\u2642\\ufe0f|\\U0001f64b\\U0001f3fd\\u200d\\u2642\\ufe0f|\\U0001f64b\\U0001f3fe\\u200d\\u2642\\ufe0f|\\U0001f64b\\U0001f3ff\\u200d\\u2642\\ufe0f|\\U0001f64b\\U0001f3fb\\u200d\\u2640\\ufe0f|\\U0001f64b\\U0001f3fc\\u200d\\u2640\\ufe0f|\\U0001f64b\\U0001f3fd\\u200d\\u2640\\ufe0f|\\U0001f64b\\U0001f3fe\\u200d\\u2640\\ufe0f|\\U0001f64b\\U0001f3ff\\u200d\\u2640\\ufe0f|\\U0001f9cf\\U0001f3fb\\u200d\\u2642\\ufe0f|\\U0001f9cf\\U0001f3fc\\u200d\\u2642\\ufe0f|\\U0001f9cf\\U0001f3fd\\u200d\\u2642\\ufe0f|\\U0001f9cf\\U0001f3fe\\u200d\\u2642\\ufe0f|\\U0001f9cf\\U0001f3ff\\u200d\\u2642\\ufe0f|\\U0001f9cf\\U0001f3fb\\u200d\\u2640\\ufe0f|\\U0001f9cf\\U0001f3fc\\u200d\\u2640\\ufe0f|\\U0001f9cf\\U0001f3fd\\u200d\\u2640\\ufe0f|\\U0001f9cf\\U0001f3fe\\u200d\\u2640\\ufe0f|\\U0001f9cf\\U0001f3ff\\u200d\\u2640\\ufe0f|\\U0001f647\\U0001f3fb\\u200d\\u2642\\ufe0f|\\U0001f647\\U0001f3fc\\u200d\\u2642\\ufe0f|\\U0001f647\\U0001f3fd\\u200d\\u2642\\ufe0f|\\U0001f647\\U0001f3fe\\u200d\\u2642\\ufe0f|\\U0001f647\\U0001f3ff\\u200d\\u2642\\ufe0f|\\U0001f647\\U0001f3fb\\u200d\\u2640\\ufe0f|\\U0001f647\\U0001f3fc\\u200d\\u2640\\ufe0f|\\U0001f647\\U0001f3fd\\u200d\\u2640\\ufe0f|\\U0001f647\\U0001f3fe\\u200d\\u2640\\ufe0f|\\U0001f647\\U0001f3ff\\u200d\\u2640\\ufe0f|\\U0001f926\\U0001f3fb\\u200d\\u2642\\ufe0f|\\U0001f926\\U0001f3fc\\u200d\\u2642\\ufe0f|\\U0001f926\\U0001f3fd\\u200d\\u2642\\ufe0f|\\U0001f926\\U0001f3fe\\u200d\\u2642\\ufe0f|\\U0001f926\\U0001f3ff\\u200d\\u2642\\ufe0f|\\U0001f926\\U0001f3fb\\u200d\\u2640\\ufe0f|\\U0001f926\\U0001f3fc\\u200d\\u2640\\ufe0f|\\U0001f926\\U0001f3fd\\u200d\\u2640\\ufe0f|\\U0001f926\\U0001f3fe\\u200d\\u2640\\ufe0f|\\U0001f926\\U0001f3ff\\u200d\\u2640\\ufe0f|\\U0001f937\\U0001f3fb\\u200d\\u2642\\ufe0f|\\U0001f937\\U0001f3fc\\u200d\\u2642\\ufe0f|\\U0001f937\\U0001f3fd\\u200d\\u2642\\ufe0f|\\U0001f937\\U0001f3fe\\u200d\\u2642\\ufe0f|\\U0001f937\\U0001f3ff\\u200d\\u2642\\ufe0f|\\U0001f937\\U0001f3fb\\u200d\\u2640\\ufe0f|\\U0001f937\\U0001f3fc\\u200d\\u2640\\ufe0f|\\U0001f937\\U0001f3fd\\u200d\\u2640\\ufe0f|\\U0001f937\\U0001f3fe\\u200d\\u2640\\ufe0f|\\U0001f937\\U0001f3ff\\u200d\\u2640\\ufe0f|\\U0001f468\\U0001f3fb\\u200d\\u2695\\ufe0f|\\U0001f468\\U0001f3fc\\u200d\\u2695\\ufe0f|\\U0001f468\\U0001f3fd\\u200d\\u2695\\ufe0f|\\U0001f468\\U0001f3fe\\u200d\\u2695\\ufe0f|\\U0001f468\\U0001f3ff\\u200d\\u2695\\ufe0f|\\U0001f469\\U0001f3fb\\u200d\\u2695\\ufe0f|\\U0001f469\\U0001f3fc\\u200d\\u2695\\ufe0f|\\U0001f469\\U0001f3fd\\u200d\\u2695\\ufe0f|\\U0001f469\\U0001f3fe\\u200d\\u2695\\ufe0f|\\U0001f469\\U0001f3ff\\u200d\\u2695\\ufe0f|\\U0001f468\\U0001f3fb\\u200d\\u2696\\ufe0f|\\U0001f468\\U0001f3fc\\u200d\\u2696\\ufe0f|\\U0001f468\\U0001f3fd\\u200d\\u2696\\ufe0f|\\U0001f468\\U0001f3fe\\u200d\\u2696\\ufe0f|\\U0001f468\\U0001f3ff\\u200d\\u2696\\ufe0f|\\U0001f469\\U0001f3fb\\u200d\\u2696\\ufe0f|\\U0001f469\\U0001f3fc\\u200d\\u2696\\ufe0f|\\U0001f469\\U0001f3fd\\u200d\\u2696\\ufe0f|\\U0001f469\\U0001f3fe\\u200d\\u2696\\ufe0f|\\U0001f469\\U0001f3ff\\u200d\\u2696\\ufe0f|\\U0001f468\\U0001f3fb\\u200d\\u2708\\ufe0f|\\U0001f468\\U0001f3fc\\u200d\\u2708\\ufe0f|\\U0001f468\\U0001f3fd\\u200d\\u2708\\ufe0f|\\U0001f468\\U0001f3fe\\u200d\\u2708\\ufe0f|\\U0001f468\\U0001f3ff\\u200d\\u2708\\ufe0f|\\U0001f469\\U0001f3fb\\u200d\\u2708\\ufe0f|\\U0001f469\\U0001f3fc\\u200d\\u2708\\ufe0f|\\U0001f469\\U0001f3fd\\u200d\\u2708\\ufe0f|\\U0001f469\\U0001f3fe\\u200d\\u2708\\ufe0f|\\U0001f469\\U0001f3ff\\u200d\\u2708\\ufe0f|\\U0001f46e\\U0001f3fb\\u200d\\u2642\\ufe0f|\\U0001f46e\\U0001f3fc\\u200d\\u2642\\ufe0f|\\U0001f46e\\U0001f3fd\\u200d\\u2642\\ufe0f|\\U0001f46e\\U0001f3fe\\u200d\\u2642\\ufe0f|\\U0001f46e\\U0001f3ff\\u200d\\u2642\\ufe0f|\\U0001f46e\\U0001f3fb\\u200d\\u2640\\ufe0f|\\U0001f46e\\U0001f3fc\\u200d\\u2640\\ufe0f|\\U0001f46e\\U0001f3fd\\u200d\\u2640\\ufe0f|\\U0001f46e\\U0001f3fe\\u200d\\u2640\\ufe0f|\\U0001f46e\\U0001f3ff\\u200d\\u2640\\ufe0f|\\U0001f575\\ufe0f\\u200d\\u2642\\ufe0f|\\U0001f575\\U0001f3fb\\u200d\\u2642\\ufe0f|\\U0001f575\\U0001f3fc\\u200d\\u2642\\ufe0f|\\U0001f575\\U0001f3fd\\u200d\\u2642\\ufe0f|\\U0001f575\\U0001f3fe\\u200d\\u2642\\ufe0f|\\U0001f575\\U0001f3ff\\u200d\\u2642\\ufe0f|\\U0001f575\\ufe0f\\u200d\\u2640\\ufe0f|\\U0001f575\\U0001f3fb\\u200d\\u2640\\ufe0f|\\U0001f575\\U0001f3fc\\u200d\\u2640\\ufe0f|\\U0001f575\\U0001f3fd\\u200d\\u2640\\ufe0f|\\U0001f575\\U0001f3fe\\u200d\\u2640\\ufe0f|\\U0001f575\\U0001f3ff\\u200d\\u2640\\ufe0f|\\U0001f482\\U0001f3fb\\u200d\\u2642\\ufe0f|\\U0001f482\\U0001f3fc\\u200d\\u2642\\ufe0f|\\U0001f482\\U0001f3fd\\u200d\\u2642\\ufe0f|\\U0001f482\\U0001f3fe\\u200d\\u2642\\ufe0f|\\U0001f482\\U0001f3ff\\u200d\\u2642\\ufe0f|\\U0001f482\\U0001f3fb\\u200d\\u2640\\ufe0f|\\U0001f482\\U0001f3fc\\u200d\\u2640\\ufe0f|\\U0001f482\\U0001f3fd\\u200d\\u2640\\ufe0f|\\U0001f482\\U0001f3fe\\u200d\\u2640\\ufe0f|\\U0001f482\\U0001f3ff\\u200d\\u2640\\ufe0f|\\U0001f477\\U0001f3fb\\u200d\\u2642\\ufe0f|\\U0001f477\\U0001f3fc\\u200d\\u2642\\ufe0f|\\U0001f477\\U0001f3fd\\u200d\\u2642\\ufe0f|\\U0001f477\\U0001f3fe\\u200d\\u2642\\ufe0f|\\U0001f477\\U0001f3ff\\u200d\\u2642\\ufe0f|\\U0001f477\\U0001f3fb\\u200d\\u2640\\ufe0f|\\U0001f477\\U0001f3fc\\u200d\\u2640\\ufe0f|\\U0001f477\\U0001f3fd\\u200d\\u2640\\ufe0f|\\U0001f477\\U0001f3fe\\u200d\\u2640\\ufe0f|\\U0001f477\\U0001f3ff\\u200d\\u2640\\ufe0f|\\U0001f473\\U0001f3fb\\u200d\\u2642\\ufe0f|\\U0001f473\\U0001f3fc\\u200d\\u2642\\ufe0f|\\U0001f473\\U0001f3fd\\u200d\\u2642\\ufe0f|\\U0001f473\\U0001f3fe\\u200d\\u2642\\ufe0f|\\U0001f473\\U0001f3ff\\u200d\\u2642\\ufe0f|\\U0001f473\\U0001f3fb\\u200d\\u2640\\ufe0f|\\U0001f473\\U0001f3fc\\u200d\\u2640\\ufe0f|\\U0001f473\\U0001f3fd\\u200d\\u2640\\ufe0f|\\U0001f473\\U0001f3fe\\u200d\\u2640\\ufe0f|\\U0001f473\\U0001f3ff\\u200d\\u2640\\ufe0f|\\U0001f9b8\\U0001f3fb\\u200d\\u2642\\ufe0f|\\U0001f9b8\\U0001f3fc\\u200d\\u2642\\ufe0f|\\U0001f9b8\\U0001f3fd\\u200d\\u2642\\ufe0f|\\U0001f9b8\\U0001f3fe\\u200d\\u2642\\ufe0f|\\U0001f9b8\\U0001f3ff\\u200d\\u2642\\ufe0f|\\U0001f9b8\\U0001f3fb\\u200d\\u2640\\ufe0f|\\U0001f9b8\\U0001f3fc\\u200d\\u2640\\ufe0f|\\U0001f9b8\\U0001f3fd\\u200d\\u2640\\ufe0f|\\U0001f9b8\\U0001f3fe\\u200d\\u2640\\ufe0f|\\U0001f9b8\\U0001f3ff\\u200d\\u2640\\ufe0f|\\U0001f9b9\\U0001f3fb\\u200d\\u2642\\ufe0f|\\U0001f9b9\\U0001f3fc\\u200d\\u2642\\ufe0f|\\U0001f9b9\\U0001f3fd\\u200d\\u2642\\ufe0f|\\U0001f9b9\\U0001f3fe\\u200d\\u2642\\ufe0f|\\U0001f9b9\\U0001f3ff\\u200d\\u2642\\ufe0f|\\U0001f9b9\\U0001f3fb\\u200d\\u2640\\ufe0f|\\U0001f9b9\\U0001f3fc\\u200d\\u2640\\ufe0f|\\U0001f9b9\\U0001f3fd\\u200d\\u2640\\ufe0f|\\U0001f9b9\\U0001f3fe\\u200d\\u2640\\ufe0f|\\U0001f9b9\\U0001f3ff\\u200d\\u2640\\ufe0f|\\U0001f9d9\\U0001f3fb\\u200d\\u2642\\ufe0f|\\U0001f9d9\\U0001f3fc\\u200d\\u2642\\ufe0f|\\U0001f9d9\\U0001f3fd\\u200d\\u2642\\ufe0f|\\U0001f9d9\\U0001f3fe\\u200d\\u2642\\ufe0f|\\U0001f9d9\\U0001f3ff\\u200d\\u2642\\ufe0f|\\U0001f9d9\\U0001f3fb\\u200d\\u2640\\ufe0f|\\U0001f9d9\\U0001f3fc\\u200d\\u2640\\ufe0f|\\U0001f9d9\\U0001f3fd\\u200d\\u2640\\ufe0f|\\U0001f9d9\\U0001f3fe\\u200d\\u2640\\ufe0f|\\U0001f9d9\\U0001f3ff\\u200d\\u2640\\ufe0f|\\U0001f9da\\U0001f3fb\\u200d\\u2642\\ufe0f|\\U0001f9da\\U0001f3fc\\u200d\\u2642\\ufe0f|\\U0001f9da\\U0001f3fd\\u200d\\u2642\\ufe0f|\\U0001f9da\\U0001f3fe\\u200d\\u2642\\ufe0f|\\U0001f9da\\U0001f3ff\\u200d\\u2642\\ufe0f|\\U0001f9da\\U0001f3fb\\u200d\\u2640\\ufe0f|\\U0001f9da\\U0001f3fc\\u200d\\u2640\\ufe0f|\\U0001f9da\\U0001f3fd\\u200d\\u2640\\ufe0f|\\U0001f9da\\U0001f3fe\\u200d\\u2640\\ufe0f|\\U0001f9da\\U0001f3ff\\u200d\\u2640\\ufe0f|\\U0001f9db\\U0001f3fb\\u200d\\u2642\\ufe0f|\\U0001f9db\\U0001f3fc\\u200d\\u2642\\ufe0f|\\U0001f9db\\U0001f3fd\\u200d\\u2642\\ufe0f|\\U0001f9db\\U0001f3fe\\u200d\\u2642\\ufe0f|\\U0001f9db\\U0001f3ff\\u200d\\u2642\\ufe0f|\\U0001f9db\\U0001f3fb\\u200d\\u2640\\ufe0f|\\U0001f9db\\U0001f3fc\\u200d\\u2640\\ufe0f|\\U0001f9db\\U0001f3fd\\u200d\\u2640\\ufe0f|\\U0001f9db\\U0001f3fe\\u200d\\u2640\\ufe0f|\\U0001f9db\\U0001f3ff\\u200d\\u2640\\ufe0f|\\U0001f9dc\\U0001f3fb\\u200d\\u2642\\ufe0f|\\U0001f9dc\\U0001f3fc\\u200d\\u2642\\ufe0f|\\U0001f9dc\\U0001f3fd\\u200d\\u2642\\ufe0f|\\U0001f9dc\\U0001f3fe\\u200d\\u2642\\ufe0f|\\U0001f9dc\\U0001f3ff\\u200d\\u2642\\ufe0f|\\U0001f9dc\\U0001f3fb\\u200d\\u2640\\ufe0f|\\U0001f9dc\\U0001f3fc\\u200d\\u2640\\ufe0f|\\U0001f9dc\\U0001f3fd\\u200d\\u2640\\ufe0f|\\U0001f9dc\\U0001f3fe\\u200d\\u2640\\ufe0f|\\U0001f9dc\\U0001f3ff\\u200d\\u2640\\ufe0f|\\U0001f9dd\\U0001f3fb\\u200d\\u2642\\ufe0f|\\U0001f9dd\\U0001f3fc\\u200d\\u2642\\ufe0f|\\U0001f9dd\\U0001f3fd\\u200d\\u2642\\ufe0f|\\U0001f9dd\\U0001f3fe\\u200d\\u2642\\ufe0f|\\U0001f9dd\\U0001f3ff\\u200d\\u2642\\ufe0f|\\U0001f9dd\\U0001f3fb\\u200d\\u2640\\ufe0f|\\U0001f9dd\\U0001f3fc\\u200d\\u2640\\ufe0f|\\U0001f9dd\\U0001f3fd\\u200d\\u2640\\ufe0f|\\U0001f9dd\\U0001f3fe\\u200d\\u2640\\ufe0f|\\U0001f9dd\\U0001f3ff\\u200d\\u2640\\ufe0f|\\U0001f486\\U0001f3fb\\u200d\\u2642\\ufe0f|\\U0001f486\\U0001f3fc\\u200d\\u2642\\ufe0f|\\U0001f486\\U0001f3fd\\u200d\\u2642\\ufe0f|\\U0001f486\\U0001f3fe\\u200d\\u2642\\ufe0f|\\U0001f486\\U0001f3ff\\u200d\\u2642\\ufe0f|\\U0001f486\\U0001f3fb\\u200d\\u2640\\ufe0f|\\U0001f486\\U0001f3fc\\u200d\\u2640\\ufe0f|\\U0001f486\\U0001f3fd\\u200d\\u2640\\ufe0f|\\U0001f486\\U0001f3fe\\u200d\\u2640\\ufe0f|\\U0001f486\\U0001f3ff\\u200d\\u2640\\ufe0f|\\U0001f487\\U0001f3fb\\u200d\\u2642\\ufe0f|\\U0001f487\\U0001f3fc\\u200d\\u2642\\ufe0f|\\U0001f487\\U0001f3fd\\u200d\\u2642\\ufe0f|\\U0001f487\\U0001f3fe\\u200d\\u2642\\ufe0f|\\U0001f487\\U0001f3ff\\u200d\\u2642\\ufe0f|\\U0001f487\\U0001f3fb\\u200d\\u2640\\ufe0f|\\U0001f487\\U0001f3fc\\u200d\\u2640\\ufe0f|\\U0001f487\\U0001f3fd\\u200d\\u2640\\ufe0f|\\U0001f487\\U0001f3fe\\u200d\\u2640\\ufe0f|\\U0001f487\\U0001f3ff\\u200d\\u2640\\ufe0f|\\U0001f6b6\\U0001f3fb\\u200d\\u2642\\ufe0f|\\U0001f6b6\\U0001f3fc\\u200d\\u2642\\ufe0f|\\U0001f6b6\\U0001f3fd\\u200d\\u2642\\ufe0f|\\U0001f6b6\\U0001f3fe\\u200d\\u2642\\ufe0f|\\U0001f6b6\\U0001f3ff\\u200d\\u2642\\ufe0f|\\U0001f6b6\\U0001f3fb\\u200d\\u2640\\ufe0f|\\U0001f6b6\\U0001f3fc\\u200d\\u2640\\ufe0f|\\U0001f6b6\\U0001f3fd\\u200d\\u2640\\ufe0f|\\U0001f6b6\\U0001f3fe\\u200d\\u2640\\ufe0f|\\U0001f6b6\\U0001f3ff\\u200d\\u2640\\ufe0f|\\U0001f9cd\\U0001f3fb\\u200d\\u2642\\ufe0f|\\U0001f9cd\\U0001f3fc\\u200d\\u2642\\ufe0f|\\U0001f9cd\\U0001f3fd\\u200d\\u2642\\ufe0f|\\U0001f9cd\\U0001f3fe\\u200d\\u2642\\ufe0f|\\U0001f9cd\\U0001f3ff\\u200d\\u2642\\ufe0f|\\U0001f9cd\\U0001f3fb\\u200d\\u2640\\ufe0f|\\U0001f9cd\\U0001f3fc\\u200d\\u2640\\ufe0f|\\U0001f9cd\\U0001f3fd\\u200d\\u2640\\ufe0f|\\U0001f9cd\\U0001f3fe\\u200d\\u2640\\ufe0f|\\U0001f9cd\\U0001f3ff\\u200d\\u2640\\ufe0f|\\U0001f9ce\\U0001f3fb\\u200d\\u2642\\ufe0f|\\U0001f9ce\\U0001f3fc\\u200d\\u2642\\ufe0f|\\U0001f9ce\\U0001f3fd\\u200d\\u2642\\ufe0f|\\U0001f9ce\\U0001f3fe\\u200d\\u2642\\ufe0f|\\U0001f9ce\\U0001f3ff\\u200d\\u2642\\ufe0f|\\U0001f9ce\\U0001f3fb\\u200d\\u2640\\ufe0f|\\U0001f9ce\\U0001f3fc\\u200d\\u2640\\ufe0f|\\U0001f9ce\\U0001f3fd\\u200d\\u2640\\ufe0f|\\U0001f9ce\\U0001f3fe\\u200d\\u2640\\ufe0f|\\U0001f9ce\\U0001f3ff\\u200d\\u2640\\ufe0f|\\U0001f3c3\\U0001f3fb\\u200d\\u2642\\ufe0f|\\U0001f3c3\\U0001f3fc\\u200d\\u2642\\ufe0f|\\U0001f3c3\\U0001f3fd\\u200d\\u2642\\ufe0f|\\U0001f3c3\\U0001f3fe\\u200d\\u2642\\ufe0f|\\U0001f3c3\\U0001f3ff\\u200d\\u2642\\ufe0f|\\U0001f3c3\\U0001f3fb\\u200d\\u2640\\ufe0f|\\U0001f3c3\\U0001f3fc\\u200d\\u2640\\ufe0f|\\U0001f3c3\\U0001f3fd\\u200d\\u2640\\ufe0f|\\U0001f3c3\\U0001f3fe\\u200d\\u2640\\ufe0f|\\U0001f3c3\\U0001f3ff\\u200d\\u2640\\ufe0f|\\U0001f9d6\\U0001f3fb\\u200d\\u2642\\ufe0f|\\U0001f9d6\\U0001f3fc\\u200d\\u2642\\ufe0f|\\U0001f9d6\\U0001f3fd\\u200d\\u2642\\ufe0f|\\U0001f9d6\\U0001f3fe\\u200d\\u2642\\ufe0f|\\U0001f9d6\\U0001f3ff\\u200d\\u2642\\ufe0f|\\U0001f9d6\\U0001f3fb\\u200d\\u2640\\ufe0f|\\U0001f9d6\\U0001f3fc\\u200d\\u2640\\ufe0f|\\U0001f9d6\\U0001f3fd\\u200d\\u2640\\ufe0f|\\U0001f9d6\\U0001f3fe\\u200d\\u2640\\ufe0f|\\U0001f9d6\\U0001f3ff\\u200d\\u2640\\ufe0f|\\U0001f9d7\\U0001f3fb\\u200d\\u2642\\ufe0f|\\U0001f9d7\\U0001f3fc\\u200d\\u2642\\ufe0f|\\U0001f9d7\\U0001f3fd\\u200d\\u2642\\ufe0f|\\U0001f9d7\\U0001f3fe\\u200d\\u2642\\ufe0f|\\U0001f9d7\\U0001f3ff\\u200d\\u2642\\ufe0f|\\U0001f9d7\\U0001f3fb\\u200d\\u2640\\ufe0f|\\U0001f9d7\\U0001f3fc\\u200d\\u2640\\ufe0f|\\U0001f9d7\\U0001f3fd\\u200d\\u2640\\ufe0f|\\U0001f9d7\\U0001f3fe\\u200d\\u2640\\ufe0f|\\U0001f9d7\\U0001f3ff\\u200d\\u2640\\ufe0f|\\U0001f3cc\\ufe0f\\u200d\\u2642\\ufe0f|\\U0001f3cc\\U0001f3fb\\u200d\\u2642\\ufe0f|\\U0001f3cc\\U0001f3fc\\u200d\\u2642\\ufe0f|\\U0001f3cc\\U0001f3fd\\u200d\\u2642\\ufe0f|\\U0001f3cc\\U0001f3fe\\u200d\\u2642\\ufe0f|\\U0001f3cc\\U0001f3ff\\u200d\\u2642\\ufe0f|\\U0001f3cc\\ufe0f\\u200d\\u2640\\ufe0f|\\U0001f3cc\\U0001f3fb\\u200d\\u2640\\ufe0f|\\U0001f3cc\\U0001f3fc\\u200d\\u2640\\ufe0f|\\U0001f3cc\\U0001f3fd\\u200d\\u2640\\ufe0f|\\U0001f3cc\\U0001f3fe\\u200d\\u2640\\ufe0f|\\U0001f3cc\\U0001f3ff\\u200d\\u2640\\ufe0f|\\U0001f3c4\\U0001f3fb\\u200d\\u2642\\ufe0f|\\U0001f3c4\\U0001f3fc\\u200d\\u2642\\ufe0f|\\U0001f3c4\\U0001f3fd\\u200d\\u2642\\ufe0f|\\U0001f3c4\\U0001f3fe\\u200d\\u2642\\ufe0f|\\U0001f3c4\\U0001f3ff\\u200d\\u2642\\ufe0f|\\U0001f3c4\\U0001f3fb\\u200d\\u2640\\ufe0f|\\U0001f3c4\\U0001f3fc\\u200d\\u2640\\ufe0f|\\U0001f3c4\\U0001f3fd\\u200d\\u2640\\ufe0f|\\U0001f3c4\\U0001f3fe\\u200d\\u2640\\ufe0f|\\U0001f3c4\\U0001f3ff\\u200d\\u2640\\ufe0f|\\U0001f6a3\\U0001f3fb\\u200d\\u2642\\ufe0f|\\U0001f6a3\\U0001f3fc\\u200d\\u2642\\ufe0f|\\U0001f6a3\\U0001f3fd\\u200d\\u2642\\ufe0f|\\U0001f6a3\\U0001f3fe\\u200d\\u2642\\ufe0f|\\U0001f6a3\\U0001f3ff\\u200d\\u2642\\ufe0f|\\U0001f6a3\\U0001f3fb\\u200d\\u2640\\ufe0f|\\U0001f6a3\\U0001f3fc\\u200d\\u2640\\ufe0f|\\U0001f6a3\\U0001f3fd\\u200d\\u2640\\ufe0f|\\U0001f6a3\\U0001f3fe\\u200d\\u2640\\ufe0f|\\U0001f6a3\\U0001f3ff\\u200d\\u2640\\ufe0f|\\U0001f3ca\\U0001f3fb\\u200d\\u2642\\ufe0f|\\U0001f3ca\\U0001f3fc\\u200d\\u2642\\ufe0f|\\U0001f3ca\\U0001f3fd\\u200d\\u2642\\ufe0f|\\U0001f3ca\\U0001f3fe\\u200d\\u2642\\ufe0f|\\U0001f3ca\\U0001f3ff\\u200d\\u2642\\ufe0f|\\U0001f3ca\\U0001f3fb\\u200d\\u2640\\ufe0f|\\U0001f3ca\\U0001f3fc\\u200d\\u2640\\ufe0f|\\U0001f3ca\\U0001f3fd\\u200d\\u2640\\ufe0f|\\U0001f3ca\\U0001f3fe\\u200d\\u2640\\ufe0f|\\U0001f3ca\\U0001f3ff\\u200d\\u2640\\ufe0f|\\u26f9\\ufe0f\\u200d\\u2642\\ufe0f|\\u26f9\\U0001f3fb\\u200d\\u2642\\ufe0f|\\u26f9\\U0001f3fc\\u200d\\u2642\\ufe0f|\\u26f9\\U0001f3fd\\u200d\\u2642\\ufe0f|\\u26f9\\U0001f3fe\\u200d\\u2642\\ufe0f|\\u26f9\\U0001f3ff\\u200d\\u2642\\ufe0f|\\u26f9\\ufe0f\\u200d\\u2640\\ufe0f|\\u26f9\\U0001f3fb\\u200d\\u2640\\ufe0f|\\u26f9\\U0001f3fc\\u200d\\u2640\\ufe0f|\\u26f9\\U0001f3fd\\u200d\\u2640\\ufe0f|\\u26f9\\U0001f3fe\\u200d\\u2640\\ufe0f|\\u26f9\\U0001f3ff\\u200d\\u2640\\ufe0f|\\U0001f3cb\\ufe0f\\u200d\\u2642\\ufe0f|\\U0001f3cb\\U0001f3fb\\u200d\\u2642\\ufe0f|\\U0001f3cb\\U0001f3fc\\u200d\\u2642\\ufe0f|\\U0001f3cb\\U0001f3fd\\u200d\\u2642\\ufe0f|\\U0001f3cb\\U0001f3fe\\u200d\\u2642\\ufe0f|\\U0001f3cb\\U0001f3ff\\u200d\\u2642\\ufe0f|\\U0001f3cb\\ufe0f\\u200d\\u2640\\ufe0f|\\U0001f3cb\\U0001f3fb\\u200d\\u2640\\ufe0f|\\U0001f3cb\\U0001f3fc\\u200d\\u2640\\ufe0f|\\U0001f3cb\\U0001f3fd\\u200d\\u2640\\ufe0f|\\U0001f3cb\\U0001f3fe\\u200d\\u2640\\ufe0f|\\U0001f3cb\\U0001f3ff\\u200d\\u2640\\ufe0f|\\U0001f6b4\\U0001f3fb\\u200d\\u2642\\ufe0f|\\U0001f6b4\\U0001f3fc\\u200d\\u2642\\ufe0f|\\U0001f6b4\\U0001f3fd\\u200d\\u2642\\ufe0f|\\U0001f6b4\\U0001f3fe\\u200d\\u2642\\ufe0f|\\U0001f6b4\\U0001f3ff\\u200d\\u2642\\ufe0f|\\U0001f6b4\\U0001f3fb\\u200d\\u2640\\ufe0f|\\U0001f6b4\\U0001f3fc\\u200d\\u2640\\ufe0f|\\U0001f6b4\\U0001f3fd\\u200d\\u2640\\ufe0f|\\U0001f6b4\\U0001f3fe\\u200d\\u2640\\ufe0f|\\U0001f6b4\\U0001f3ff\\u200d\\u2640\\ufe0f|\\U0001f6b5\\U0001f3fb\\u200d\\u2642\\ufe0f|\\U0001f6b5\\U0001f3fc\\u200d\\u2642\\ufe0f|\\U0001f6b5\\U0001f3fd\\u200d\\u2642\\ufe0f|\\U0001f6b5\\U0001f3fe\\u200d\\u2642\\ufe0f|\\U0001f6b5\\U0001f3ff\\u200d\\u2642\\ufe0f|\\U0001f6b5\\U0001f3fb\\u200d\\u2640\\ufe0f|\\U0001f6b5\\U0001f3fc\\u200d\\u2640\\ufe0f|\\U0001f6b5\\U0001f3fd\\u200d\\u2640\\ufe0f|\\U0001f6b5\\U0001f3fe\\u200d\\u2640\\ufe0f|\\U0001f6b5\\U0001f3ff\\u200d\\u2640\\ufe0f|\\U0001f938\\U0001f3fb\\u200d\\u2642\\ufe0f|\\U0001f938\\U0001f3fc\\u200d\\u2642\\ufe0f|\\U0001f938\\U0001f3fd\\u200d\\u2642\\ufe0f|\\U0001f938\\U0001f3fe\\u200d\\u2642\\ufe0f|\\U0001f938\\U0001f3ff\\u200d\\u2642\\ufe0f|\\U0001f938\\U0001f3fb\\u200d\\u2640\\ufe0f|\\U0001f938\\U0001f3fc\\u200d\\u2640\\ufe0f|\\U0001f938\\U0001f3fd\\u200d\\u2640\\ufe0f|\\U0001f938\\U0001f3fe\\u200d\\u2640\\ufe0f|\\U0001f938\\U0001f3ff\\u200d\\u2640\\ufe0f|\\U0001f93d\\U0001f3fb\\u200d\\u2642\\ufe0f|\\U0001f93d\\U0001f3fc\\u200d\\u2642\\ufe0f|\\U0001f93d\\U0001f3fd\\u200d\\u2642\\ufe0f|\\U0001f93d\\U0001f3fe\\u200d\\u2642\\ufe0f|\\U0001f93d\\U0001f3ff\\u200d\\u2642\\ufe0f|\\U0001f93d\\U0001f3fb\\u200d\\u2640\\ufe0f|\\U0001f93d\\U0001f3fc\\u200d\\u2640\\ufe0f|\\U0001f93d\\U0001f3fd\\u200d\\u2640\\ufe0f|\\U0001f93d\\U0001f3fe\\u200d\\u2640\\ufe0f|\\U0001f93d\\U0001f3ff\\u200d\\u2640\\ufe0f|\\U0001f93e\\U0001f3fb\\u200d\\u2642\\ufe0f|\\U0001f93e\\U0001f3fc\\u200d\\u2642\\ufe0f|\\U0001f93e\\U0001f3fd\\u200d\\u2642\\ufe0f|\\U0001f93e\\U0001f3fe\\u200d\\u2642\\ufe0f|\\U0001f93e\\U0001f3ff\\u200d\\u2642\\ufe0f|\\U0001f93e\\U0001f3fb\\u200d\\u2640\\ufe0f|\\U0001f93e\\U0001f3fc\\u200d\\u2640\\ufe0f|\\U0001f93e\\U0001f3fd\\u200d\\u2640\\ufe0f|\\U0001f93e\\U0001f3fe\\u200d\\u2640\\ufe0f|\\U0001f93e\\U0001f3ff\\u200d\\u2640\\ufe0f|\\U0001f939\\U0001f3fb\\u200d\\u2642\\ufe0f|\\U0001f939\\U0001f3fc\\u200d\\u2642\\ufe0f|\\U0001f939\\U0001f3fd\\u200d\\u2642\\ufe0f|\\U0001f939\\U0001f3fe\\u200d\\u2642\\ufe0f|\\U0001f939\\U0001f3ff\\u200d\\u2642\\ufe0f|\\U0001f939\\U0001f3fb\\u200d\\u2640\\ufe0f|\\U0001f939\\U0001f3fc\\u200d\\u2640\\ufe0f|\\U0001f939\\U0001f3fd\\u200d\\u2640\\ufe0f|\\U0001f939\\U0001f3fe\\u200d\\u2640\\ufe0f|\\U0001f939\\U0001f3ff\\u200d\\u2640\\ufe0f|\\U0001f9d8\\U0001f3fb\\u200d\\u2642\\ufe0f|\\U0001f9d8\\U0001f3fc\\u200d\\u2642\\ufe0f|\\U0001f9d8\\U0001f3fd\\u200d\\u2642\\ufe0f|\\U0001f9d8\\U0001f3fe\\u200d\\u2642\\ufe0f|\\U0001f9d8\\U0001f3ff\\u200d\\u2642\\ufe0f|\\U0001f9d8\\U0001f3fb\\u200d\\u2640\\ufe0f|\\U0001f9d8\\U0001f3fc\\u200d\\u2640\\ufe0f|\\U0001f9d8\\U0001f3fd\\u200d\\u2640\\ufe0f|\\U0001f9d8\\U0001f3fe\\u200d\\u2640\\ufe0f|\\U0001f9d8\\U0001f3ff\\u200d\\u2640\\ufe0f|\\U0001f9d1\\u200d\\U0001f91d\\u200d\\U0001f9d1|\\U0001f469\\u200d\\u2764\\u200d\\U0001f468|\\U0001f468\\u200d\\u2764\\u200d\\U0001f468|\\U0001f469\\u200d\\u2764\\u200d\\U0001f469|\\U0001f468\\u200d\\U0001f469\\u200d\\U0001f466|\\U0001f468\\u200d\\U0001f469\\u200d\\U0001f467|\\U0001f468\\u200d\\U0001f468\\u200d\\U0001f466|\\U0001f468\\u200d\\U0001f468\\u200d\\U0001f467|\\U0001f469\\u200d\\U0001f469\\u200d\\U0001f466|\\U0001f469\\u200d\\U0001f469\\u200d\\U0001f467|\\U0001f468\\u200d\\U0001f466\\u200d\\U0001f466|\\U0001f468\\u200d\\U0001f467\\u200d\\U0001f466|\\U0001f468\\u200d\\U0001f467\\u200d\\U0001f467|\\U0001f469\\u200d\\U0001f466\\u200d\\U0001f466|\\U0001f469\\u200d\\U0001f467\\u200d\\U0001f466|\\U0001f469\\u200d\\U0001f467\\u200d\\U0001f467|\\U0001f441\\u200d\\U0001f5e8\\ufe0f|\\U0001f441\\ufe0f\\u200d\\U0001f5e8|\\U0001f471\\u200d\\u2642\\ufe0f|\\U0001f471\\U0001f3fb\\u200d\\u2642|\\U0001f471\\U0001f3fc\\u200d\\u2642|\\U0001f471\\U0001f3fd\\u200d\\u2642|\\U0001f471\\U0001f3fe\\u200d\\u2642|\\U0001f471\\U0001f3ff\\u200d\\u2642|\\U0001f468\\U0001f3fb\\u200d\\U0001f9b0|\\U0001f468\\U0001f3fc\\u200d\\U0001f9b0|\\U0001f468\\U0001f3fd\\u200d\\U0001f9b0|\\U0001f468\\U0001f3fe\\u200d\\U0001f9b0|\\U0001f468\\U0001f3ff\\u200d\\U0001f9b0|\\U0001f468\\U0001f3fb\\u200d\\U0001f9b1|\\U0001f468\\U0001f3fc\\u200d\\U0001f9b1|\\U0001f468\\U0001f3fd\\u200d\\U0001f9b1|\\U0001f468\\U0001f3fe\\u200d\\U0001f9b1|\\U0001f468\\U0001f3ff\\u200d\\U0001f9b1|\\U0001f468\\U0001f3fb\\u200d\\U0001f9b3|\\U0001f468\\U0001f3fc\\u200d\\U0001f9b3|\\U0001f468\\U0001f3fd\\u200d\\U0001f9b3|\\U0001f468\\U0001f3fe\\u200d\\U0001f9b3|\\U0001f468\\U0001f3ff\\u200d\\U0001f9b3|\\U0001f468\\U0001f3fb\\u200d\\U0001f9b2|\\U0001f468\\U0001f3fc\\u200d\\U0001f9b2|\\U0001f468\\U0001f3fd\\u200d\\U0001f9b2|\\U0001f468\\U0001f3fe\\u200d\\U0001f9b2|\\U0001f468\\U0001f3ff\\u200d\\U0001f9b2|\\U0001f471\\u200d\\u2640\\ufe0f|\\U0001f471\\U0001f3fb\\u200d\\u2640|\\U0001f471\\U0001f3fc\\u200d\\u2640|\\U0001f471\\U0001f3fd\\u200d\\u2640|\\U0001f471\\U0001f3fe\\u200d\\u2640|\\U0001f471\\U0001f3ff\\u200d\\u2640|\\U0001f469\\U0001f3fb\\u200d\\U0001f9b0|\\U0001f469\\U0001f3fc\\u200d\\U0001f9b0|\\U0001f469\\U0001f3fd\\u200d\\U0001f9b0|\\U0001f469\\U0001f3fe\\u200d\\U0001f9b0|\\U0001f469\\U0001f3ff\\u200d\\U0001f9b0|\\U0001f469\\U0001f3fb\\u200d\\U0001f9b1|\\U0001f469\\U0001f3fc\\u200d\\U0001f9b1|\\U0001f469\\U0001f3fd\\u200d\\U0001f9b1|\\U0001f469\\U0001f3fe\\u200d\\U0001f9b1|\\U0001f469\\U0001f3ff\\u200d\\U0001f9b1|\\U0001f469\\U0001f3fb\\u200d\\U0001f9b3|\\U0001f469\\U0001f3fc\\u200d\\U0001f9b3|\\U0001f469\\U0001f3fd\\u200d\\U0001f9b3|\\U0001f469\\U0001f3fe\\u200d\\U0001f9b3|\\U0001f469\\U0001f3ff\\u200d\\U0001f9b3|\\U0001f469\\U0001f3fb\\u200d\\U0001f9b2|\\U0001f469\\U0001f3fc\\u200d\\U0001f9b2|\\U0001f469\\U0001f3fd\\u200d\\U0001f9b2|\\U0001f469\\U0001f3fe\\u200d\\U0001f9b2|\\U0001f469\\U0001f3ff\\u200d\\U0001f9b2|\\U0001f64d\\u200d\\u2642\\ufe0f|\\U0001f64d\\U0001f3fb\\u200d\\u2642|\\U0001f64d\\U0001f3fc\\u200d\\u2642|\\U0001f64d\\U0001f3fd\\u200d\\u2642|\\U0001f64d\\U0001f3fe\\u200d\\u2642|\\U0001f64d\\U0001f3ff\\u200d\\u2642|\\U0001f64d\\u200d\\u2640\\ufe0f|\\U0001f64d\\U0001f3fb\\u200d\\u2640|\\U0001f64d\\U0001f3fc\\u200d\\u2640|\\U0001f64d\\U0001f3fd\\u200d\\u2640|\\U0001f64d\\U0001f3fe\\u200d\\u2640|\\U0001f64d\\U0001f3ff\\u200d\\u2640|\\U0001f64e\\u200d\\u2642\\ufe0f|\\U0001f64e\\U0001f3fb\\u200d\\u2642|\\U0001f64e\\U0001f3fc\\u200d\\u2642|\\U0001f64e\\U0001f3fd\\u200d\\u2642|\\U0001f64e\\U0001f3fe\\u200d\\u2642|\\U0001f64e\\U0001f3ff\\u200d\\u2642|\\U0001f64e\\u200d\\u2640\\ufe0f|\\U0001f64e\\U0001f3fb\\u200d\\u2640|\\U0001f64e\\U0001f3fc\\u200d\\u2640|\\U0001f64e\\U0001f3fd\\u200d\\u2640|\\U0001f64e\\U0001f3fe\\u200d\\u2640|\\U0001f64e\\U0001f3ff\\u200d\\u2640|\\U0001f645\\u200d\\u2642\\ufe0f|\\U0001f645\\U0001f3fb\\u200d\\u2642|\\U0001f645\\U0001f3fc\\u200d\\u2642|\\U0001f645\\U0001f3fd\\u200d\\u2642|\\U0001f645\\U0001f3fe\\u200d\\u2642|\\U0001f645\\U0001f3ff\\u200d\\u2642|\\U0001f645\\u200d\\u2640\\ufe0f|\\U0001f645\\U0001f3fb\\u200d\\u2640|\\U0001f645\\U0001f3fc\\u200d\\u2640|\\U0001f645\\U0001f3fd\\u200d\\u2640|\\U0001f645\\U0001f3fe\\u200d\\u2640|\\U0001f645\\U0001f3ff\\u200d\\u2640|\\U0001f646\\u200d\\u2642\\ufe0f|\\U0001f646\\U0001f3fb\\u200d\\u2642|\\U0001f646\\U0001f3fc\\u200d\\u2642|\\U0001f646\\U0001f3fd\\u200d\\u2642|\\U0001f646\\U0001f3fe\\u200d\\u2642|\\U0001f646\\U0001f3ff\\u200d\\u2642|\\U0001f646\\u200d\\u2640\\ufe0f|\\U0001f646\\U0001f3fb\\u200d\\u2640|\\U0001f646\\U0001f3fc\\u200d\\u2640|\\U0001f646\\U0001f3fd\\u200d\\u2640|\\U0001f646\\U0001f3fe\\u200d\\u2640|\\U0001f646\\U0001f3ff\\u200d\\u2640|\\U0001f481\\u200d\\u2642\\ufe0f|\\U0001f481\\U0001f3fb\\u200d\\u2642|\\U0001f481\\U0001f3fc\\u200d\\u2642|\\U0001f481\\U0001f3fd\\u200d\\u2642|\\U0001f481\\U0001f3fe\\u200d\\u2642|\\U0001f481\\U0001f3ff\\u200d\\u2642|\\U0001f481\\u200d\\u2640\\ufe0f|\\U0001f481\\U0001f3fb\\u200d\\u2640|\\U0001f481\\U0001f3fc\\u200d\\u2640|\\U0001f481\\U0001f3fd\\u200d\\u2640|\\U0001f481\\U0001f3fe\\u200d\\u2640|\\U0001f481\\U0001f3ff\\u200d\\u2640|\\U0001f64b\\u200d\\u2642\\ufe0f|\\U0001f64b\\U0001f3fb\\u200d\\u2642|\\U0001f64b\\U0001f3fc\\u200d\\u2642|\\U0001f64b\\U0001f3fd\\u200d\\u2642|\\U0001f64b\\U0001f3fe\\u200d\\u2642|\\U0001f64b\\U0001f3ff\\u200d\\u2642|\\U0001f64b\\u200d\\u2640\\ufe0f|\\U0001f64b\\U0001f3fb\\u200d\\u2640|\\U0001f64b\\U0001f3fc\\u200d\\u2640|\\U0001f64b\\U0001f3fd\\u200d\\u2640|\\U0001f64b\\U0001f3fe\\u200d\\u2640|\\U0001f64b\\U0001f3ff\\u200d\\u2640|\\U0001f9cf\\u200d\\u2642\\ufe0f|\\U0001f9cf\\U0001f3fb\\u200d\\u2642|\\U0001f9cf\\U0001f3fc\\u200d\\u2642|\\U0001f9cf\\U0001f3fd\\u200d\\u2642|\\U0001f9cf\\U0001f3fe\\u200d\\u2642|\\U0001f9cf\\U0001f3ff\\u200d\\u2642|\\U0001f9cf\\u200d\\u2640\\ufe0f|\\U0001f9cf\\U0001f3fb\\u200d\\u2640|\\U0001f9cf\\U0001f3fc\\u200d\\u2640|\\U0001f9cf\\U0001f3fd\\u200d\\u2640|\\U0001f9cf\\U0001f3fe\\u200d\\u2640|\\U0001f9cf\\U0001f3ff\\u200d\\u2640|\\U0001f647\\u200d\\u2642\\ufe0f|\\U0001f647\\U0001f3fb\\u200d\\u2642|\\U0001f647\\U0001f3fc\\u200d\\u2642|\\U0001f647\\U0001f3fd\\u200d\\u2642|\\U0001f647\\U0001f3fe\\u200d\\u2642|\\U0001f647\\U0001f3ff\\u200d\\u2642|\\U0001f647\\u200d\\u2640\\ufe0f|\\U0001f647\\U0001f3fb\\u200d\\u2640|\\U0001f647\\U0001f3fc\\u200d\\u2640|\\U0001f647\\U0001f3fd\\u200d\\u2640|\\U0001f647\\U0001f3fe\\u200d\\u2640|\\U0001f647\\U0001f3ff\\u200d\\u2640|\\U0001f926\\u200d\\u2642\\ufe0f|\\U0001f926\\U0001f3fb\\u200d\\u2642|\\U0001f926\\U0001f3fc\\u200d\\u2642|\\U0001f926\\U0001f3fd\\u200d\\u2642|\\U0001f926\\U0001f3fe\\u200d\\u2642|\\U0001f926\\U0001f3ff\\u200d\\u2642|\\U0001f926\\u200d\\u2640\\ufe0f|\\U0001f926\\U0001f3fb\\u200d\\u2640|\\U0001f926\\U0001f3fc\\u200d\\u2640|\\U0001f926\\U0001f3fd\\u200d\\u2640|\\U0001f926\\U0001f3fe\\u200d\\u2640|\\U0001f926\\U0001f3ff\\u200d\\u2640|\\U0001f937\\u200d\\u2642\\ufe0f|\\U0001f937\\U0001f3fb\\u200d\\u2642|\\U0001f937\\U0001f3fc\\u200d\\u2642|\\U0001f937\\U0001f3fd\\u200d\\u2642|\\U0001f937\\U0001f3fe\\u200d\\u2642|\\U0001f937\\U0001f3ff\\u200d\\u2642|\\U0001f937\\u200d\\u2640\\ufe0f|\\U0001f937\\U0001f3fb\\u200d\\u2640|\\U0001f937\\U0001f3fc\\u200d\\u2640|\\U0001f937\\U0001f3fd\\u200d\\u2640|\\U0001f937\\U0001f3fe\\u200d\\u2640|\\U0001f937\\U0001f3ff\\u200d\\u2640|\\U0001f468\\u200d\\u2695\\ufe0f|\\U0001f468\\U0001f3fb\\u200d\\u2695|\\U0001f468\\U0001f3fc\\u200d\\u2695|\\U0001f468\\U0001f3fd\\u200d\\u2695|\\U0001f468\\U0001f3fe\\u200d\\u2695|\\U0001f468\\U0001f3ff\\u200d\\u2695|\\U0001f469\\u200d\\u2695\\ufe0f|\\U0001f469\\U0001f3fb\\u200d\\u2695|\\U0001f469\\U0001f3fc\\u200d\\u2695|\\U0001f469\\U0001f3fd\\u200d\\u2695|\\U0001f469\\U0001f3fe\\u200d\\u2695|\\U0001f469\\U0001f3ff\\u200d\\u2695|\\U0001f468\\U0001f3fb\\u200d\\U0001f393|\\U0001f468\\U0001f3fc\\u200d\\U0001f393|\\U0001f468\\U0001f3fd\\u200d\\U0001f393|\\U0001f468\\U0001f3fe\\u200d\\U0001f393|\\U0001f468\\U0001f3ff\\u200d\\U0001f393|\\U0001f469\\U0001f3fb\\u200d\\U0001f393|\\U0001f469\\U0001f3fc\\u200d\\U0001f393|\\U0001f469\\U0001f3fd\\u200d\\U0001f393|\\U0001f469\\U0001f3fe\\u200d\\U0001f393|\\U0001f469\\U0001f3ff\\u200d\\U0001f393|\\U0001f468\\U0001f3fb\\u200d\\U0001f3eb|\\U0001f468\\U0001f3fc\\u200d\\U0001f3eb|\\U0001f468\\U0001f3fd\\u200d\\U0001f3eb|\\U0001f468\\U0001f3fe\\u200d\\U0001f3eb|\\U0001f468\\U0001f3ff\\u200d\\U0001f3eb|\\U0001f469\\U0001f3fb\\u200d\\U0001f3eb|\\U0001f469\\U0001f3fc\\u200d\\U0001f3eb|\\U0001f469\\U0001f3fd\\u200d\\U0001f3eb|\\U0001f469\\U0001f3fe\\u200d\\U0001f3eb|\\U0001f469\\U0001f3ff\\u200d\\U0001f3eb|\\U0001f468\\u200d\\u2696\\ufe0f|\\U0001f468\\U0001f3fb\\u200d\\u2696|\\U0001f468\\U0001f3fc\\u200d\\u2696|\\U0001f468\\U0001f3fd\\u200d\\u2696|\\U0001f468\\U0001f3fe\\u200d\\u2696|\\U0001f468\\U0001f3ff\\u200d\\u2696|\\U0001f469\\u200d\\u2696\\ufe0f|\\U0001f469\\U0001f3fb\\u200d\\u2696|\\U0001f469\\U0001f3fc\\u200d\\u2696|\\U0001f469\\U0001f3fd\\u200d\\u2696|\\U0001f469\\U0001f3fe\\u200d\\u2696|\\U0001f469\\U0001f3ff\\u200d\\u2696|\\U0001f468\\U0001f3fb\\u200d\\U0001f33e|\\U0001f468\\U0001f3fc\\u200d\\U0001f33e|\\U0001f468\\U0001f3fd\\u200d\\U0001f33e|\\U0001f468\\U0001f3fe\\u200d\\U0001f33e|\\U0001f468\\U0001f3ff\\u200d\\U0001f33e|\\U0001f469\\U0001f3fb\\u200d\\U0001f33e|\\U0001f469\\U0001f3fc\\u200d\\U0001f33e|\\U0001f469\\U0001f3fd\\u200d\\U0001f33e|\\U0001f469\\U0001f3fe\\u200d\\U0001f33e|\\U0001f469\\U0001f3ff\\u200d\\U0001f33e|\\U0001f468\\U0001f3fb\\u200d\\U0001f373|\\U0001f468\\U0001f3fc\\u200d\\U0001f373|\\U0001f468\\U0001f3fd\\u200d\\U0001f373|\\U0001f468\\U0001f3fe\\u200d\\U0001f373|\\U0001f468\\U0001f3ff\\u200d\\U0001f373|\\U0001f469\\U0001f3fb\\u200d\\U0001f373|\\U0001f469\\U0001f3fc\\u200d\\U0001f373|\\U0001f469\\U0001f3fd\\u200d\\U0001f373|\\U0001f469\\U0001f3fe\\u200d\\U0001f373|\\U0001f469\\U0001f3ff\\u200d\\U0001f373|\\U0001f468\\U0001f3fb\\u200d\\U0001f527|\\U0001f468\\U0001f3fc\\u200d\\U0001f527|\\U0001f468\\U0001f3fd\\u200d\\U0001f527|\\U0001f468\\U0001f3fe\\u200d\\U0001f527|\\U0001f468\\U0001f3ff\\u200d\\U0001f527|\\U0001f469\\U0001f3fb\\u200d\\U0001f527|\\U0001f469\\U0001f3fc\\u200d\\U0001f527|\\U0001f469\\U0001f3fd\\u200d\\U0001f527|\\U0001f469\\U0001f3fe\\u200d\\U0001f527|\\U0001f469\\U0001f3ff\\u200d\\U0001f527|\\U0001f468\\U0001f3fb\\u200d\\U0001f3ed|\\U0001f468\\U0001f3fc\\u200d\\U0001f3ed|\\U0001f468\\U0001f3fd\\u200d\\U0001f3ed|\\U0001f468\\U0001f3fe\\u200d\\U0001f3ed|\\U0001f468\\U0001f3ff\\u200d\\U0001f3ed|\\U0001f469\\U0001f3fb\\u200d\\U0001f3ed|\\U0001f469\\U0001f3fc\\u200d\\U0001f3ed|\\U0001f469\\U0001f3fd\\u200d\\U0001f3ed|\\U0001f469\\U0001f3fe\\u200d\\U0001f3ed|\\U0001f469\\U0001f3ff\\u200d\\U0001f3ed|\\U0001f468\\U0001f3fb\\u200d\\U0001f4bc|\\U0001f468\\U0001f3fc\\u200d\\U0001f4bc|\\U0001f468\\U0001f3fd\\u200d\\U0001f4bc|\\U0001f468\\U0001f3fe\\u200d\\U0001f4bc|\\U0001f468\\U0001f3ff\\u200d\\U0001f4bc|\\U0001f469\\U0001f3fb\\u200d\\U0001f4bc|\\U0001f469\\U0001f3fc\\u200d\\U0001f4bc|\\U0001f469\\U0001f3fd\\u200d\\U0001f4bc|\\U0001f469\\U0001f3fe\\u200d\\U0001f4bc|\\U0001f469\\U0001f3ff\\u200d\\U0001f4bc|\\U0001f468\\U0001f3fb\\u200d\\U0001f52c|\\U0001f468\\U0001f3fc\\u200d\\U0001f52c|\\U0001f468\\U0001f3fd\\u200d\\U0001f52c|\\U0001f468\\U0001f3fe\\u200d\\U0001f52c|\\U0001f468\\U0001f3ff\\u200d\\U0001f52c|\\U0001f469\\U0001f3fb\\u200d\\U0001f52c|\\U0001f469\\U0001f3fc\\u200d\\U0001f52c|\\U0001f469\\U0001f3fd\\u200d\\U0001f52c|\\U0001f469\\U0001f3fe\\u200d\\U0001f52c|\\U0001f469\\U0001f3ff\\u200d\\U0001f52c|\\U0001f468\\U0001f3fb\\u200d\\U0001f4bb|\\U0001f468\\U0001f3fc\\u200d\\U0001f4bb|\\U0001f468\\U0001f3fd\\u200d\\U0001f4bb|\\U0001f468\\U0001f3fe\\u200d\\U0001f4bb|\\U0001f468\\U0001f3ff\\u200d\\U0001f4bb|\\U0001f469\\U0001f3fb\\u200d\\U0001f4bb|\\U0001f469\\U0001f3fc\\u200d\\U0001f4bb|\\U0001f469\\U0001f3fd\\u200d\\U0001f4bb|\\U0001f469\\U0001f3fe\\u200d\\U0001f4bb|\\U0001f469\\U0001f3ff\\u200d\\U0001f4bb|\\U0001f468\\U0001f3fb\\u200d\\U0001f3a4|\\U0001f468\\U0001f3fc\\u200d\\U0001f3a4|\\U0001f468\\U0001f3fd\\u200d\\U0001f3a4|\\U0001f468\\U0001f3fe\\u200d\\U0001f3a4|\\U0001f468\\U0001f3ff\\u200d\\U0001f3a4|\\U0001f469\\U0001f3fb\\u200d\\U0001f3a4|\\U0001f469\\U0001f3fc\\u200d\\U0001f3a4|\\U0001f469\\U0001f3fd\\u200d\\U0001f3a4|\\U0001f469\\U0001f3fe\\u200d\\U0001f3a4|\\U0001f469\\U0001f3ff\\u200d\\U0001f3a4|\\U0001f468\\U0001f3fb\\u200d\\U0001f3a8|\\U0001f468\\U0001f3fc\\u200d\\U0001f3a8|\\U0001f468\\U0001f3fd\\u200d\\U0001f3a8|\\U0001f468\\U0001f3fe\\u200d\\U0001f3a8|\\U0001f468\\U0001f3ff\\u200d\\U0001f3a8|\\U0001f469\\U0001f3fb\\u200d\\U0001f3a8|\\U0001f469\\U0001f3fc\\u200d\\U0001f3a8|\\U0001f469\\U0001f3fd\\u200d\\U0001f3a8|\\U0001f469\\U0001f3fe\\u200d\\U0001f3a8|\\U0001f469\\U0001f3ff\\u200d\\U0001f3a8|\\U0001f468\\u200d\\u2708\\ufe0f|\\U0001f468\\U0001f3fb\\u200d\\u2708|\\U0001f468\\U0001f3fc\\u200d\\u2708|\\U0001f468\\U0001f3fd\\u200d\\u2708|\\U0001f468\\U0001f3fe\\u200d\\u2708|\\U0001f468\\U0001f3ff\\u200d\\u2708|\\U0001f469\\u200d\\u2708\\ufe0f|\\U0001f469\\U0001f3fb\\u200d\\u2708|\\U0001f469\\U0001f3fc\\u200d\\u2708|\\U0001f469\\U0001f3fd\\u200d\\u2708|\\U0001f469\\U0001f3fe\\u200d\\u2708|\\U0001f469\\U0001f3ff\\u200d\\u2708|\\U0001f468\\U0001f3fb\\u200d\\U0001f680|\\U0001f468\\U0001f3fc\\u200d\\U0001f680|\\U0001f468\\U0001f3fd\\u200d\\U0001f680|\\U0001f468\\U0001f3fe\\u200d\\U0001f680|\\U0001f468\\U0001f3ff\\u200d\\U0001f680|\\U0001f469\\U0001f3fb\\u200d\\U0001f680|\\U0001f469\\U0001f3fc\\u200d\\U0001f680|\\U0001f469\\U0001f3fd\\u200d\\U0001f680|\\U0001f469\\U0001f3fe\\u200d\\U0001f680|\\U0001f469\\U0001f3ff\\u200d\\U0001f680|\\U0001f468\\U0001f3fb\\u200d\\U0001f692|\\U0001f468\\U0001f3fc\\u200d\\U0001f692|\\U0001f468\\U0001f3fd\\u200d\\U0001f692|\\U0001f468\\U0001f3fe\\u200d\\U0001f692|\\U0001f468\\U0001f3ff\\u200d\\U0001f692|\\U0001f469\\U0001f3fb\\u200d\\U0001f692|\\U0001f469\\U0001f3fc\\u200d\\U0001f692|\\U0001f469\\U0001f3fd\\u200d\\U0001f692|\\U0001f469\\U0001f3fe\\u200d\\U0001f692|\\U0001f469\\U0001f3ff\\u200d\\U0001f692|\\U0001f46e\\u200d\\u2642\\ufe0f|\\U0001f46e\\U0001f3fb\\u200d\\u2642|\\U0001f46e\\U0001f3fc\\u200d\\u2642|\\U0001f46e\\U0001f3fd\\u200d\\u2642|\\U0001f46e\\U0001f3fe\\u200d\\u2642|\\U0001f46e\\U0001f3ff\\u200d\\u2642|\\U0001f46e\\u200d\\u2640\\ufe0f|\\U0001f46e\\U0001f3fb\\u200d\\u2640|\\U0001f46e\\U0001f3fc\\u200d\\u2640|\\U0001f46e\\U0001f3fd\\u200d\\u2640|\\U0001f46e\\U0001f3fe\\u200d\\u2640|\\U0001f46e\\U0001f3ff\\u200d\\u2640|\\U0001f575\\u200d\\u2642\\ufe0f|\\U0001f575\\ufe0f\\u200d\\u2642|\\U0001f575\\U0001f3fb\\u200d\\u2642|\\U0001f575\\U0001f3fc\\u200d\\u2642|\\U0001f575\\U0001f3fd\\u200d\\u2642|\\U0001f575\\U0001f3fe\\u200d\\u2642|\\U0001f575\\U0001f3ff\\u200d\\u2642|\\U0001f575\\u200d\\u2640\\ufe0f|\\U0001f575\\ufe0f\\u200d\\u2640|\\U0001f575\\U0001f3fb\\u200d\\u2640|\\U0001f575\\U0001f3fc\\u200d\\u2640|\\U0001f575\\U0001f3fd\\u200d\\u2640|\\U0001f575\\U0001f3fe\\u200d\\u2640|\\U0001f575\\U0001f3ff\\u200d\\u2640|\\U0001f482\\u200d\\u2642\\ufe0f|\\U0001f482\\U0001f3fb\\u200d\\u2642|\\U0001f482\\U0001f3fc\\u200d\\u2642|\\U0001f482\\U0001f3fd\\u200d\\u2642|\\U0001f482\\U0001f3fe\\u200d\\u2642|\\U0001f482\\U0001f3ff\\u200d\\u2642|\\U0001f482\\u200d\\u2640\\ufe0f|\\U0001f482\\U0001f3fb\\u200d\\u2640|\\U0001f482\\U0001f3fc\\u200d\\u2640|\\U0001f482\\U0001f3fd\\u200d\\u2640|\\U0001f482\\U0001f3fe\\u200d\\u2640|\\U0001f482\\U0001f3ff\\u200d\\u2640|\\U0001f477\\u200d\\u2642\\ufe0f|\\U0001f477\\U0001f3fb\\u200d\\u2642|\\U0001f477\\U0001f3fc\\u200d\\u2642|\\U0001f477\\U0001f3fd\\u200d\\u2642|\\U0001f477\\U0001f3fe\\u200d\\u2642|\\U0001f477\\U0001f3ff\\u200d\\u2642|\\U0001f477\\u200d\\u2640\\ufe0f|\\U0001f477\\U0001f3fb\\u200d\\u2640|\\U0001f477\\U0001f3fc\\u200d\\u2640|\\U0001f477\\U0001f3fd\\u200d\\u2640|\\U0001f477\\U0001f3fe\\u200d\\u2640|\\U0001f477\\U0001f3ff\\u200d\\u2640|\\U0001f473\\u200d\\u2642\\ufe0f|\\U0001f473\\U0001f3fb\\u200d\\u2642|\\U0001f473\\U0001f3fc\\u200d\\u2642|\\U0001f473\\U0001f3fd\\u200d\\u2642|\\U0001f473\\U0001f3fe\\u200d\\u2642|\\U0001f473\\U0001f3ff\\u200d\\u2642|\\U0001f473\\u200d\\u2640\\ufe0f|\\U0001f473\\U0001f3fb\\u200d\\u2640|\\U0001f473\\U0001f3fc\\u200d\\u2640|\\U0001f473\\U0001f3fd\\u200d\\u2640|\\U0001f473\\U0001f3fe\\u200d\\u2640|\\U0001f473\\U0001f3ff\\u200d\\u2640|\\U0001f9b8\\u200d\\u2642\\ufe0f|\\U0001f9b8\\U0001f3fb\\u200d\\u2642|\\U0001f9b8\\U0001f3fc\\u200d\\u2642|\\U0001f9b8\\U0001f3fd\\u200d\\u2642|\\U0001f9b8\\U0001f3fe\\u200d\\u2642|\\U0001f9b8\\U0001f3ff\\u200d\\u2642|\\U0001f9b8\\u200d\\u2640\\ufe0f|\\U0001f9b8\\U0001f3fb\\u200d\\u2640|\\U0001f9b8\\U0001f3fc\\u200d\\u2640|\\U0001f9b8\\U0001f3fd\\u200d\\u2640|\\U0001f9b8\\U0001f3fe\\u200d\\u2640|\\U0001f9b8\\U0001f3ff\\u200d\\u2640|\\U0001f9b9\\u200d\\u2642\\ufe0f|\\U0001f9b9\\U0001f3fb\\u200d\\u2642|\\U0001f9b9\\U0001f3fc\\u200d\\u2642|\\U0001f9b9\\U0001f3fd\\u200d\\u2642|\\U0001f9b9\\U0001f3fe\\u200d\\u2642|\\U0001f9b9\\U0001f3ff\\u200d\\u2642|\\U0001f9b9\\u200d\\u2640\\ufe0f|\\U0001f9b9\\U0001f3fb\\u200d\\u2640|\\U0001f9b9\\U0001f3fc\\u200d\\u2640|\\U0001f9b9\\U0001f3fd\\u200d\\u2640|\\U0001f9b9\\U0001f3fe\\u200d\\u2640|\\U0001f9b9\\U0001f3ff\\u200d\\u2640|\\U0001f9d9\\u200d\\u2642\\ufe0f|\\U0001f9d9\\U0001f3fb\\u200d\\u2642|\\U0001f9d9\\U0001f3fc\\u200d\\u2642|\\U0001f9d9\\U0001f3fd\\u200d\\u2642|\\U0001f9d9\\U0001f3fe\\u200d\\u2642|\\U0001f9d9\\U0001f3ff\\u200d\\u2642|\\U0001f9d9\\u200d\\u2640\\ufe0f|\\U0001f9d9\\U0001f3fb\\u200d\\u2640|\\U0001f9d9\\U0001f3fc\\u200d\\u2640|\\U0001f9d9\\U0001f3fd\\u200d\\u2640|\\U0001f9d9\\U0001f3fe\\u200d\\u2640|\\U0001f9d9\\U0001f3ff\\u200d\\u2640|\\U0001f9da\\u200d\\u2642\\ufe0f|\\U0001f9da\\U0001f3fb\\u200d\\u2642|\\U0001f9da\\U0001f3fc\\u200d\\u2642|\\U0001f9da\\U0001f3fd\\u200d\\u2642|\\U0001f9da\\U0001f3fe\\u200d\\u2642|\\U0001f9da\\U0001f3ff\\u200d\\u2642|\\U0001f9da\\u200d\\u2640\\ufe0f|\\U0001f9da\\U0001f3fb\\u200d\\u2640|\\U0001f9da\\U0001f3fc\\u200d\\u2640|\\U0001f9da\\U0001f3fd\\u200d\\u2640|\\U0001f9da\\U0001f3fe\\u200d\\u2640|\\U0001f9da\\U0001f3ff\\u200d\\u2640|\\U0001f9db\\u200d\\u2642\\ufe0f|\\U0001f9db\\U0001f3fb\\u200d\\u2642|\\U0001f9db\\U0001f3fc\\u200d\\u2642|\\U0001f9db\\U0001f3fd\\u200d\\u2642|\\U0001f9db\\U0001f3fe\\u200d\\u2642|\\U0001f9db\\U0001f3ff\\u200d\\u2642|\\U0001f9db\\u200d\\u2640\\ufe0f|\\U0001f9db\\U0001f3fb\\u200d\\u2640|\\U0001f9db\\U0001f3fc\\u200d\\u2640|\\U0001f9db\\U0001f3fd\\u200d\\u2640|\\U0001f9db\\U0001f3fe\\u200d\\u2640|\\U0001f9db\\U0001f3ff\\u200d\\u2640|\\U0001f9dc\\u200d\\u2642\\ufe0f|\\U0001f9dc\\U0001f3fb\\u200d\\u2642|\\U0001f9dc\\U0001f3fc\\u200d\\u2642|\\U0001f9dc\\U0001f3fd\\u200d\\u2642|\\U0001f9dc\\U0001f3fe\\u200d\\u2642|\\U0001f9dc\\U0001f3ff\\u200d\\u2642|\\U0001f9dc\\u200d\\u2640\\ufe0f|\\U0001f9dc\\U0001f3fb\\u200d\\u2640|\\U0001f9dc\\U0001f3fc\\u200d\\u2640|\\U0001f9dc\\U0001f3fd\\u200d\\u2640|\\U0001f9dc\\U0001f3fe\\u200d\\u2640|\\U0001f9dc\\U0001f3ff\\u200d\\u2640|\\U0001f9dd\\u200d\\u2642\\ufe0f|\\U0001f9dd\\U0001f3fb\\u200d\\u2642|\\U0001f9dd\\U0001f3fc\\u200d\\u2642|\\U0001f9dd\\U0001f3fd\\u200d\\u2642|\\U0001f9dd\\U0001f3fe\\u200d\\u2642|\\U0001f9dd\\U0001f3ff\\u200d\\u2642|\\U0001f9dd\\u200d\\u2640\\ufe0f|\\U0001f9dd\\U0001f3fb\\u200d\\u2640|\\U0001f9dd\\U0001f3fc\\u200d\\u2640|\\U0001f9dd\\U0001f3fd\\u200d\\u2640|\\U0001f9dd\\U0001f3fe\\u200d\\u2640|\\U0001f9dd\\U0001f3ff\\u200d\\u2640|\\U0001f9de\\u200d\\u2642\\ufe0f|\\U0001f9de\\u200d\\u2640\\ufe0f|\\U0001f9df\\u200d\\u2642\\ufe0f|\\U0001f9df\\u200d\\u2640\\ufe0f|\\U0001f486\\u200d\\u2642\\ufe0f|\\U0001f486\\U0001f3fb\\u200d\\u2642|\\U0001f486\\U0001f3fc\\u200d\\u2642|\\U0001f486\\U0001f3fd\\u200d\\u2642|\\U0001f486\\U0001f3fe\\u200d\\u2642|\\U0001f486\\U0001f3ff\\u200d\\u2642|\\U0001f486\\u200d\\u2640\\ufe0f|\\U0001f486\\U0001f3fb\\u200d\\u2640|\\U0001f486\\U0001f3fc\\u200d\\u2640|\\U0001f486\\U0001f3fd\\u200d\\u2640|\\U0001f486\\U0001f3fe\\u200d\\u2640|\\U0001f486\\U0001f3ff\\u200d\\u2640|\\U0001f487\\u200d\\u2642\\ufe0f|\\U0001f487\\U0001f3fb\\u200d\\u2642|\\U0001f487\\U0001f3fc\\u200d\\u2642|\\U0001f487\\U0001f3fd\\u200d\\u2642|\\U0001f487\\U0001f3fe\\u200d\\u2642|\\U0001f487\\U0001f3ff\\u200d\\u2642|\\U0001f487\\u200d\\u2640\\ufe0f|\\U0001f487\\U0001f3fb\\u200d\\u2640|\\U0001f487\\U0001f3fc\\u200d\\u2640|\\U0001f487\\U0001f3fd\\u200d\\u2640|\\U0001f487\\U0001f3fe\\u200d\\u2640|\\U0001f487\\U0001f3ff\\u200d\\u2640|\\U0001f6b6\\u200d\\u2642\\ufe0f|\\U0001f6b6\\U0001f3fb\\u200d\\u2642|\\U0001f6b6\\U0001f3fc\\u200d\\u2642|\\U0001f6b6\\U0001f3fd\\u200d\\u2642|\\U0001f6b6\\U0001f3fe\\u200d\\u2642|\\U0001f6b6\\U0001f3ff\\u200d\\u2642|\\U0001f6b6\\u200d\\u2640\\ufe0f|\\U0001f6b6\\U0001f3fb\\u200d\\u2640|\\U0001f6b6\\U0001f3fc\\u200d\\u2640|\\U0001f6b6\\U0001f3fd\\u200d\\u2640|\\U0001f6b6\\U0001f3fe\\u200d\\u2640|\\U0001f6b6\\U0001f3ff\\u200d\\u2640|\\U0001f9cd\\u200d\\u2642\\ufe0f|\\U0001f9cd\\U0001f3fb\\u200d\\u2642|\\U0001f9cd\\U0001f3fc\\u200d\\u2642|\\U0001f9cd\\U0001f3fd\\u200d\\u2642|\\U0001f9cd\\U0001f3fe\\u200d\\u2642|\\U0001f9cd\\U0001f3ff\\u200d\\u2642|\\U0001f9cd\\u200d\\u2640\\ufe0f|\\U0001f9cd\\U0001f3fb\\u200d\\u2640|\\U0001f9cd\\U0001f3fc\\u200d\\u2640|\\U0001f9cd\\U0001f3fd\\u200d\\u2640|\\U0001f9cd\\U0001f3fe\\u200d\\u2640|\\U0001f9cd\\U0001f3ff\\u200d\\u2640|\\U0001f9ce\\u200d\\u2642\\ufe0f|\\U0001f9ce\\U0001f3fb\\u200d\\u2642|\\U0001f9ce\\U0001f3fc\\u200d\\u2642|\\U0001f9ce\\U0001f3fd\\u200d\\u2642|\\U0001f9ce\\U0001f3fe\\u200d\\u2642|\\U0001f9ce\\U0001f3ff\\u200d\\u2642|\\U0001f9ce\\u200d\\u2640\\ufe0f|\\U0001f9ce\\U0001f3fb\\u200d\\u2640|\\U0001f9ce\\U0001f3fc\\u200d\\u2640|\\U0001f9ce\\U0001f3fd\\u200d\\u2640|\\U0001f9ce\\U0001f3fe\\u200d\\u2640|\\U0001f9ce\\U0001f3ff\\u200d\\u2640|\\U0001f468\\U0001f3fb\\u200d\\U0001f9af|\\U0001f468\\U0001f3fc\\u200d\\U0001f9af|\\U0001f468\\U0001f3fd\\u200d\\U0001f9af|\\U0001f468\\U0001f3fe\\u200d\\U0001f9af|\\U0001f468\\U0001f3ff\\u200d\\U0001f9af|\\U0001f469\\U0001f3fb\\u200d\\U0001f9af|\\U0001f469\\U0001f3fc\\u200d\\U0001f9af|\\U0001f469\\U0001f3fd\\u200d\\U0001f9af|\\U0001f469\\U0001f3fe\\u200d\\U0001f9af|\\U0001f469\\U0001f3ff\\u200d\\U0001f9af|\\U0001f468\\U0001f3fb\\u200d\\U0001f9bc|\\U0001f468\\U0001f3fc\\u200d\\U0001f9bc|\\U0001f468\\U0001f3fd\\u200d\\U0001f9bc|\\U0001f468\\U0001f3fe\\u200d\\U0001f9bc|\\U0001f468\\U0001f3ff\\u200d\\U0001f9bc|\\U0001f469\\U0001f3fb\\u200d\\U0001f9bc|\\U0001f469\\U0001f3fc\\u200d\\U0001f9bc|\\U0001f469\\U0001f3fd\\u200d\\U0001f9bc|\\U0001f469\\U0001f3fe\\u200d\\U0001f9bc|\\U0001f469\\U0001f3ff\\u200d\\U0001f9bc|\\U0001f468\\U0001f3fb\\u200d\\U0001f9bd|\\U0001f468\\U0001f3fc\\u200d\\U0001f9bd|\\U0001f468\\U0001f3fd\\u200d\\U0001f9bd|\\U0001f468\\U0001f3fe\\u200d\\U0001f9bd|\\U0001f468\\U0001f3ff\\u200d\\U0001f9bd|\\U0001f469\\U0001f3fb\\u200d\\U0001f9bd|\\U0001f469\\U0001f3fc\\u200d\\U0001f9bd|\\U0001f469\\U0001f3fd\\u200d\\U0001f9bd|\\U0001f469\\U0001f3fe\\u200d\\U0001f9bd|\\U0001f469\\U0001f3ff\\u200d\\U0001f9bd|\\U0001f3c3\\u200d\\u2642\\ufe0f|\\U0001f3c3\\U0001f3fb\\u200d\\u2642|\\U0001f3c3\\U0001f3fc\\u200d\\u2642|\\U0001f3c3\\U0001f3fd\\u200d\\u2642|\\U0001f3c3\\U0001f3fe\\u200d\\u2642|\\U0001f3c3\\U0001f3ff\\u200d\\u2642|\\U0001f3c3\\u200d\\u2640\\ufe0f|\\U0001f3c3\\U0001f3fb\\u200d\\u2640|\\U0001f3c3\\U0001f3fc\\u200d\\u2640|\\U0001f3c3\\U0001f3fd\\u200d\\u2640|\\U0001f3c3\\U0001f3fe\\u200d\\u2640|\\U0001f3c3\\U0001f3ff\\u200d\\u2640|\\U0001f46f\\u200d\\u2642\\ufe0f|\\U0001f46f\\u200d\\u2640\\ufe0f|\\U0001f9d6\\u200d\\u2642\\ufe0f|\\U0001f9d6\\U0001f3fb\\u200d\\u2642|\\U0001f9d6\\U0001f3fc\\u200d\\u2642|\\U0001f9d6\\U0001f3fd\\u200d\\u2642|\\U0001f9d6\\U0001f3fe\\u200d\\u2642|\\U0001f9d6\\U0001f3ff\\u200d\\u2642|\\U0001f9d6\\u200d\\u2640\\ufe0f|\\U0001f9d6\\U0001f3fb\\u200d\\u2640|\\U0001f9d6\\U0001f3fc\\u200d\\u2640|\\U0001f9d6\\U0001f3fd\\u200d\\u2640|\\U0001f9d6\\U0001f3fe\\u200d\\u2640|\\U0001f9d6\\U0001f3ff\\u200d\\u2640|\\U0001f9d7\\u200d\\u2642\\ufe0f|\\U0001f9d7\\U0001f3fb\\u200d\\u2642|\\U0001f9d7\\U0001f3fc\\u200d\\u2642|\\U0001f9d7\\U0001f3fd\\u200d\\u2642|\\U0001f9d7\\U0001f3fe\\u200d\\u2642|\\U0001f9d7\\U0001f3ff\\u200d\\u2642|\\U0001f9d7\\u200d\\u2640\\ufe0f|\\U0001f9d7\\U0001f3fb\\u200d\\u2640|\\U0001f9d7\\U0001f3fc\\u200d\\u2640|\\U0001f9d7\\U0001f3fd\\u200d\\u2640|\\U0001f9d7\\U0001f3fe\\u200d\\u2640|\\U0001f9d7\\U0001f3ff\\u200d\\u2640|\\U0001f3cc\\u200d\\u2642\\ufe0f|\\U0001f3cc\\ufe0f\\u200d\\u2642|\\U0001f3cc\\U0001f3fb\\u200d\\u2642|\\U0001f3cc\\U0001f3fc\\u200d\\u2642|\\U0001f3cc\\U0001f3fd\\u200d\\u2642|\\U0001f3cc\\U0001f3fe\\u200d\\u2642|\\U0001f3cc\\U0001f3ff\\u200d\\u2642|\\U0001f3cc\\u200d\\u2640\\ufe0f|\\U0001f3cc\\ufe0f\\u200d\\u2640|\\U0001f3cc\\U0001f3fb\\u200d\\u2640|\\U0001f3cc\\U0001f3fc\\u200d\\u2640|\\U0001f3cc\\U0001f3fd\\u200d\\u2640|\\U0001f3cc\\U0001f3fe\\u200d\\u2640|\\U0001f3cc\\U0001f3ff\\u200d\\u2640|\\U0001f3c4\\u200d\\u2642\\ufe0f|\\U0001f3c4\\U0001f3fb\\u200d\\u2642|\\U0001f3c4\\U0001f3fc\\u200d\\u2642|\\U0001f3c4\\U0001f3fd\\u200d\\u2642|\\U0001f3c4\\U0001f3fe\\u200d\\u2642|\\U0001f3c4\\U0001f3ff\\u200d\\u2642|\\U0001f3c4\\u200d\\u2640\\ufe0f|\\U0001f3c4\\U0001f3fb\\u200d\\u2640|\\U0001f3c4\\U0001f3fc\\u200d\\u2640|\\U0001f3c4\\U0001f3fd\\u200d\\u2640|\\U0001f3c4\\U0001f3fe\\u200d\\u2640|\\U0001f3c4\\U0001f3ff\\u200d\\u2640|\\U0001f6a3\\u200d\\u2642\\ufe0f|\\U0001f6a3\\U0001f3fb\\u200d\\u2642|\\U0001f6a3\\U0001f3fc\\u200d\\u2642|\\U0001f6a3\\U0001f3fd\\u200d\\u2642|\\U0001f6a3\\U0001f3fe\\u200d\\u2642|\\U0001f6a3\\U0001f3ff\\u200d\\u2642|\\U0001f6a3\\u200d\\u2640\\ufe0f|\\U0001f6a3\\U0001f3fb\\u200d\\u2640|\\U0001f6a3\\U0001f3fc\\u200d\\u2640|\\U0001f6a3\\U0001f3fd\\u200d\\u2640|\\U0001f6a3\\U0001f3fe\\u200d\\u2640|\\U0001f6a3\\U0001f3ff\\u200d\\u2640|\\U0001f3ca\\u200d\\u2642\\ufe0f|\\U0001f3ca\\U0001f3fb\\u200d\\u2642|\\U0001f3ca\\U0001f3fc\\u200d\\u2642|\\U0001f3ca\\U0001f3fd\\u200d\\u2642|\\U0001f3ca\\U0001f3fe\\u200d\\u2642|\\U0001f3ca\\U0001f3ff\\u200d\\u2642|\\U0001f3ca\\u200d\\u2640\\ufe0f|\\U0001f3ca\\U0001f3fb\\u200d\\u2640|\\U0001f3ca\\U0001f3fc\\u200d\\u2640|\\U0001f3ca\\U0001f3fd\\u200d\\u2640|\\U0001f3ca\\U0001f3fe\\u200d\\u2640|\\U0001f3ca\\U0001f3ff\\u200d\\u2640|\\u26f9\\u200d\\u2642\\ufe0f|\\u26f9\\ufe0f\\u200d\\u2642|\\u26f9\\U0001f3fb\\u200d\\u2642|\\u26f9\\U0001f3fc\\u200d\\u2642|\\u26f9\\U0001f3fd\\u200d\\u2642|\\u26f9\\U0001f3fe\\u200d\\u2642|\\u26f9\\U0001f3ff\\u200d\\u2642|\\u26f9\\u200d\\u2640\\ufe0f|\\u26f9\\ufe0f\\u200d\\u2640|\\u26f9\\U0001f3fb\\u200d\\u2640|\\u26f9\\U0001f3fc\\u200d\\u2640|\\u26f9\\U0001f3fd\\u200d\\u2640|\\u26f9\\U0001f3fe\\u200d\\u2640|\\u26f9\\U0001f3ff\\u200d\\u2640|\\U0001f3cb\\u200d\\u2642\\ufe0f|\\U0001f3cb\\ufe0f\\u200d\\u2642|\\U0001f3cb\\U0001f3fb\\u200d\\u2642|\\U0001f3cb\\U0001f3fc\\u200d\\u2642|\\U0001f3cb\\U0001f3fd\\u200d\\u2642|\\U0001f3cb\\U0001f3fe\\u200d\\u2642|\\U0001f3cb\\U0001f3ff\\u200d\\u2642|\\U0001f3cb\\u200d\\u2640\\ufe0f|\\U0001f3cb\\ufe0f\\u200d\\u2640|\\U0001f3cb\\U0001f3fb\\u200d\\u2640|\\U0001f3cb\\U0001f3fc\\u200d\\u2640|\\U0001f3cb\\U0001f3fd\\u200d\\u2640|\\U0001f3cb\\U0001f3fe\\u200d\\u2640|\\U0001f3cb\\U0001f3ff\\u200d\\u2640|\\U0001f6b4\\u200d\\u2642\\ufe0f|\\U0001f6b4\\U0001f3fb\\u200d\\u2642|\\U0001f6b4\\U0001f3fc\\u200d\\u2642|\\U0001f6b4\\U0001f3fd\\u200d\\u2642|\\U0001f6b4\\U0001f3fe\\u200d\\u2642|\\U0001f6b4\\U0001f3ff\\u200d\\u2642|\\U0001f6b4\\u200d\\u2640\\ufe0f|\\U0001f6b4\\U0001f3fb\\u200d\\u2640|\\U0001f6b4\\U0001f3fc\\u200d\\u2640|\\U0001f6b4\\U0001f3fd\\u200d\\u2640|\\U0001f6b4\\U0001f3fe\\u200d\\u2640|\\U0001f6b4\\U0001f3ff\\u200d\\u2640|\\U0001f6b5\\u200d\\u2642\\ufe0f|\\U0001f6b5\\U0001f3fb\\u200d\\u2642|\\U0001f6b5\\U0001f3fc\\u200d\\u2642|\\U0001f6b5\\U0001f3fd\\u200d\\u2642|\\U0001f6b5\\U0001f3fe\\u200d\\u2642|\\U0001f6b5\\U0001f3ff\\u200d\\u2642|\\U0001f6b5\\u200d\\u2640\\ufe0f|\\U0001f6b5\\U0001f3fb\\u200d\\u2640|\\U0001f6b5\\U0001f3fc\\u200d\\u2640|\\U0001f6b5\\U0001f3fd\\u200d\\u2640|\\U0001f6b5\\U0001f3fe\\u200d\\u2640|\\U0001f6b5\\U0001f3ff\\u200d\\u2640|\\U0001f938\\u200d\\u2642\\ufe0f|\\U0001f938\\U0001f3fb\\u200d\\u2642|\\U0001f938\\U0001f3fc\\u200d\\u2642|\\U0001f938\\U0001f3fd\\u200d\\u2642|\\U0001f938\\U0001f3fe\\u200d\\u2642|\\U0001f938\\U0001f3ff\\u200d\\u2642|\\U0001f938\\u200d\\u2640\\ufe0f|\\U0001f938\\U0001f3fb\\u200d\\u2640|\\U0001f938\\U0001f3fc\\u200d\\u2640|\\U0001f938\\U0001f3fd\\u200d\\u2640|\\U0001f938\\U0001f3fe\\u200d\\u2640|\\U0001f938\\U0001f3ff\\u200d\\u2640|\\U0001f93c\\u200d\\u2642\\ufe0f|\\U0001f93c\\u200d\\u2640\\ufe0f|\\U0001f93d\\u200d\\u2642\\ufe0f|\\U0001f93d\\U0001f3fb\\u200d\\u2642|\\U0001f93d\\U0001f3fc\\u200d\\u2642|\\U0001f93d\\U0001f3fd\\u200d\\u2642|\\U0001f93d\\U0001f3fe\\u200d\\u2642|\\U0001f93d\\U0001f3ff\\u200d\\u2642|\\U0001f93d\\u200d\\u2640\\ufe0f|\\U0001f93d\\U0001f3fb\\u200d\\u2640|\\U0001f93d\\U0001f3fc\\u200d\\u2640|\\U0001f93d\\U0001f3fd\\u200d\\u2640|\\U0001f93d\\U0001f3fe\\u200d\\u2640|\\U0001f93d\\U0001f3ff\\u200d\\u2640|\\U0001f93e\\u200d\\u2642\\ufe0f|\\U0001f93e\\U0001f3fb\\u200d\\u2642|\\U0001f93e\\U0001f3fc\\u200d\\u2642|\\U0001f93e\\U0001f3fd\\u200d\\u2642|\\U0001f93e\\U0001f3fe\\u200d\\u2642|\\U0001f93e\\U0001f3ff\\u200d\\u2642|\\U0001f93e\\u200d\\u2640\\ufe0f|\\U0001f93e\\U0001f3fb\\u200d\\u2640|\\U0001f93e\\U0001f3fc\\u200d\\u2640|\\U0001f93e\\U0001f3fd\\u200d\\u2640|\\U0001f93e\\U0001f3fe\\u200d\\u2640|\\U0001f93e\\U0001f3ff\\u200d\\u2640|\\U0001f939\\u200d\\u2642\\ufe0f|\\U0001f939\\U0001f3fb\\u200d\\u2642|\\U0001f939\\U0001f3fc\\u200d\\u2642|\\U0001f939\\U0001f3fd\\u200d\\u2642|\\U0001f939\\U0001f3fe\\u200d\\u2642|\\U0001f939\\U0001f3ff\\u200d\\u2642|\\U0001f939\\u200d\\u2640\\ufe0f|\\U0001f939\\U0001f3fb\\u200d\\u2640|\\U0001f939\\U0001f3fc\\u200d\\u2640|\\U0001f939\\U0001f3fd\\u200d\\u2640|\\U0001f939\\U0001f3fe\\u200d\\u2640|\\U0001f939\\U0001f3ff\\u200d\\u2640|\\U0001f9d8\\u200d\\u2642\\ufe0f|\\U0001f9d8\\U0001f3fb\\u200d\\u2642|\\U0001f9d8\\U0001f3fc\\u200d\\u2642|\\U0001f9d8\\U0001f3fd\\u200d\\u2642|\\U0001f9d8\\U0001f3fe\\u200d\\u2642|\\U0001f9d8\\U0001f3ff\\u200d\\u2642|\\U0001f9d8\\u200d\\u2640\\ufe0f|\\U0001f9d8\\U0001f3fb\\u200d\\u2640|\\U0001f9d8\\U0001f3fc\\u200d\\u2640|\\U0001f9d8\\U0001f3fd\\u200d\\u2640|\\U0001f9d8\\U0001f3fe\\u200d\\u2640|\\U0001f9d8\\U0001f3ff\\u200d\\u2640|\\U0001f3f3\\ufe0f\\u200d\\U0001f308|\\U0001f3f4\\u200d\\u2620\\ufe0f|\\U0001f441\\u200d\\U0001f5e8|\\U0001f471\\u200d\\u2642|\\U0001f468\\u200d\\U0001f9b0|\\U0001f468\\u200d\\U0001f9b1|\\U0001f468\\u200d\\U0001f9b3|\\U0001f468\\u200d\\U0001f9b2|\\U0001f471\\u200d\\u2640|\\U0001f469\\u200d\\U0001f9b0|\\U0001f469\\u200d\\U0001f9b1|\\U0001f469\\u200d\\U0001f9b3|\\U0001f469\\u200d\\U0001f9b2|\\U0001f64d\\u200d\\u2642|\\U0001f64d\\u200d\\u2640|\\U0001f64e\\u200d\\u2642|\\U0001f64e\\u200d\\u2640|\\U0001f645\\u200d\\u2642|\\U0001f645\\u200d\\u2640|\\U0001f646\\u200d\\u2642|\\U0001f646\\u200d\\u2640|\\U0001f481\\u200d\\u2642|\\U0001f481\\u200d\\u2640|\\U0001f64b\\u200d\\u2642|\\U0001f64b\\u200d\\u2640|\\U0001f9cf\\u200d\\u2642|\\U0001f9cf\\u200d\\u2640|\\U0001f647\\u200d\\u2642|\\U0001f647\\u200d\\u2640|\\U0001f926\\u200d\\u2642|\\U0001f926\\u200d\\u2640|\\U0001f937\\u200d\\u2642|\\U0001f937\\u200d\\u2640|\\U0001f468\\u200d\\u2695|\\U0001f469\\u200d\\u2695|\\U0001f468\\u200d\\U0001f393|\\U0001f469\\u200d\\U0001f393|\\U0001f468\\u200d\\U0001f3eb|\\U0001f469\\u200d\\U0001f3eb|\\U0001f468\\u200d\\u2696|\\U0001f469\\u200d\\u2696|\\U0001f468\\u200d\\U0001f33e|\\U0001f469\\u200d\\U0001f33e|\\U0001f468\\u200d\\U0001f373|\\U0001f469\\u200d\\U0001f373|\\U0001f468\\u200d\\U0001f527|\\U0001f469\\u200d\\U0001f527|\\U0001f468\\u200d\\U0001f3ed|\\U0001f469\\u200d\\U0001f3ed|\\U0001f468\\u200d\\U0001f4bc|\\U0001f469\\u200d\\U0001f4bc|\\U0001f468\\u200d\\U0001f52c|\\U0001f469\\u200d\\U0001f52c|\\U0001f468\\u200d\\U0001f4bb|\\U0001f469\\u200d\\U0001f4bb|\\U0001f468\\u200d\\U0001f3a4|\\U0001f469\\u200d\\U0001f3a4|\\U0001f468\\u200d\\U0001f3a8|\\U0001f469\\u200d\\U0001f3a8|\\U0001f468\\u200d\\u2708|\\U0001f469\\u200d\\u2708|\\U0001f468\\u200d\\U0001f680|\\U0001f469\\u200d\\U0001f680|\\U0001f468\\u200d\\U0001f692|\\U0001f469\\u200d\\U0001f692|\\U0001f46e\\u200d\\u2642|\\U0001f46e\\u200d\\u2640|\\U0001f575\\u200d\\u2642|\\U0001f575\\u200d\\u2640|\\U0001f482\\u200d\\u2642|\\U0001f482\\u200d\\u2640|\\U0001f477\\u200d\\u2642|\\U0001f477\\u200d\\u2640|\\U0001f473\\u200d\\u2642|\\U0001f473\\u200d\\u2640|\\U0001f9b8\\u200d\\u2642|\\U0001f9b8\\u200d\\u2640|\\U0001f9b9\\u200d\\u2642|\\U0001f9b9\\u200d\\u2640|\\U0001f9d9\\u200d\\u2642|\\U0001f9d9\\u200d\\u2640|\\U0001f9da\\u200d\\u2642|\\U0001f9da\\u200d\\u2640|\\U0001f9db\\u200d\\u2642|\\U0001f9db\\u200d\\u2640|\\U0001f9dc\\u200d\\u2642|\\U0001f9dc\\u200d\\u2640|\\U0001f9dd\\u200d\\u2642|\\U0001f9dd\\u200d\\u2640|\\U0001f9de\\u200d\\u2642|\\U0001f9de\\u200d\\u2640|\\U0001f9df\\u200d\\u2642|\\U0001f9df\\u200d\\u2640|\\U0001f486\\u200d\\u2642|\\U0001f486\\u200d\\u2640|\\U0001f487\\u200d\\u2642|\\U0001f487\\u200d\\u2640|\\U0001f6b6\\u200d\\u2642|\\U0001f6b6\\u200d\\u2640|\\U0001f9cd\\u200d\\u2642|\\U0001f9cd\\u200d\\u2640|\\U0001f9ce\\u200d\\u2642|\\U0001f9ce\\u200d\\u2640|\\U0001f468\\u200d\\U0001f9af|\\U0001f469\\u200d\\U0001f9af|\\U0001f468\\u200d\\U0001f9bc|\\U0001f469\\u200d\\U0001f9bc|\\U0001f468\\u200d\\U0001f9bd|\\U0001f469\\u200d\\U0001f9bd|\\U0001f3c3\\u200d\\u2642|\\U0001f3c3\\u200d\\u2640|\\U0001f46f\\u200d\\u2642|\\U0001f46f\\u200d\\u2640|\\U0001f9d6\\u200d\\u2642|\\U0001f9d6\\u200d\\u2640|\\U0001f9d7\\u200d\\u2642|\\U0001f9d7\\u200d\\u2640|\\U0001f3cc\\u200d\\u2642|\\U0001f3cc\\u200d\\u2640|\\U0001f3c4\\u200d\\u2642|\\U0001f3c4\\u200d\\u2640|\\U0001f6a3\\u200d\\u2642|\\U0001f6a3\\u200d\\u2640|\\U0001f3ca\\u200d\\u2642|\\U0001f3ca\\u200d\\u2640|\\u26f9\\u200d\\u2642|\\u26f9\\u200d\\u2640|\\U0001f3cb\\u200d\\u2642|\\U0001f3cb\\u200d\\u2640|\\U0001f6b4\\u200d\\u2642|\\U0001f6b4\\u200d\\u2640|\\U0001f6b5\\u200d\\u2642|\\U0001f6b5\\u200d\\u2640|\\U0001f938\\u200d\\u2642|\\U0001f938\\u200d\\u2640|\\U0001f93c\\u200d\\u2642|\\U0001f93c\\u200d\\u2640|\\U0001f93d\\u200d\\u2642|\\U0001f93d\\u200d\\u2640|\\U0001f93e\\u200d\\u2642|\\U0001f93e\\u200d\\u2640|\\U0001f939\\u200d\\u2642|\\U0001f939\\u200d\\u2640|\\U0001f9d8\\u200d\\u2642|\\U0001f9d8\\u200d\\u2640|\\U0001f468\\u200d\\U0001f466|\\U0001f468\\u200d\\U0001f467|\\U0001f469\\u200d\\U0001f466|\\U0001f469\\u200d\\U0001f467|\\U0001f415\\u200d\\U0001f9ba|\\\\#\\ufe0f\\u20e3|\\\\*\\ufe0f\\u20e3|0\\ufe0f\\u20e3|1\\ufe0f\\u20e3|2\\ufe0f\\u20e3|3\\ufe0f\\u20e3|4\\ufe0f\\u20e3|5\\ufe0f\\u20e3|6\\ufe0f\\u20e3|7\\ufe0f\\u20e3|8\\ufe0f\\u20e3|9\\ufe0f\\u20e3|\\U0001f3f3\\u200d\\U0001f308|\\U0001f3f4\\u200d\\u2620|\\u263a\\ufe0f|\\u2639\\ufe0f|\\u2620\\ufe0f|\\u2763\\ufe0f|\\u2764\\ufe0f|\\U0001f573\\ufe0f|\\U0001f5e8\\ufe0f|\\U0001f5ef\\ufe0f|\\U0001f44b\\U0001f3fb|\\U0001f44b\\U0001f3fc|\\U0001f44b\\U0001f3fd|\\U0001f44b\\U0001f3fe|\\U0001f44b\\U0001f3ff|\\U0001f91a\\U0001f3fb|\\U0001f91a\\U0001f3fc|\\U0001f91a\\U0001f3fd|\\U0001f91a\\U0001f3fe|\\U0001f91a\\U0001f3ff|\\U0001f590\\ufe0f|\\U0001f590\\U0001f3fb|\\U0001f590\\U0001f3fc|\\U0001f590\\U0001f3fd|\\U0001f590\\U0001f3fe|\\U0001f590\\U0001f3ff|\\u270b\\U0001f3fb|\\u270b\\U0001f3fc|\\u270b\\U0001f3fd|\\u270b\\U0001f3fe|\\u270b\\U0001f3ff|\\U0001f596\\U0001f3fb|\\U0001f596\\U0001f3fc|\\U0001f596\\U0001f3fd|\\U0001f596\\U0001f3fe|\\U0001f596\\U0001f3ff|\\U0001f44c\\U0001f3fb|\\U0001f44c\\U0001f3fc|\\U0001f44c\\U0001f3fd|\\U0001f44c\\U0001f3fe|\\U0001f44c\\U0001f3ff|\\U0001f90f\\U0001f3fb|\\U0001f90f\\U0001f3fc|\\U0001f90f\\U0001f3fd|\\U0001f90f\\U0001f3fe|\\U0001f90f\\U0001f3ff|\\u270c\\ufe0f|\\u270c\\U0001f3fb|\\u270c\\U0001f3fc|\\u270c\\U0001f3fd|\\u270c\\U0001f3fe|\\u270c\\U0001f3ff|\\U0001f91e\\U0001f3fb|\\U0001f91e\\U0001f3fc|\\U0001f91e\\U0001f3fd|\\U0001f91e\\U0001f3fe|\\U0001f91e\\U0001f3ff|\\U0001f91f\\U0001f3fb|\\U0001f91f\\U0001f3fc|\\U0001f91f\\U0001f3fd|\\U0001f91f\\U0001f3fe|\\U0001f91f\\U0001f3ff|\\U0001f918\\U0001f3fb|\\U0001f918\\U0001f3fc|\\U0001f918\\U0001f3fd|\\U0001f918\\U0001f3fe|\\U0001f918\\U0001f3ff|\\U0001f919\\U0001f3fb|\\U0001f919\\U0001f3fc|\\U0001f919\\U0001f3fd|\\U0001f919\\U0001f3fe|\\U0001f919\\U0001f3ff|\\U0001f448\\U0001f3fb|\\U0001f448\\U0001f3fc|\\U0001f448\\U0001f3fd|\\U0001f448\\U0001f3fe|\\U0001f448\\U0001f3ff|\\U0001f449\\U0001f3fb|\\U0001f449\\U0001f3fc|\\U0001f449\\U0001f3fd|\\U0001f449\\U0001f3fe|\\U0001f449\\U0001f3ff|\\U0001f446\\U0001f3fb|\\U0001f446\\U0001f3fc|\\U0001f446\\U0001f3fd|\\U0001f446\\U0001f3fe|\\U0001f446\\U0001f3ff|\\U0001f595\\U0001f3fb|\\U0001f595\\U0001f3fc|\\U0001f595\\U0001f3fd|\\U0001f595\\U0001f3fe|\\U0001f595\\U0001f3ff|\\U0001f447\\U0001f3fb|\\U0001f447\\U0001f3fc|\\U0001f447\\U0001f3fd|\\U0001f447\\U0001f3fe|\\U0001f447\\U0001f3ff|\\u261d\\ufe0f|\\u261d\\U0001f3fb|\\u261d\\U0001f3fc|\\u261d\\U0001f3fd|\\u261d\\U0001f3fe|\\u261d\\U0001f3ff|\\U0001f44d\\U0001f3fb|\\U0001f44d\\U0001f3fc|\\U0001f44d\\U0001f3fd|\\U0001f44d\\U0001f3fe|\\U0001f44d\\U0001f3ff|\\U0001f44e\\U0001f3fb|\\U0001f44e\\U0001f3fc|\\U0001f44e\\U0001f3fd|\\U0001f44e\\U0001f3fe|\\U0001f44e\\U0001f3ff|\\u270a\\U0001f3fb|\\u270a\\U0001f3fc|\\u270a\\U0001f3fd|\\u270a\\U0001f3fe|\\u270a\\U0001f3ff|\\U0001f44a\\U0001f3fb|\\U0001f44a\\U0001f3fc|\\U0001f44a\\U0001f3fd|\\U0001f44a\\U0001f3fe|\\U0001f44a\\U0001f3ff|\\U0001f91b\\U0001f3fb|\\U0001f91b\\U0001f3fc|\\U0001f91b\\U0001f3fd|\\U0001f91b\\U0001f3fe|\\U0001f91b\\U0001f3ff|\\U0001f91c\\U0001f3fb|\\U0001f91c\\U0001f3fc|\\U0001f91c\\U0001f3fd|\\U0001f91c\\U0001f3fe|\\U0001f91c\\U0001f3ff|\\U0001f44f\\U0001f3fb|\\U0001f44f\\U0001f3fc|\\U0001f44f\\U0001f3fd|\\U0001f44f\\U0001f3fe|\\U0001f44f\\U0001f3ff|\\U0001f64c\\U0001f3fb|\\U0001f64c\\U0001f3fc|\\U0001f64c\\U0001f3fd|\\U0001f64c\\U0001f3fe|\\U0001f64c\\U0001f3ff|\\U0001f450\\U0001f3fb|\\U0001f450\\U0001f3fc|\\U0001f450\\U0001f3fd|\\U0001f450\\U0001f3fe|\\U0001f450\\U0001f3ff|\\U0001f932\\U0001f3fb|\\U0001f932\\U0001f3fc|\\U0001f932\\U0001f3fd|\\U0001f932\\U0001f3fe|\\U0001f932\\U0001f3ff|\\U0001f64f\\U0001f3fb|\\U0001f64f\\U0001f3fc|\\U0001f64f\\U0001f3fd|\\U0001f64f\\U0001f3fe|\\U0001f64f\\U0001f3ff|\\u270d\\ufe0f|\\u270d\\U0001f3fb|\\u270d\\U0001f3fc|\\u270d\\U0001f3fd|\\u270d\\U0001f3fe|\\u270d\\U0001f3ff|\\U0001f485\\U0001f3fb|\\U0001f485\\U0001f3fc|\\U0001f485\\U0001f3fd|\\U0001f485\\U0001f3fe|\\U0001f485\\U0001f3ff|\\U0001f933\\U0001f3fb|\\U0001f933\\U0001f3fc|\\U0001f933\\U0001f3fd|\\U0001f933\\U0001f3fe|\\U0001f933\\U0001f3ff|\\U0001f4aa\\U0001f3fb|\\U0001f4aa\\U0001f3fc|\\U0001f4aa\\U0001f3fd|\\U0001f4aa\\U0001f3fe|\\U0001f4aa\\U0001f3ff|\\U0001f9b5\\U0001f3fb|\\U0001f9b5\\U0001f3fc|\\U0001f9b5\\U0001f3fd|\\U0001f9b5\\U0001f3fe|\\U0001f9b5\\U0001f3ff|\\U0001f9b6\\U0001f3fb|\\U0001f9b6\\U0001f3fc|\\U0001f9b6\\U0001f3fd|\\U0001f9b6\\U0001f3fe|\\U0001f9b6\\U0001f3ff|\\U0001f442\\U0001f3fb|\\U0001f442\\U0001f3fc|\\U0001f442\\U0001f3fd|\\U0001f442\\U0001f3fe|\\U0001f442\\U0001f3ff|\\U0001f9bb\\U0001f3fb|\\U0001f9bb\\U0001f3fc|\\U0001f9bb\\U0001f3fd|\\U0001f9bb\\U0001f3fe|\\U0001f9bb\\U0001f3ff|\\U0001f443\\U0001f3fb|\\U0001f443\\U0001f3fc|\\U0001f443\\U0001f3fd|\\U0001f443\\U0001f3fe|\\U0001f443\\U0001f3ff|\\U0001f441\\ufe0f|\\U0001f476\\U0001f3fb|\\U0001f476\\U0001f3fc|\\U0001f476\\U0001f3fd|\\U0001f476\\U0001f3fe|\\U0001f476\\U0001f3ff|\\U0001f9d2\\U0001f3fb|\\U0001f9d2\\U0001f3fc|\\U0001f9d2\\U0001f3fd|\\U0001f9d2\\U0001f3fe|\\U0001f9d2\\U0001f3ff|\\U0001f466\\U0001f3fb|\\U0001f466\\U0001f3fc|\\U0001f466\\U0001f3fd|\\U0001f466\\U0001f3fe|\\U0001f466\\U0001f3ff|\\U0001f467\\U0001f3fb|\\U0001f467\\U0001f3fc|\\U0001f467\\U0001f3fd|\\U0001f467\\U0001f3fe|\\U0001f467\\U0001f3ff|\\U0001f9d1\\U0001f3fb|\\U0001f9d1\\U0001f3fc|\\U0001f9d1\\U0001f3fd|\\U0001f9d1\\U0001f3fe|\\U0001f9d1\\U0001f3ff|\\U0001f471\\U0001f3fb|\\U0001f471\\U0001f3fc|\\U0001f471\\U0001f3fd|\\U0001f471\\U0001f3fe|\\U0001f471\\U0001f3ff|\\U0001f468\\U0001f3fb|\\U0001f468\\U0001f3fc|\\U0001f468\\U0001f3fd|\\U0001f468\\U0001f3fe|\\U0001f468\\U0001f3ff|\\U0001f9d4\\U0001f3fb|\\U0001f9d4\\U0001f3fc|\\U0001f9d4\\U0001f3fd|\\U0001f9d4\\U0001f3fe|\\U0001f9d4\\U0001f3ff|\\U0001f469\\U0001f3fb|\\U0001f469\\U0001f3fc|\\U0001f469\\U0001f3fd|\\U0001f469\\U0001f3fe|\\U0001f469\\U0001f3ff|\\U0001f9d3\\U0001f3fb|\\U0001f9d3\\U0001f3fc|\\U0001f9d3\\U0001f3fd|\\U0001f9d3\\U0001f3fe|\\U0001f9d3\\U0001f3ff|\\U0001f474\\U0001f3fb|\\U0001f474\\U0001f3fc|\\U0001f474\\U0001f3fd|\\U0001f474\\U0001f3fe|\\U0001f474\\U0001f3ff|\\U0001f475\\U0001f3fb|\\U0001f475\\U0001f3fc|\\U0001f475\\U0001f3fd|\\U0001f475\\U0001f3fe|\\U0001f475\\U0001f3ff|\\U0001f64d\\U0001f3fb|\\U0001f64d\\U0001f3fc|\\U0001f64d\\U0001f3fd|\\U0001f64d\\U0001f3fe|\\U0001f64d\\U0001f3ff|\\U0001f64e\\U0001f3fb|\\U0001f64e\\U0001f3fc|\\U0001f64e\\U0001f3fd|\\U0001f64e\\U0001f3fe|\\U0001f64e\\U0001f3ff|\\U0001f645\\U0001f3fb|\\U0001f645\\U0001f3fc|\\U0001f645\\U0001f3fd|\\U0001f645\\U0001f3fe|\\U0001f645\\U0001f3ff|\\U0001f646\\U0001f3fb|\\U0001f646\\U0001f3fc|\\U0001f646\\U0001f3fd|\\U0001f646\\U0001f3fe|\\U0001f646\\U0001f3ff|\\U0001f481\\U0001f3fb|\\U0001f481\\U0001f3fc|\\U0001f481\\U0001f3fd|\\U0001f481\\U0001f3fe|\\U0001f481\\U0001f3ff|\\U0001f64b\\U0001f3fb|\\U0001f64b\\U0001f3fc|\\U0001f64b\\U0001f3fd|\\U0001f64b\\U0001f3fe|\\U0001f64b\\U0001f3ff|\\U0001f9cf\\U0001f3fb|\\U0001f9cf\\U0001f3fc|\\U0001f9cf\\U0001f3fd|\\U0001f9cf\\U0001f3fe|\\U0001f9cf\\U0001f3ff|\\U0001f647\\U0001f3fb|\\U0001f647\\U0001f3fc|\\U0001f647\\U0001f3fd|\\U0001f647\\U0001f3fe|\\U0001f647\\U0001f3ff|\\U0001f926\\U0001f3fb|\\U0001f926\\U0001f3fc|\\U0001f926\\U0001f3fd|\\U0001f926\\U0001f3fe|\\U0001f926\\U0001f3ff|\\U0001f937\\U0001f3fb|\\U0001f937\\U0001f3fc|\\U0001f937\\U0001f3fd|\\U0001f937\\U0001f3fe|\\U0001f937\\U0001f3ff|\\U0001f46e\\U0001f3fb|\\U0001f46e\\U0001f3fc|\\U0001f46e\\U0001f3fd|\\U0001f46e\\U0001f3fe|\\U0001f46e\\U0001f3ff|\\U0001f575\\ufe0f|\\U0001f575\\U0001f3fb|\\U0001f575\\U0001f3fc|\\U0001f575\\U0001f3fd|\\U0001f575\\U0001f3fe|\\U0001f575\\U0001f3ff|\\U0001f482\\U0001f3fb|\\U0001f482\\U0001f3fc|\\U0001f482\\U0001f3fd|\\U0001f482\\U0001f3fe|\\U0001f482\\U0001f3ff|\\U0001f477\\U0001f3fb|\\U0001f477\\U0001f3fc|\\U0001f477\\U0001f3fd|\\U0001f477\\U0001f3fe|\\U0001f477\\U0001f3ff|\\U0001f934\\U0001f3fb|\\U0001f934\\U0001f3fc|\\U0001f934\\U0001f3fd|\\U0001f934\\U0001f3fe|\\U0001f934\\U0001f3ff|\\U0001f478\\U0001f3fb|\\U0001f478\\U0001f3fc|\\U0001f478\\U0001f3fd|\\U0001f478\\U0001f3fe|\\U0001f478\\U0001f3ff|\\U0001f473\\U0001f3fb|\\U0001f473\\U0001f3fc|\\U0001f473\\U0001f3fd|\\U0001f473\\U0001f3fe|\\U0001f473\\U0001f3ff|\\U0001f472\\U0001f3fb|\\U0001f472\\U0001f3fc|\\U0001f472\\U0001f3fd|\\U0001f472\\U0001f3fe|\\U0001f472\\U0001f3ff|\\U0001f9d5\\U0001f3fb|\\U0001f9d5\\U0001f3fc|\\U0001f9d5\\U0001f3fd|\\U0001f9d5\\U0001f3fe|\\U0001f9d5\\U0001f3ff|\\U0001f935\\U0001f3fb|\\U0001f935\\U0001f3fc|\\U0001f935\\U0001f3fd|\\U0001f935\\U0001f3fe|\\U0001f935\\U0001f3ff|\\U0001f470\\U0001f3fb|\\U0001f470\\U0001f3fc|\\U0001f470\\U0001f3fd|\\U0001f470\\U0001f3fe|\\U0001f470\\U0001f3ff|\\U0001f930\\U0001f3fb|\\U0001f930\\U0001f3fc|\\U0001f930\\U0001f3fd|\\U0001f930\\U0001f3fe|\\U0001f930\\U0001f3ff|\\U0001f931\\U0001f3fb|\\U0001f931\\U0001f3fc|\\U0001f931\\U0001f3fd|\\U0001f931\\U0001f3fe|\\U0001f931\\U0001f3ff|\\U0001f47c\\U0001f3fb|\\U0001f47c\\U0001f3fc|\\U0001f47c\\U0001f3fd|\\U0001f47c\\U0001f3fe|\\U0001f47c\\U0001f3ff|\\U0001f385\\U0001f3fb|\\U0001f385\\U0001f3fc|\\U0001f385\\U0001f3fd|\\U0001f385\\U0001f3fe|\\U0001f385\\U0001f3ff|\\U0001f936\\U0001f3fb|\\U0001f936\\U0001f3fc|\\U0001f936\\U0001f3fd|\\U0001f936\\U0001f3fe|\\U0001f936\\U0001f3ff|\\U0001f9b8\\U0001f3fb|\\U0001f9b8\\U0001f3fc|\\U0001f9b8\\U0001f3fd|\\U0001f9b8\\U0001f3fe|\\U0001f9b8\\U0001f3ff|\\U0001f9b9\\U0001f3fb|\\U0001f9b9\\U0001f3fc|\\U0001f9b9\\U0001f3fd|\\U0001f9b9\\U0001f3fe|\\U0001f9b9\\U0001f3ff|\\U0001f9d9\\U0001f3fb|\\U0001f9d9\\U0001f3fc|\\U0001f9d9\\U0001f3fd|\\U0001f9d9\\U0001f3fe|\\U0001f9d9\\U0001f3ff|\\U0001f9da\\U0001f3fb|\\U0001f9da\\U0001f3fc|\\U0001f9da\\U0001f3fd|\\U0001f9da\\U0001f3fe|\\U0001f9da\\U0001f3ff|\\U0001f9db\\U0001f3fb|\\U0001f9db\\U0001f3fc|\\U0001f9db\\U0001f3fd|\\U0001f9db\\U0001f3fe|\\U0001f9db\\U0001f3ff|\\U0001f9dc\\U0001f3fb|\\U0001f9dc\\U0001f3fc|\\U0001f9dc\\U0001f3fd|\\U0001f9dc\\U0001f3fe|\\U0001f9dc\\U0001f3ff|\\U0001f9dd\\U0001f3fb|\\U0001f9dd\\U0001f3fc|\\U0001f9dd\\U0001f3fd|\\U0001f9dd\\U0001f3fe|\\U0001f9dd\\U0001f3ff|\\U0001f486\\U0001f3fb|\\U0001f486\\U0001f3fc|\\U0001f486\\U0001f3fd|\\U0001f486\\U0001f3fe|\\U0001f486\\U0001f3ff|\\U0001f487\\U0001f3fb|\\U0001f487\\U0001f3fc|\\U0001f487\\U0001f3fd|\\U0001f487\\U0001f3fe|\\U0001f487\\U0001f3ff|\\U0001f6b6\\U0001f3fb|\\U0001f6b6\\U0001f3fc|\\U0001f6b6\\U0001f3fd|\\U0001f6b6\\U0001f3fe|\\U0001f6b6\\U0001f3ff|\\U0001f9cd\\U0001f3fb|\\U0001f9cd\\U0001f3fc|\\U0001f9cd\\U0001f3fd|\\U0001f9cd\\U0001f3fe|\\U0001f9cd\\U0001f3ff|\\U0001f9ce\\U0001f3fb|\\U0001f9ce\\U0001f3fc|\\U0001f9ce\\U0001f3fd|\\U0001f9ce\\U0001f3fe|\\U0001f9ce\\U0001f3ff|\\U0001f3c3\\U0001f3fb|\\U0001f3c3\\U0001f3fc|\\U0001f3c3\\U0001f3fd|\\U0001f3c3\\U0001f3fe|\\U0001f3c3\\U0001f3ff|\\U0001f483\\U0001f3fb|\\U0001f483\\U0001f3fc|\\U0001f483\\U0001f3fd|\\U0001f483\\U0001f3fe|\\U0001f483\\U0001f3ff|\\U0001f57a\\U0001f3fb|\\U0001f57a\\U0001f3fc|\\U0001f57a\\U0001f3fd|\\U0001f57a\\U0001f3fe|\\U0001f57a\\U0001f3ff|\\U0001f574\\ufe0f|\\U0001f574\\U0001f3fb|\\U0001f574\\U0001f3fc|\\U0001f574\\U0001f3fd|\\U0001f574\\U0001f3fe|\\U0001f574\\U0001f3ff|\\U0001f9d6\\U0001f3fb|\\U0001f9d6\\U0001f3fc|\\U0001f9d6\\U0001f3fd|\\U0001f9d6\\U0001f3fe|\\U0001f9d6\\U0001f3ff|\\U0001f9d7\\U0001f3fb|\\U0001f9d7\\U0001f3fc|\\U0001f9d7\\U0001f3fd|\\U0001f9d7\\U0001f3fe|\\U0001f9d7\\U0001f3ff|\\U0001f3c7\\U0001f3fb|\\U0001f3c7\\U0001f3fc|\\U0001f3c7\\U0001f3fd|\\U0001f3c7\\U0001f3fe|\\U0001f3c7\\U0001f3ff|\\u26f7\\ufe0f|\\U0001f3c2\\U0001f3fb|\\U0001f3c2\\U0001f3fc|\\U0001f3c2\\U0001f3fd|\\U0001f3c2\\U0001f3fe|\\U0001f3c2\\U0001f3ff|\\U0001f3cc\\ufe0f|\\U0001f3cc\\U0001f3fb|\\U0001f3cc\\U0001f3fc|\\U0001f3cc\\U0001f3fd|\\U0001f3cc\\U0001f3fe|\\U0001f3cc\\U0001f3ff|\\U0001f3c4\\U0001f3fb|\\U0001f3c4\\U0001f3fc|\\U0001f3c4\\U0001f3fd|\\U0001f3c4\\U0001f3fe|\\U0001f3c4\\U0001f3ff|\\U0001f6a3\\U0001f3fb|\\U0001f6a3\\U0001f3fc|\\U0001f6a3\\U0001f3fd|\\U0001f6a3\\U0001f3fe|\\U0001f6a3\\U0001f3ff|\\U0001f3ca\\U0001f3fb|\\U0001f3ca\\U0001f3fc|\\U0001f3ca\\U0001f3fd|\\U0001f3ca\\U0001f3fe|\\U0001f3ca\\U0001f3ff|\\u26f9\\ufe0f|\\u26f9\\U0001f3fb|\\u26f9\\U0001f3fc|\\u26f9\\U0001f3fd|\\u26f9\\U0001f3fe|\\u26f9\\U0001f3ff|\\U0001f3cb\\ufe0f|\\U0001f3cb\\U0001f3fb|\\U0001f3cb\\U0001f3fc|\\U0001f3cb\\U0001f3fd|\\U0001f3cb\\U0001f3fe|\\U0001f3cb\\U0001f3ff|\\U0001f6b4\\U0001f3fb|\\U0001f6b4\\U0001f3fc|\\U0001f6b4\\U0001f3fd|\\U0001f6b4\\U0001f3fe|\\U0001f6b4\\U0001f3ff|\\U0001f6b5\\U0001f3fb|\\U0001f6b5\\U0001f3fc|\\U0001f6b5\\U0001f3fd|\\U0001f6b5\\U0001f3fe|\\U0001f6b5\\U0001f3ff|\\U0001f938\\U0001f3fb|\\U0001f938\\U0001f3fc|\\U0001f938\\U0001f3fd|\\U0001f938\\U0001f3fe|\\U0001f938\\U0001f3ff|\\U0001f93d\\U0001f3fb|\\U0001f93d\\U0001f3fc|\\U0001f93d\\U0001f3fd|\\U0001f93d\\U0001f3fe|\\U0001f93d\\U0001f3ff|\\U0001f93e\\U0001f3fb|\\U0001f93e\\U0001f3fc|\\U0001f93e\\U0001f3fd|\\U0001f93e\\U0001f3fe|\\U0001f93e\\U0001f3ff|\\U0001f939\\U0001f3fb|\\U0001f939\\U0001f3fc|\\U0001f939\\U0001f3fd|\\U0001f939\\U0001f3fe|\\U0001f939\\U0001f3ff|\\U0001f9d8\\U0001f3fb|\\U0001f9d8\\U0001f3fc|\\U0001f9d8\\U0001f3fd|\\U0001f9d8\\U0001f3fe|\\U0001f9d8\\U0001f3ff|\\U0001f6c0\\U0001f3fb|\\U0001f6c0\\U0001f3fc|\\U0001f6c0\\U0001f3fd|\\U0001f6c0\\U0001f3fe|\\U0001f6c0\\U0001f3ff|\\U0001f6cc\\U0001f3fb|\\U0001f6cc\\U0001f3fc|\\U0001f6cc\\U0001f3fd|\\U0001f6cc\\U0001f3fe|\\U0001f6cc\\U0001f3ff|\\U0001f46d\\U0001f3fb|\\U0001f46d\\U0001f3fc|\\U0001f46d\\U0001f3fd|\\U0001f46d\\U0001f3fe|\\U0001f46d\\U0001f3ff|\\U0001f46b\\U0001f3fb|\\U0001f46b\\U0001f3fc|\\U0001f46b\\U0001f3fd|\\U0001f46b\\U0001f3fe|\\U0001f46b\\U0001f3ff|\\U0001f46c\\U0001f3fb|\\U0001f46c\\U0001f3fc|\\U0001f46c\\U0001f3fd|\\U0001f46c\\U0001f3fe|\\U0001f46c\\U0001f3ff|\\U0001f5e3\\ufe0f|\\U0001f43f\\ufe0f|\\U0001f54a\\ufe0f|\\U0001f577\\ufe0f|\\U0001f578\\ufe0f|\\U0001f3f5\\ufe0f|\\u2618\\ufe0f|\\U0001f336\\ufe0f|\\U0001f37d\\ufe0f|\\U0001f5fa\\ufe0f|\\U0001f3d4\\ufe0f|\\u26f0\\ufe0f|\\U0001f3d5\\ufe0f|\\U0001f3d6\\ufe0f|\\U0001f3dc\\ufe0f|\\U0001f3dd\\ufe0f|\\U0001f3de\\ufe0f|\\U0001f3df\\ufe0f|\\U0001f3db\\ufe0f|\\U0001f3d7\\ufe0f|\\U0001f3d8\\ufe0f|\\U0001f3da\\ufe0f|\\u26e9\\ufe0f|\\U0001f3d9\\ufe0f|\\u2668\\ufe0f|\\U0001f3ce\\ufe0f|\\U0001f3cd\\ufe0f|\\U0001f6e3\\ufe0f|\\U0001f6e4\\ufe0f|\\U0001f6e2\\ufe0f|\\U0001f6f3\\ufe0f|\\u26f4\\ufe0f|\\U0001f6e5\\ufe0f|\\u2708\\ufe0f|\\U0001f6e9\\ufe0f|\\U0001f6f0\\ufe0f|\\U0001f6ce\\ufe0f|\\u23f1\\ufe0f|\\u23f2\\ufe0f|\\U0001f570\\ufe0f|\\U0001f321\\ufe0f|\\u2600\\ufe0f|\\u2601\\ufe0f|\\u26c8\\ufe0f|\\U0001f324\\ufe0f|\\U0001f325\\ufe0f|\\U0001f326\\ufe0f|\\U0001f327\\ufe0f|\\U0001f328\\ufe0f|\\U0001f329\\ufe0f|\\U0001f32a\\ufe0f|\\U0001f32b\\ufe0f|\\U0001f32c\\ufe0f|\\u2602\\ufe0f|\\u26f1\\ufe0f|\\u2744\\ufe0f|\\u2603\\ufe0f|\\u2604\\ufe0f|\\U0001f397\\ufe0f|\\U0001f39f\\ufe0f|\\U0001f396\\ufe0f|\\u26f8\\ufe0f|\\U0001f579\\ufe0f|\\u2660\\ufe0f|\\u2665\\ufe0f|\\u2666\\ufe0f|\\u2663\\ufe0f|\\u265f\\ufe0f|\\U0001f5bc\\ufe0f|\\U0001f576\\ufe0f|\\U0001f6cd\\ufe0f|\\u26d1\\ufe0f|\\U0001f399\\ufe0f|\\U0001f39a\\ufe0f|\\U0001f39b\\ufe0f|\\u260e\\ufe0f|\\U0001f5a5\\ufe0f|\\U0001f5a8\\ufe0f|\\u2328\\ufe0f|\\U0001f5b1\\ufe0f|\\U0001f5b2\\ufe0f|\\U0001f39e\\ufe0f|\\U0001f4fd\\ufe0f|\\U0001f56f\\ufe0f|\\U0001f5de\\ufe0f|\\U0001f3f7\\ufe0f|\\u2709\\ufe0f|\\U0001f5f3\\ufe0f|\\u270f\\ufe0f|\\u2712\\ufe0f|\\U0001f58b\\ufe0f|\\U0001f58a\\ufe0f|\\U0001f58c\\ufe0f|\\U0001f58d\\ufe0f|\\U0001f5c2\\ufe0f|\\U0001f5d2\\ufe0f|\\U0001f5d3\\ufe0f|\\U0001f587\\ufe0f|\\u2702\\ufe0f|\\U0001f5c3\\ufe0f|\\U0001f5c4\\ufe0f|\\U0001f5d1\\ufe0f|\\U0001f5dd\\ufe0f|\\u26cf\\ufe0f|\\u2692\\ufe0f|\\U0001f6e0\\ufe0f|\\U0001f5e1\\ufe0f|\\u2694\\ufe0f|\\U0001f6e1\\ufe0f|\\u2699\\ufe0f|\\U0001f5dc\\ufe0f|\\u2696\\ufe0f|\\u26d3\\ufe0f|\\u2697\\ufe0f|\\U0001f6cf\\ufe0f|\\U0001f6cb\\ufe0f|\\u26b0\\ufe0f|\\u26b1\\ufe0f|\\u26a0\\ufe0f|\\u2622\\ufe0f|\\u2623\\ufe0f|\\u2b06\\ufe0f|\\u2197\\ufe0f|\\u27a1\\ufe0f|\\u2198\\ufe0f|\\u2b07\\ufe0f|\\u2199\\ufe0f|\\u2b05\\ufe0f|\\u2196\\ufe0f|\\u2195\\ufe0f|\\u2194\\ufe0f|\\u21a9\\ufe0f|\\u21aa\\ufe0f|\\u2934\\ufe0f|\\u2935\\ufe0f|\\u269b\\ufe0f|\\U0001f549\\ufe0f|\\u2721\\ufe0f|\\u2638\\ufe0f|\\u262f\\ufe0f|\\u271d\\ufe0f|\\u2626\\ufe0f|\\u262a\\ufe0f|\\u262e\\ufe0f|\\u25b6\\ufe0f|\\u23ed\\ufe0f|\\u23ef\\ufe0f|\\u25c0\\ufe0f|\\u23ee\\ufe0f|\\u23f8\\ufe0f|\\u23f9\\ufe0f|\\u23fa\\ufe0f|\\u23cf\\ufe0f|\\u2640\\ufe0f|\\u2642\\ufe0f|\\u2695\\ufe0f|\\u267e\\ufe0f|\\u267b\\ufe0f|\\u269c\\ufe0f|\\u2611\\ufe0f|\\u2714\\ufe0f|\\u2716\\ufe0f|\\u303d\\ufe0f|\\u2733\\ufe0f|\\u2734\\ufe0f|\\u2747\\ufe0f|\\u203c\\ufe0f|\\u2049\\ufe0f|\\u3030\\ufe0f|\\xa9\\ufe0f|\\xae\\ufe0f|\\u2122\\ufe0f|\\\\#\\u20e3|\\\\*\\u20e3|0\\u20e3|1\\u20e3|2\\u20e3|3\\u20e3|4\\u20e3|5\\u20e3|6\\u20e3|7\\u20e3|8\\u20e3|9\\u20e3|\\U0001f170\\ufe0f|\\U0001f171\\ufe0f|\\u2139\\ufe0f|\\u24c2\\ufe0f|\\U0001f17e\\ufe0f|\\U0001f17f\\ufe0f|\\U0001f202\\ufe0f|\\U0001f237\\ufe0f|\\u3297\\ufe0f|\\u3299\\ufe0f|\\u25fc\\ufe0f|\\u25fb\\ufe0f|\\u25aa\\ufe0f|\\u25ab\\ufe0f|\\U0001f3f3\\ufe0f|\\U0001f1e6\\U0001f1e8|\\U0001f1e6\\U0001f1e9|\\U0001f1e6\\U0001f1ea|\\U0001f1e6\\U0001f1eb|\\U0001f1e6\\U0001f1ec|\\U0001f1e6\\U0001f1ee|\\U0001f1e6\\U0001f1f1|\\U0001f1e6\\U0001f1f2|\\U0001f1e6\\U0001f1f4|\\U0001f1e6\\U0001f1f6|\\U0001f1e6\\U0001f1f7|\\U0001f1e6\\U0001f1f8|\\U0001f1e6\\U0001f1f9|\\U0001f1e6\\U0001f1fa|\\U0001f1e6\\U0001f1fc|\\U0001f1e6\\U0001f1fd|\\U0001f1e6\\U0001f1ff|\\U0001f1e7\\U0001f1e6|\\U0001f1e7\\U0001f1e7|\\U0001f1e7\\U0001f1e9|\\U0001f1e7\\U0001f1ea|\\U0001f1e7\\U0001f1eb|\\U0001f1e7\\U0001f1ec|\\U0001f1e7\\U0001f1ed|\\U0001f1e7\\U0001f1ee|\\U0001f1e7\\U0001f1ef|\\U0001f1e7\\U0001f1f1|\\U0001f1e7\\U0001f1f2|\\U0001f1e7\\U0001f1f3|\\U0001f1e7\\U0001f1f4|\\U0001f1e7\\U0001f1f6|\\U0001f1e7\\U0001f1f7|\\U0001f1e7\\U0001f1f8|\\U0001f1e7\\U0001f1f9|\\U0001f1e7\\U0001f1fb|\\U0001f1e7\\U0001f1fc|\\U0001f1e7\\U0001f1fe|\\U0001f1e7\\U0001f1ff|\\U0001f1e8\\U0001f1e6|\\U0001f1e8\\U0001f1e8|\\U0001f1e8\\U0001f1e9|\\U0001f1e8\\U0001f1eb|\\U0001f1e8\\U0001f1ec|\\U0001f1e8\\U0001f1ed|\\U0001f1e8\\U0001f1ee|\\U0001f1e8\\U0001f1f0|\\U0001f1e8\\U0001f1f1|\\U0001f1e8\\U0001f1f2|\\U0001f1e8\\U0001f1f3|\\U0001f1e8\\U0001f1f4|\\U0001f1e8\\U0001f1f5|\\U0001f1e8\\U0001f1f7|\\U0001f1e8\\U0001f1fa|\\U0001f1e8\\U0001f1fb|\\U0001f1e8\\U0001f1fc|\\U0001f1e8\\U0001f1fd|\\U0001f1e8\\U0001f1fe|\\U0001f1e8\\U0001f1ff|\\U0001f1e9\\U0001f1ea|\\U0001f1e9\\U0001f1ec|\\U0001f1e9\\U0001f1ef|\\U0001f1e9\\U0001f1f0|\\U0001f1e9\\U0001f1f2|\\U0001f1e9\\U0001f1f4|\\U0001f1e9\\U0001f1ff|\\U0001f1ea\\U0001f1e6|\\U0001f1ea\\U0001f1e8|\\U0001f1ea\\U0001f1ea|\\U0001f1ea\\U0001f1ec|\\U0001f1ea\\U0001f1ed|\\U0001f1ea\\U0001f1f7|\\U0001f1ea\\U0001f1f8|\\U0001f1ea\\U0001f1f9|\\U0001f1ea\\U0001f1fa|\\U0001f1eb\\U0001f1ee|\\U0001f1eb\\U0001f1ef|\\U0001f1eb\\U0001f1f0|\\U0001f1eb\\U0001f1f2|\\U0001f1eb\\U0001f1f4|\\U0001f1eb\\U0001f1f7|\\U0001f1ec\\U0001f1e6|\\U0001f1ec\\U0001f1e7|\\U0001f1ec\\U0001f1e9|\\U0001f1ec\\U0001f1ea|\\U0001f1ec\\U0001f1eb|\\U0001f1ec\\U0001f1ec|\\U0001f1ec\\U0001f1ed|\\U0001f1ec\\U0001f1ee|\\U0001f1ec\\U0001f1f1|\\U0001f1ec\\U0001f1f2|\\U0001f1ec\\U0001f1f3|\\U0001f1ec\\U0001f1f5|\\U0001f1ec\\U0001f1f6|\\U0001f1ec\\U0001f1f7|\\U0001f1ec\\U0001f1f8|\\U0001f1ec\\U0001f1f9|\\U0001f1ec\\U0001f1fa|\\U0001f1ec\\U0001f1fc|\\U0001f1ec\\U0001f1fe|\\U0001f1ed\\U0001f1f0|\\U0001f1ed\\U0001f1f2|\\U0001f1ed\\U0001f1f3|\\U0001f1ed\\U0001f1f7|\\U0001f1ed\\U0001f1f9|\\U0001f1ed\\U0001f1fa|\\U0001f1ee\\U0001f1e8|\\U0001f1ee\\U0001f1e9|\\U0001f1ee\\U0001f1ea|\\U0001f1ee\\U0001f1f1|\\U0001f1ee\\U0001f1f2|\\U0001f1ee\\U0001f1f3|\\U0001f1ee\\U0001f1f4|\\U0001f1ee\\U0001f1f6|\\U0001f1ee\\U0001f1f7|\\U0001f1ee\\U0001f1f8|\\U0001f1ee\\U0001f1f9|\\U0001f1ef\\U0001f1ea|\\U0001f1ef\\U0001f1f2|\\U0001f1ef\\U0001f1f4|\\U0001f1ef\\U0001f1f5|\\U0001f1f0\\U0001f1ea|\\U0001f1f0\\U0001f1ec|\\U0001f1f0\\U0001f1ed|\\U0001f1f0\\U0001f1ee|\\U0001f1f0\\U0001f1f2|\\U0001f1f0\\U0001f1f3|\\U0001f1f0\\U0001f1f5|\\U0001f1f0\\U0001f1f7|\\U0001f1f0\\U0001f1fc|\\U0001f1f0\\U0001f1fe|\\U0001f1f0\\U0001f1ff|\\U0001f1f1\\U0001f1e6|\\U0001f1f1\\U0001f1e7|\\U0001f1f1\\U0001f1e8|\\U0001f1f1\\U0001f1ee|\\U0001f1f1\\U0001f1f0|\\U0001f1f1\\U0001f1f7|\\U0001f1f1\\U0001f1f8|\\U0001f1f1\\U0001f1f9|\\U0001f1f1\\U0001f1fa|\\U0001f1f1\\U0001f1fb|\\U0001f1f1\\U0001f1fe|\\U0001f1f2\\U0001f1e6|\\U0001f1f2\\U0001f1e8|\\U0001f1f2\\U0001f1e9|\\U0001f1f2\\U0001f1ea|\\U0001f1f2\\U0001f1eb|\\U0001f1f2\\U0001f1ec|\\U0001f1f2\\U0001f1ed|\\U0001f1f2\\U0001f1f0|\\U0001f1f2\\U0001f1f1|\\U0001f1f2\\U0001f1f2|\\U0001f1f2\\U0001f1f3|\\U0001f1f2\\U0001f1f4|\\U0001f1f2\\U0001f1f5|\\U0001f1f2\\U0001f1f6|\\U0001f1f2\\U0001f1f7|\\U0001f1f2\\U0001f1f8|\\U0001f1f2\\U0001f1f9|\\U0001f1f2\\U0001f1fa|\\U0001f1f2\\U0001f1fb|\\U0001f1f2\\U0001f1fc|\\U0001f1f2\\U0001f1fd|\\U0001f1f2\\U0001f1fe|\\U0001f1f2\\U0001f1ff|\\U0001f1f3\\U0001f1e6|\\U0001f1f3\\U0001f1e8|\\U0001f1f3\\U0001f1ea|\\U0001f1f3\\U0001f1eb|\\U0001f1f3\\U0001f1ec|\\U0001f1f3\\U0001f1ee|\\U0001f1f3\\U0001f1f1|\\U0001f1f3\\U0001f1f4|\\U0001f1f3\\U0001f1f5|\\U0001f1f3\\U0001f1f7|\\U0001f1f3\\U0001f1fa|\\U0001f1f3\\U0001f1ff|\\U0001f1f4\\U0001f1f2|\\U0001f1f5\\U0001f1e6|\\U0001f1f5\\U0001f1ea|\\U0001f1f5\\U0001f1eb|\\U0001f1f5\\U0001f1ec|\\U0001f1f5\\U0001f1ed|\\U0001f1f5\\U0001f1f0|\\U0001f1f5\\U0001f1f1|\\U0001f1f5\\U0001f1f2|\\U0001f1f5\\U0001f1f3|\\U0001f1f5\\U0001f1f7|\\U0001f1f5\\U0001f1f8|\\U0001f1f5\\U0001f1f9|\\U0001f1f5\\U0001f1fc|\\U0001f1f5\\U0001f1fe|\\U0001f1f6\\U0001f1e6|\\U0001f1f7\\U0001f1ea|\\U0001f1f7\\U0001f1f4|\\U0001f1f7\\U0001f1f8|\\U0001f1f7\\U0001f1fa|\\U0001f1f7\\U0001f1fc|\\U0001f1f8\\U0001f1e6|\\U0001f1f8\\U0001f1e7|\\U0001f1f8\\U0001f1e8|\\U0001f1f8\\U0001f1e9|\\U0001f1f8\\U0001f1ea|\\U0001f1f8\\U0001f1ec|\\U0001f1f8\\U0001f1ed|\\U0001f1f8\\U0001f1ee|\\U0001f1f8\\U0001f1ef|\\U0001f1f8\\U0001f1f0|\\U0001f1f8\\U0001f1f1|\\U0001f1f8\\U0001f1f2|\\U0001f1f8\\U0001f1f3|\\U0001f1f8\\U0001f1f4|\\U0001f1f8\\U0001f1f7|\\U0001f1f8\\U0001f1f8|\\U0001f1f8\\U0001f1f9|\\U0001f1f8\\U0001f1fb|\\U0001f1f8\\U0001f1fd|\\U0001f1f8\\U0001f1fe|\\U0001f1f8\\U0001f1ff|\\U0001f1f9\\U0001f1e6|\\U0001f1f9\\U0001f1e8|\\U0001f1f9\\U0001f1e9|\\U0001f1f9\\U0001f1eb|\\U0001f1f9\\U0001f1ec|\\U0001f1f9\\U0001f1ed|\\U0001f1f9\\U0001f1ef|\\U0001f1f9\\U0001f1f0|\\U0001f1f9\\U0001f1f1|\\U0001f1f9\\U0001f1f2|\\U0001f1f9\\U0001f1f3|\\U0001f1f9\\U0001f1f4|\\U0001f1f9\\U0001f1f7|\\U0001f1f9\\U0001f1f9|\\U0001f1f9\\U0001f1fb|\\U0001f1f9\\U0001f1fc|\\U0001f1f9\\U0001f1ff|\\U0001f1fa\\U0001f1e6|\\U0001f1fa\\U0001f1ec|\\U0001f1fa\\U0001f1f2|\\U0001f1fa\\U0001f1f3|\\U0001f1fa\\U0001f1f8|\\U0001f1fa\\U0001f1fe|\\U0001f1fa\\U0001f1ff|\\U0001f1fb\\U0001f1e6|\\U0001f1fb\\U0001f1e8|\\U0001f1fb\\U0001f1ea|\\U0001f1fb\\U0001f1ec|\\U0001f1fb\\U0001f1ee|\\U0001f1fb\\U0001f1f3|\\U0001f1fb\\U0001f1fa|\\U0001f1fc\\U0001f1eb|\\U0001f1fc\\U0001f1f8|\\U0001f1fd\\U0001f1f0|\\U0001f1fe\\U0001f1ea|\\U0001f1fe\\U0001f1f9|\\U0001f1ff\\U0001f1e6|\\U0001f1ff\\U0001f1f2|\\U0001f1ff\\U0001f1fc|\\U0001f600|\\U0001f603|\\U0001f604|\\U0001f601|\\U0001f606|\\U0001f605|\\U0001f923|\\U0001f602|\\U0001f642|\\U0001f643|\\U0001f609|\\U0001f60a|\\U0001f607|\\U0001f970|\\U0001f60d|\\U0001f929|\\U0001f618|\\U0001f617|\\u263a|\\U0001f61a|\\U0001f619|\\U0001f60b|\\U0001f61b|\\U0001f61c|\\U0001f92a|\\U0001f61d|\\U0001f911|\\U0001f917|\\U0001f92d|\\U0001f92b|\\U0001f914|\\U0001f910|\\U0001f928|\\U0001f610|\\U0001f611|\\U0001f636|\\U0001f60f|\\U0001f612|\\U0001f644|\\U0001f62c|\\U0001f925|\\U0001f60c|\\U0001f614|\\U0001f62a|\\U0001f924|\\U0001f634|\\U0001f637|\\U0001f912|\\U0001f915|\\U0001f922|\\U0001f92e|\\U0001f927|\\U0001f975|\\U0001f976|\\U0001f974|\\U0001f635|\\U0001f92f|\\U0001f920|\\U0001f973|\\U0001f60e|\\U0001f913|\\U0001f9d0|\\U0001f615|\\U0001f61f|\\U0001f641|\\u2639|\\U0001f62e|\\U0001f62f|\\U0001f632|\\U0001f633|\\U0001f97a|\\U0001f626|\\U0001f627|\\U0001f628|\\U0001f630|\\U0001f625|\\U0001f622|\\U0001f62d|\\U0001f631|\\U0001f616|\\U0001f623|\\U0001f61e|\\U0001f613|\\U0001f629|\\U0001f62b|\\U0001f971|\\U0001f624|\\U0001f621|\\U0001f620|\\U0001f92c|\\U0001f608|\\U0001f47f|\\U0001f480|\\u2620|\\U0001f4a9|\\U0001f921|\\U0001f479|\\U0001f47a|\\U0001f47b|\\U0001f47d|\\U0001f47e|\\U0001f916|\\U0001f63a|\\U0001f638|\\U0001f639|\\U0001f63b|\\U0001f63c|\\U0001f63d|\\U0001f640|\\U0001f63f|\\U0001f63e|\\U0001f648|\\U0001f649|\\U0001f64a|\\U0001f48b|\\U0001f48c|\\U0001f498|\\U0001f49d|\\U0001f496|\\U0001f497|\\U0001f493|\\U0001f49e|\\U0001f495|\\U0001f49f|\\u2763|\\U0001f494|\\u2764|\\U0001f9e1|\\U0001f49b|\\U0001f49a|\\U0001f499|\\U0001f49c|\\U0001f90e|\\U0001f5a4|\\U0001f90d|\\U0001f4af|\\U0001f4a2|\\U0001f4a5|\\U0001f4ab|\\U0001f4a6|\\U0001f4a8|\\U0001f573|\\U0001f4a3|\\U0001f4ac|\\U0001f5e8|\\U0001f5ef|\\U0001f4ad|\\U0001f4a4|\\U0001f44b|\\U0001f91a|\\U0001f590|\\u270b|\\U0001f596|\\U0001f44c|\\U0001f90f|\\u270c|\\U0001f91e|\\U0001f91f|\\U0001f918|\\U0001f919|\\U0001f448|\\U0001f449|\\U0001f446|\\U0001f595|\\U0001f447|\\u261d|\\U0001f44d|\\U0001f44e|\\u270a|\\U0001f44a|\\U0001f91b|\\U0001f91c|\\U0001f44f|\\U0001f64c|\\U0001f450|\\U0001f932|\\U0001f91d|\\U0001f64f|\\u270d|\\U0001f485|\\U0001f933|\\U0001f4aa|\\U0001f9be|\\U0001f9bf|\\U0001f9b5|\\U0001f9b6|\\U0001f442|\\U0001f9bb|\\U0001f443|\\U0001f9e0|\\U0001f9b7|\\U0001f9b4|\\U0001f440|\\U0001f441|\\U0001f445|\\U0001f444|\\U0001f476|\\U0001f9d2|\\U0001f466|\\U0001f467|\\U0001f9d1|\\U0001f471|\\U0001f468|\\U0001f9d4|\\U0001f469|\\U0001f9d3|\\U0001f474|\\U0001f475|\\U0001f64d|\\U0001f64e|\\U0001f645|\\U0001f646|\\U0001f481|\\U0001f64b|\\U0001f9cf|\\U0001f647|\\U0001f926|\\U0001f937|\\U0001f46e|\\U0001f575|\\U0001f482|\\U0001f477|\\U0001f934|\\U0001f478|\\U0001f473|\\U0001f472|\\U0001f9d5|\\U0001f935|\\U0001f470|\\U0001f930|\\U0001f931|\\U0001f47c|\\U0001f385|\\U0001f936|\\U0001f9b8|\\U0001f9b9|\\U0001f9d9|\\U0001f9da|\\U0001f9db|\\U0001f9dc|\\U0001f9dd|\\U0001f9de|\\U0001f9df|\\U0001f486|\\U0001f487|\\U0001f6b6|\\U0001f9cd|\\U0001f9ce|\\U0001f3c3|\\U0001f483|\\U0001f57a|\\U0001f574|\\U0001f46f|\\U0001f9d6|\\U0001f9d7|\\U0001f93a|\\U0001f3c7|\\u26f7|\\U0001f3c2|\\U0001f3cc|\\U0001f3c4|\\U0001f6a3|\\U0001f3ca|\\u26f9|\\U0001f3cb|\\U0001f6b4|\\U0001f6b5|\\U0001f938|\\U0001f93c|\\U0001f93d|\\U0001f93e|\\U0001f939|\\U0001f9d8|\\U0001f6c0|\\U0001f6cc|\\U0001f46d|\\U0001f46b|\\U0001f46c|\\U0001f48f|\\U0001f491|\\U0001f46a|\\U0001f5e3|\\U0001f464|\\U0001f465|\\U0001f463|\\U0001f3fb|\\U0001f3fc|\\U0001f3fd|\\U0001f3fe|\\U0001f3ff|\\U0001f9b0|\\U0001f9b1|\\U0001f9b3|\\U0001f9b2|\\U0001f435|\\U0001f412|\\U0001f98d|\\U0001f9a7|\\U0001f436|\\U0001f415|\\U0001f9ae|\\U0001f429|\\U0001f43a|\\U0001f98a|\\U0001f99d|\\U0001f431|\\U0001f408|\\U0001f981|\\U0001f42f|\\U0001f405|\\U0001f406|\\U0001f434|\\U0001f40e|\\U0001f984|\\U0001f993|\\U0001f98c|\\U0001f42e|\\U0001f402|\\U0001f403|\\U0001f404|\\U0001f437|\\U0001f416|\\U0001f417|\\U0001f43d|\\U0001f40f|\\U0001f411|\\U0001f410|\\U0001f42a|\\U0001f42b|\\U0001f999|\\U0001f992|\\U0001f418|\\U0001f98f|\\U0001f99b|\\U0001f42d|\\U0001f401|\\U0001f400|\\U0001f439|\\U0001f430|\\U0001f407|\\U0001f43f|\\U0001f994|\\U0001f987|\\U0001f43b|\\U0001f428|\\U0001f43c|\\U0001f9a5|\\U0001f9a6|\\U0001f9a8|\\U0001f998|\\U0001f9a1|\\U0001f43e|\\U0001f983|\\U0001f414|\\U0001f413|\\U0001f423|\\U0001f424|\\U0001f425|\\U0001f426|\\U0001f427|\\U0001f54a|\\U0001f985|\\U0001f986|\\U0001f9a2|\\U0001f989|\\U0001f9a9|\\U0001f99a|\\U0001f99c|\\U0001f438|\\U0001f40a|\\U0001f422|\\U0001f98e|\\U0001f40d|\\U0001f432|\\U0001f409|\\U0001f995|\\U0001f996|\\U0001f433|\\U0001f40b|\\U0001f42c|\\U0001f41f|\\U0001f420|\\U0001f421|\\U0001f988|\\U0001f419|\\U0001f41a|\\U0001f40c|\\U0001f98b|\\U0001f41b|\\U0001f41c|\\U0001f41d|\\U0001f41e|\\U0001f997|\\U0001f577|\\U0001f578|\\U0001f982|\\U0001f99f|\\U0001f9a0|\\U0001f490|\\U0001f338|\\U0001f4ae|\\U0001f3f5|\\U0001f339|\\U0001f940|\\U0001f33a|\\U0001f33b|\\U0001f33c|\\U0001f337|\\U0001f331|\\U0001f332|\\U0001f333|\\U0001f334|\\U0001f335|\\U0001f33e|\\U0001f33f|\\u2618|\\U0001f340|\\U0001f341|\\U0001f342|\\U0001f343|\\U0001f347|\\U0001f348|\\U0001f349|\\U0001f34a|\\U0001f34b|\\U0001f34c|\\U0001f34d|\\U0001f96d|\\U0001f34e|\\U0001f34f|\\U0001f350|\\U0001f351|\\U0001f352|\\U0001f353|\\U0001f95d|\\U0001f345|\\U0001f965|\\U0001f951|\\U0001f346|\\U0001f954|\\U0001f955|\\U0001f33d|\\U0001f336|\\U0001f952|\\U0001f96c|\\U0001f966|\\U0001f9c4|\\U0001f9c5|\\U0001f344|\\U0001f95c|\\U0001f330|\\U0001f35e|\\U0001f950|\\U0001f956|\\U0001f968|\\U0001f96f|\\U0001f95e|\\U0001f9c7|\\U0001f9c0|\\U0001f356|\\U0001f357|\\U0001f969|\\U0001f953|\\U0001f354|\\U0001f35f|\\U0001f355|\\U0001f32d|\\U0001f96a|\\U0001f32e|\\U0001f32f|\\U0001f959|\\U0001f9c6|\\U0001f95a|\\U0001f373|\\U0001f958|\\U0001f372|\\U0001f963|\\U0001f957|\\U0001f37f|\\U0001f9c8|\\U0001f9c2|\\U0001f96b|\\U0001f371|\\U0001f358|\\U0001f359|\\U0001f35a|\\U0001f35b|\\U0001f35c|\\U0001f35d|\\U0001f360|\\U0001f362|\\U0001f363|\\U0001f364|\\U0001f365|\\U0001f96e|\\U0001f361|\\U0001f95f|\\U0001f960|\\U0001f961|\\U0001f980|\\U0001f99e|\\U0001f990|\\U0001f991|\\U0001f9aa|\\U0001f366|\\U0001f367|\\U0001f368|\\U0001f369|\\U0001f36a|\\U0001f382|\\U0001f370|\\U0001f9c1|\\U0001f967|\\U0001f36b|\\U0001f36c|\\U0001f36d|\\U0001f36e|\\U0001f36f|\\U0001f37c|\\U0001f95b|\\u2615|\\U0001f375|\\U0001f376|\\U0001f37e|\\U0001f377|\\U0001f378|\\U0001f379|\\U0001f37a|\\U0001f37b|\\U0001f942|\\U0001f943|\\U0001f964|\\U0001f9c3|\\U0001f9c9|\\U0001f9ca|\\U0001f962|\\U0001f37d|\\U0001f374|\\U0001f944|\\U0001f52a|\\U0001f3fa|\\U0001f30d|\\U0001f30e|\\U0001f30f|\\U0001f310|\\U0001f5fa|\\U0001f5fe|\\U0001f9ed|\\U0001f3d4|\\u26f0|\\U0001f30b|\\U0001f5fb|\\U0001f3d5|\\U0001f3d6|\\U0001f3dc|\\U0001f3dd|\\U0001f3de|\\U0001f3df|\\U0001f3db|\\U0001f3d7|\\U0001f9f1|\\U0001f3d8|\\U0001f3da|\\U0001f3e0|\\U0001f3e1|\\U0001f3e2|\\U0001f3e3|\\U0001f3e4|\\U0001f3e5|\\U0001f3e6|\\U0001f3e8|\\U0001f3e9|\\U0001f3ea|\\U0001f3eb|\\U0001f3ec|\\U0001f3ed|\\U0001f3ef|\\U0001f3f0|\\U0001f492|\\U0001f5fc|\\U0001f5fd|\\u26ea|\\U0001f54c|\\U0001f6d5|\\U0001f54d|\\u26e9|\\U0001f54b|\\u26f2|\\u26fa|\\U0001f301|\\U0001f303|\\U0001f3d9|\\U0001f304|\\U0001f305|\\U0001f306|\\U0001f307|\\U0001f309|\\u2668|\\U0001f3a0|\\U0001f3a1|\\U0001f3a2|\\U0001f488|\\U0001f3aa|\\U0001f682|\\U0001f683|\\U0001f684|\\U0001f685|\\U0001f686|\\U0001f687|\\U0001f688|\\U0001f689|\\U0001f68a|\\U0001f69d|\\U0001f69e|\\U0001f68b|\\U0001f68c|\\U0001f68d|\\U0001f68e|\\U0001f690|\\U0001f691|\\U0001f692|\\U0001f693|\\U0001f694|\\U0001f695|\\U0001f696|\\U0001f697|\\U0001f698|\\U0001f699|\\U0001f69a|\\U0001f69b|\\U0001f69c|\\U0001f3ce|\\U0001f3cd|\\U0001f6f5|\\U0001f9bd|\\U0001f9bc|\\U0001f6fa|\\U0001f6b2|\\U0001f6f4|\\U0001f6f9|\\U0001f68f|\\U0001f6e3|\\U0001f6e4|\\U0001f6e2|\\u26fd|\\U0001f6a8|\\U0001f6a5|\\U0001f6a6|\\U0001f6d1|\\U0001f6a7|\\u2693|\\u26f5|\\U0001f6f6|\\U0001f6a4|\\U0001f6f3|\\u26f4|\\U0001f6e5|\\U0001f6a2|\\u2708|\\U0001f6e9|\\U0001f6eb|\\U0001f6ec|\\U0001fa82|\\U0001f4ba|\\U0001f681|\\U0001f69f|\\U0001f6a0|\\U0001f6a1|\\U0001f6f0|\\U0001f680|\\U0001f6f8|\\U0001f6ce|\\U0001f9f3|\\u231b|\\u23f3|\\u231a|\\u23f0|\\u23f1|\\u23f2|\\U0001f570|\\U0001f55b|\\U0001f567|\\U0001f550|\\U0001f55c|\\U0001f551|\\U0001f55d|\\U0001f552|\\U0001f55e|\\U0001f553|\\U0001f55f|\\U0001f554|\\U0001f560|\\U0001f555|\\U0001f561|\\U0001f556|\\U0001f562|\\U0001f557|\\U0001f563|\\U0001f558|\\U0001f564|\\U0001f559|\\U0001f565|\\U0001f55a|\\U0001f566|\\U0001f311|\\U0001f312|\\U0001f313|\\U0001f314|\\U0001f315|\\U0001f316|\\U0001f317|\\U0001f318|\\U0001f319|\\U0001f31a|\\U0001f31b|\\U0001f31c|\\U0001f321|\\u2600|\\U0001f31d|\\U0001f31e|\\U0001fa90|\\u2b50|\\U0001f31f|\\U0001f320|\\U0001f30c|\\u2601|\\u26c5|\\u26c8|\\U0001f324|\\U0001f325|\\U0001f326|\\U0001f327|\\U0001f328|\\U0001f329|\\U0001f32a|\\U0001f32b|\\U0001f32c|\\U0001f300|\\U0001f308|\\U0001f302|\\u2602|\\u2614|\\u26f1|\\u26a1|\\u2744|\\u2603|\\u26c4|\\u2604|\\U0001f525|\\U0001f4a7|\\U0001f30a|\\U0001f383|\\U0001f384|\\U0001f386|\\U0001f387|\\U0001f9e8|\\u2728|\\U0001f388|\\U0001f389|\\U0001f38a|\\U0001f38b|\\U0001f38d|\\U0001f38e|\\U0001f38f|\\U0001f390|\\U0001f391|\\U0001f9e7|\\U0001f380|\\U0001f381|\\U0001f397|\\U0001f39f|\\U0001f3ab|\\U0001f396|\\U0001f3c6|\\U0001f3c5|\\U0001f947|\\U0001f948|\\U0001f949|\\u26bd|\\u26be|\\U0001f94e|\\U0001f3c0|\\U0001f3d0|\\U0001f3c8|\\U0001f3c9|\\U0001f3be|\\U0001f94f|\\U0001f3b3|\\U0001f3cf|\\U0001f3d1|\\U0001f3d2|\\U0001f94d|\\U0001f3d3|\\U0001f3f8|\\U0001f94a|\\U0001f94b|\\U0001f945|\\u26f3|\\u26f8|\\U0001f3a3|\\U0001f93f|\\U0001f3bd|\\U0001f3bf|\\U0001f6f7|\\U0001f94c|\\U0001f3af|\\U0001fa80|\\U0001fa81|\\U0001f3b1|\\U0001f52e|\\U0001f9ff|\\U0001f3ae|\\U0001f579|\\U0001f3b0|\\U0001f3b2|\\U0001f9e9|\\U0001f9f8|\\u2660|\\u2665|\\u2666|\\u2663|\\u265f|\\U0001f0cf|\\U0001f004|\\U0001f3b4|\\U0001f3ad|\\U0001f5bc|\\U0001f3a8|\\U0001f9f5|\\U0001f9f6|\\U0001f453|\\U0001f576|\\U0001f97d|\\U0001f97c|\\U0001f9ba|\\U0001f454|\\U0001f455|\\U0001f456|\\U0001f9e3|\\U0001f9e4|\\U0001f9e5|\\U0001f9e6|\\U0001f457|\\U0001f458|\\U0001f97b|\\U0001fa71|\\U0001fa72|\\U0001fa73|\\U0001f459|\\U0001f45a|\\U0001f45b|\\U0001f45c|\\U0001f45d|\\U0001f6cd|\\U0001f392|\\U0001f45e|\\U0001f45f|\\U0001f97e|\\U0001f97f|\\U0001f460|\\U0001f461|\\U0001fa70|\\U0001f462|\\U0001f451|\\U0001f452|\\U0001f3a9|\\U0001f393|\\U0001f9e2|\\u26d1|\\U0001f4ff|\\U0001f484|\\U0001f48d|\\U0001f48e|\\U0001f507|\\U0001f508|\\U0001f509|\\U0001f50a|\\U0001f4e2|\\U0001f4e3|\\U0001f4ef|\\U0001f514|\\U0001f515|\\U0001f3bc|\\U0001f3b5|\\U0001f3b6|\\U0001f399|\\U0001f39a|\\U0001f39b|\\U0001f3a4|\\U0001f3a7|\\U0001f4fb|\\U0001f3b7|\\U0001f3b8|\\U0001f3b9|\\U0001f3ba|\\U0001f3bb|\\U0001fa95|\\U0001f941|\\U0001f4f1|\\U0001f4f2|\\u260e|\\U0001f4de|\\U0001f4df|\\U0001f4e0|\\U0001f50b|\\U0001f50c|\\U0001f4bb|\\U0001f5a5|\\U0001f5a8|\\u2328|\\U0001f5b1|\\U0001f5b2|\\U0001f4bd|\\U0001f4be|\\U0001f4bf|\\U0001f4c0|\\U0001f9ee|\\U0001f3a5|\\U0001f39e|\\U0001f4fd|\\U0001f3ac|\\U0001f4fa|\\U0001f4f7|\\U0001f4f8|\\U0001f4f9|\\U0001f4fc|\\U0001f50d|\\U0001f50e|\\U0001f56f|\\U0001f4a1|\\U0001f526|\\U0001f3ee|\\U0001fa94|\\U0001f4d4|\\U0001f4d5|\\U0001f4d6|\\U0001f4d7|\\U0001f4d8|\\U0001f4d9|\\U0001f4da|\\U0001f4d3|\\U0001f4d2|\\U0001f4c3|\\U0001f4dc|\\U0001f4c4|\\U0001f4f0|\\U0001f5de|\\U0001f4d1|\\U0001f516|\\U0001f3f7|\\U0001f4b0|\\U0001f4b4|\\U0001f4b5|\\U0001f4b6|\\U0001f4b7|\\U0001f4b8|\\U0001f4b3|\\U0001f9fe|\\U0001f4b9|\\U0001f4b1|\\U0001f4b2|\\u2709|\\U0001f4e7|\\U0001f4e8|\\U0001f4e9|\\U0001f4e4|\\U0001f4e5|\\U0001f4e6|\\U0001f4eb|\\U0001f4ea|\\U0001f4ec|\\U0001f4ed|\\U0001f4ee|\\U0001f5f3|\\u270f|\\u2712|\\U0001f58b|\\U0001f58a|\\U0001f58c|\\U0001f58d|\\U0001f4dd|\\U0001f4bc|\\U0001f4c1|\\U0001f4c2|\\U0001f5c2|\\U0001f4c5|\\U0001f4c6|\\U0001f5d2|\\U0001f5d3|\\U0001f4c7|\\U0001f4c8|\\U0001f4c9|\\U0001f4ca|\\U0001f4cb|\\U0001f4cc|\\U0001f4cd|\\U0001f4ce|\\U0001f587|\\U0001f4cf|\\U0001f4d0|\\u2702|\\U0001f5c3|\\U0001f5c4|\\U0001f5d1|\\U0001f512|\\U0001f513|\\U0001f50f|\\U0001f510|\\U0001f511|\\U0001f5dd|\\U0001f528|\\U0001fa93|\\u26cf|\\u2692|\\U0001f6e0|\\U0001f5e1|\\u2694|\\U0001f52b|\\U0001f3f9|\\U0001f6e1|\\U0001f527|\\U0001f529|\\u2699|\\U0001f5dc|\\u2696|\\U0001f9af|\\U0001f517|\\u26d3|\\U0001f9f0|\\U0001f9f2|\\u2697|\\U0001f9ea|\\U0001f9eb|\\U0001f9ec|\\U0001f52c|\\U0001f52d|\\U0001f4e1|\\U0001f489|\\U0001fa78|\\U0001f48a|\\U0001fa79|\\U0001fa7a|\\U0001f6aa|\\U0001f6cf|\\U0001f6cb|\\U0001fa91|\\U0001f6bd|\\U0001f6bf|\\U0001f6c1|\\U0001fa92|\\U0001f9f4|\\U0001f9f7|\\U0001f9f9|\\U0001f9fa|\\U0001f9fb|\\U0001f9fc|\\U0001f9fd|\\U0001f9ef|\\U0001f6d2|\\U0001f6ac|\\u26b0|\\u26b1|\\U0001f5ff|\\U0001f3e7|\\U0001f6ae|\\U0001f6b0|\\u267f|\\U0001f6b9|\\U0001f6ba|\\U0001f6bb|\\U0001f6bc|\\U0001f6be|\\U0001f6c2|\\U0001f6c3|\\U0001f6c4|\\U0001f6c5|\\u26a0|\\U0001f6b8|\\u26d4|\\U0001f6ab|\\U0001f6b3|\\U0001f6ad|\\U0001f6af|\\U0001f6b1|\\U0001f6b7|\\U0001f4f5|\\U0001f51e|\\u2622|\\u2623|\\u2b06|\\u2197|\\u27a1|\\u2198|\\u2b07|\\u2199|\\u2b05|\\u2196|\\u2195|\\u2194|\\u21a9|\\u21aa|\\u2934|\\u2935|\\U0001f503|\\U0001f504|\\U0001f519|\\U0001f51a|\\U0001f51b|\\U0001f51c|\\U0001f51d|\\U0001f6d0|\\u269b|\\U0001f549|\\u2721|\\u2638|\\u262f|\\u271d|\\u2626|\\u262a|\\u262e|\\U0001f54e|\\U0001f52f|\\u2648|\\u2649|\\u264a|\\u264b|\\u264c|\\u264d|\\u264e|\\u264f|\\u2650|\\u2651|\\u2652|\\u2653|\\u26ce|\\U0001f500|\\U0001f501|\\U0001f502|\\u25b6|\\u23e9|\\u23ed|\\u23ef|\\u25c0|\\u23ea|\\u23ee|\\U0001f53c|\\u23eb|\\U0001f53d|\\u23ec|\\u23f8|\\u23f9|\\u23fa|\\u23cf|\\U0001f3a6|\\U0001f505|\\U0001f506|\\U0001f4f6|\\U0001f4f3|\\U0001f4f4|\\u2640|\\u2642|\\u2695|\\u267e|\\u267b|\\u269c|\\U0001f531|\\U0001f4db|\\U0001f530|\\u2b55|\\u2705|\\u2611|\\u2714|\\u2716|\\u274c|\\u274e|\\u2795|\\u2796|\\u2797|\\u27b0|\\u27bf|\\u303d|\\u2733|\\u2734|\\u2747|\\u203c|\\u2049|\\u2753|\\u2754|\\u2755|\\u2757|\\u3030|\\xa9|\\xae|\\u2122|\\U0001f51f|\\U0001f520|\\U0001f521|\\U0001f522|\\U0001f523|\\U0001f524|\\U0001f170|\\U0001f18e|\\U0001f171|\\U0001f191|\\U0001f192|\\U0001f193|\\u2139|\\U0001f194|\\u24c2|\\U0001f195|\\U0001f196|\\U0001f17e|\\U0001f197|\\U0001f17f|\\U0001f198|\\U0001f199|\\U0001f19a|\\U0001f201|\\U0001f202|\\U0001f237|\\U0001f236|\\U0001f22f|\\U0001f250|\\U0001f239|\\U0001f21a|\\U0001f232|\\U0001f251|\\U0001f238|\\U0001f234|\\U0001f233|\\u3297|\\u3299|\\U0001f23a|\\U0001f235|\\U0001f534|\\U0001f7e0|\\U0001f7e1|\\U0001f7e2|\\U0001f535|\\U0001f7e3|\\U0001f7e4|\\u26ab|\\u26aa|\\U0001f7e5|\\U0001f7e7|\\U0001f7e8|\\U0001f7e9|\\U0001f7e6|\\U0001f7ea|\\U0001f7eb|\\u2b1b|\\u2b1c|\\u25fc|\\u25fb|\\u25fe|\\u25fd|\\u25aa|\\u25ab|\\U0001f536|\\U0001f537|\\U0001f538|\\U0001f539|\\U0001f53a|\\U0001f53b|\\U0001f4a0|\\U0001f518|\\U0001f533|\\U0001f532|\\U0001f3c1|\\U0001f6a9|\\U0001f38c|\\U0001f3f4|\\U0001f3f3\")\n",
        "  return emoji_pattern.sub(r' ', s)\n",
        "\n",
        "def replaceLinks(s):\n",
        "  link_pattern = regex.compile(r\"https?:\\/\\/(www\\.)?[-a-zA-Z0-9@:%._\\+~#=]{1,256}\\.[a-zA-Z0-9()]{1,6}\\b([-a-zA-Z0-9()@:%_\\+.~#?&//=]*)\")\n",
        "  matches = [m.group() for m in link_pattern.finditer(s)]\n",
        "  to_replace = set(matches)\n",
        "  # IDEA : for each occurence in the set, replace with LINK_i\n",
        "  for idx, val in enumerate(to_replace):\n",
        "    s = s.replace(val, \"<LINK_\" + str(idx)+ \"> \")\n",
        "  return s \n",
        "\n",
        "def removeComments(s):\n",
        "  block_comment_pattern = regex.compile(r\"/\\*([^*]|[\\r\\n]|(\\*+([^*/]|[\\r\\n])))*\\*+/\")\n",
        "  inline_comment_pattern = regex.compile(r\"(?<!:)\\/\\/.*\")\n",
        "  s = block_comment_pattern.sub(r' ', s)\n",
        "  s = inline_comment_pattern.sub(r' ', s)\n",
        "  return s\n",
        "\n",
        "def isNonLatin(s):\n",
        "\treturn bool(regex.search(r'[^\\x00-\\x7F]+', s))\n",
        " \n",
        "# false if string does not contains any letter (e.g., `------------`)\n",
        "def hasChar(s):\n",
        "  return bool(regex.search(r'[a-zA-Z]+', s))\n",
        "\n",
        "def removeExtraSpaces(s):\n",
        "  return \" \".join(s.split())\n",
        "\n",
        "def cleanString(s):\n",
        "    s = s.replace(\"\\n\",' ').replace(\"\\t\",' ').replace(\"</s>\",' ').replace(\"<s>\",' ').strip()\n",
        "    return removeExtraSpaces(s)\n",
        "\n",
        "invalid_tags = [\"img\", \"s\", \"b\", \"dl\", \"dd\", \"i\", \"sub\",\"sup\", \"kbd\", \"code\", \"pre\", \"a\", \"hr\", \"br\" ,\"h1\" ,\"h2\" ,\"h3\" ,\"h4\" ,\"h5\" ,\"h6\" ,\"strong\" ,\"ul\" ,\"ol\" ,\"li\" ,\"p\" ,\"blockquote\" ,\"em\" ,\"s\" ,\"strike\", \"body\" ,\"html\"]\n"
      ],
      "execution_count": 15,
      "outputs": []
    },
    {
      "cell_type": "markdown",
      "metadata": {
        "id": "x90xlJSP-VCP"
      },
      "source": [
        "## We import & clean the stackoverflow archive"
      ]
    },
    {
      "cell_type": "code",
      "metadata": {
        "colab": {
          "base_uri": "https://localhost:8080/"
        },
        "id": "HD8LI_Tf95j2",
        "outputId": "095ad211-255e-45aa-da11-c0b1bdd9d31e"
      },
      "source": [
        "# the path in your GCS bucket where you stored the stackoverflow archive\n",
        "!gsutil cp gs://{bucket_name}/replication_package/raw_data/pre-training/stackoverflow_EXT.csv ./stackoverflow.csv\n",
        "\n",
        "with open('./stackoverflow.csv') as f:\n",
        "  SO_lines = f.read().splitlines()\n",
        "\n",
        "# check we have 1018163 rows\n",
        "!wc -l ./stackoverflow.csv"
      ],
      "execution_count": 4,
      "outputs": [
        {
          "output_type": "stream",
          "text": [
            "Copying gs://code_review_automation/replication_package/raw_data/pre-training/stackoverflow_EXT.csv...\n",
            "/ [1 files][  1.2 GiB/  1.2 GiB]   57.7 MiB/s                                   \n",
            "Operation completed over 1 objects/1.2 GiB.                                      \n",
            "1018163 ./stackoverflow.csv\n"
          ],
          "name": "stdout"
        }
      ]
    },
    {
      "cell_type": "code",
      "metadata": {
        "colab": {
          "base_uri": "https://localhost:8080/"
        },
        "id": "hc99-anx95o2",
        "outputId": "f6a8ae49-e3b6-4e62-94e0-ab042719db22"
      },
      "source": [
        "answers = []\n",
        "\n",
        "for line in SO_lines:\n",
        "  soup = BeautifulSoup(line)\n",
        "\n",
        "  # discard whole \"del\" tag if any\n",
        "  for s in soup.select('del'):\n",
        "    s.extract()\n",
        "\n",
        "  # strucures like `<code><pre>...</pre></code>` or `<pre><code>...</code></pre>` are replaced with\n",
        "  # <CODICE>...</CODICE>, this tag is temporary kept untill we clean any other tag including <code> \n",
        "  # and <pre> and we will replace it back with <code></code>\n",
        "  for outer in soup.find_all(['pre','code']):\n",
        "    inner_tag = \"code\" if outer.name == \"pre\" else \"pre\"  \n",
        "    for inner in outer.find_all(inner_tag, recursive=False):\n",
        "      inner.string = removeComments(inner.get_text())\n",
        "      code_tag = soup.new_tag('CODICE')\n",
        "      inner.wrap(code_tag)\n",
        "\n",
        "  # clan any other markdown tag in the invalid tag list\n",
        "  for tag in invalid_tags: \n",
        "    for match in soup.findAll(tag):\n",
        "        match.replaceWithChildren()\n",
        "\n",
        "  # check non latin + replace weird chars should be done\n",
        "  clean_line = str(soup)\n",
        "  clean_line = replaceLinks(clean_line)\n",
        "  clean_line = removeEmojis(clean_line)\n",
        "\n",
        "  # replace back 'CODICE' with 'code'\n",
        "  clean_line = clean_line.replace(\"<CODICE>\",\"<code>\").replace(\"</CODICE>\",\"</code>\").strip() \n",
        "   \n",
        "  # process the line such that we have natural language comments enclosed in `<technical_language></technical_language>` tag\n",
        "  processed_line = \"\"\n",
        "  code_pattern = regex.compile(r'<code>.+?</code>', regex.DOTALL)\n",
        "  \n",
        "  texts = regex.split(code_pattern, clean_line)\n",
        "  codes = regex.findall(code_pattern, clean_line)\n",
        "\n",
        "  next_text = texts.pop(0)\n",
        "  if len(next_text.strip()) > 0:\n",
        "    processed_line += \" <technical_language> \" + next_text + \" </technical_language> \" \n",
        "  \n",
        "  while len(codes)>0:\n",
        "    next_code = codes.pop(0)\n",
        "    processed_line += next_code\n",
        "    next_text = texts.pop(0)\n",
        "    if len(next_text.strip()) > 0:\n",
        "      processed_line += \" <technical_language> \" + next_text + \" </technical_language> \" \n",
        "\n",
        "  # final cleaning by replacing controls character and removing extra spaces\n",
        "  processed_line = processed_line.replace(\"&amp;\",'&').replace(\"&#xA;\",r' ').replace(\"&gt;\",'>').replace(\"&lt;\",'<').strip() \n",
        "  processed_line = removeExtraSpaces(processed_line)\n",
        "\n",
        "  # Add entry to dataset if the total number of tokens is below 512\n",
        "  number_of_tokens = len(word_tokenize(processed_line))\n",
        "  if number_of_tokens >= 5 and number_of_tokens <= 512 :\n",
        "    answers.append(processed_line)\n",
        "\n",
        "# check we have 977672 rows\n",
        "print(len(answers))\n",
        "\n",
        "with open('./pretraining_so.txt', 'w') as f:\n",
        "  for line in answers:\n",
        "    f.write(\"%s\\n\" % line)\n",
        "\n",
        "# we store on gcs the processed version of our stack overflow dataset \n",
        "!gsutil cp ./pretraining_so.txt  gs://{bucket_name}/replication_package/raw_data/pre-training/pretraining_so.txt"
      ],
      "execution_count": 5,
      "outputs": [
        {
          "output_type": "stream",
          "text": [
            "977672\n",
            "Copying file://./pretraining_so.txt [Content-Type=text/plain]...\n",
            "==> NOTE: You are uploading one or more large file(s), which would run\n",
            "significantly faster if you enable parallel composite uploads. This\n",
            "feature can be enabled by editing the\n",
            "\"parallel_composite_upload_threshold\" value in your .boto\n",
            "configuration file. However, note that if you do this large files will\n",
            "be uploaded as `composite objects\n",
            "<https://cloud.google.com/storage/docs/composite-objects>`_,which\n",
            "means that any user who downloads such objects will need to have a\n",
            "compiled crcmod installed (see \"gsutil help crcmod\"). This is because\n",
            "without a compiled crcmod, computing checksums on composite objects is\n",
            "so slow that gsutil disables downloads of composite objects.\n",
            "\n",
            "/\n",
            "Operation completed over 1 objects/636.9 MiB.                                    \n"
          ],
          "name": "stdout"
        }
      ]
    },
    {
      "cell_type": "markdown",
      "metadata": {
        "id": "iK6rhHML_tOX"
      },
      "source": [
        "## We Import & clean of CodeSearchNet archive\n"
      ]
    },
    {
      "cell_type": "code",
      "metadata": {
        "colab": {
          "base_uri": "https://localhost:8080/"
        },
        "id": "qidmVYiB_szC",
        "outputId": "c6d9c6a0-7434-45ef-ea5a-75979a4417fa"
      },
      "source": [
        "# the path in your GCS bucket where you stored the codeSearchNet archive\n",
        "!gsutil cp gs://{bucket_name}/replication_package/raw_data/pre-training/java_dedupe_definitions_v2.pkl ./java_dedupe_definitions_v2.pkl\n",
        "\n",
        "with open('./java_dedupe_definitions_v2.pkl', 'rb') as CodeSearchNetLines:\n",
        "  CSNData = pickle.load(CodeSearchNetLines)\n",
        "  \n",
        "# keep only entries with code AND comment\n",
        "CSNData = [entry for entry in CSNData if len(entry['function']) > 0 and len(entry['docstring']) > 0]\n",
        "\n",
        "# check we have 542991 rows\n",
        "len(CSNData)"
      ],
      "execution_count": 6,
      "outputs": [
        {
          "output_type": "stream",
          "text": [
            "Copying gs://code_review_automation/replication_package/raw_data/pre-training/java_dedupe_definitions_v2.pkl...\n",
            "- [1 files][  3.6 GiB/  3.6 GiB]   68.0 MiB/s                                   \n",
            "Operation completed over 1 objects/3.6 GiB.                                      \n"
          ],
          "name": "stdout"
        },
        {
          "output_type": "execute_result",
          "data": {
            "text/plain": [
              "542991"
            ]
          },
          "metadata": {
            "tags": []
          },
          "execution_count": 6
        }
      ]
    },
    {
      "cell_type": "code",
      "metadata": {
        "colab": {
          "base_uri": "https://localhost:8080/"
        },
        "id": "wkOfR7hB95rQ",
        "outputId": "1ca700bc-0851-4d84-c948-606e8f37d700"
      },
      "source": [
        "dataset = []\n",
        "\n",
        "def replaceLinks(s1, s2):\n",
        "\tlink_pattern = regex.compile(r\"https?:\\/\\/(www\\.)?[-a-zA-Z0-9@:%._\\+~#=]{1,256}\\.[a-zA-Z0-9()]{1,6}\\b([-a-zA-Z0-9()@:%_\\+.~#?&//=]*)\")\n",
        "\tmatches = [m.group() for m in link_pattern.finditer(s1 + \" \" + s2)]\n",
        "\tto_replace = set(matches)\n",
        "\n",
        "\t# IDEA : for each occurence in the set, replace with LINK_i\n",
        "\tfor idx, val in enumerate(to_replace):\n",
        "\t\ts1 = s1.replace(val, \" <LINK_\" + str(idx)+ \"> \")\n",
        "\t\ts2 = s2.replace(val, \" <LINK_\" + str(idx)+ \"> \")\n",
        "\treturn s1, s2\n",
        "\n",
        "# build list of regex to discard markdown tags\n",
        "patterns = []\n",
        "for tag in invalid_tags:\n",
        "  patterns.append(regex.compile(\"<\\s*\\/?\\s*\"+tag+\"\\s*[^>]*\\s*>\"))\n",
        "\n",
        "count_nochar_filter = 0\n",
        "count_nonlatin_filter = 0\n",
        "count_token_filter = 0\n",
        "\n",
        "for entry in CSNData:\n",
        "  comment = entry['docstring']\n",
        "\n",
        "  # meaningless comments (e.g., \"-------\")\n",
        "  if not hasChar(comment):\n",
        "    count_nochar_filter += 1\n",
        "    continue\n",
        "  \n",
        "  # other languages\n",
        "  if isNonLatin(comment):\n",
        "    count_nonlatin_filter += 1\n",
        "    continue\n",
        "\n",
        "  # discard markdown from string\n",
        "  for pattern in patterns:\n",
        "    comment = pattern.sub(r' ', comment)\n",
        "\n",
        "  comment = removeEmojis(comment)\n",
        "\n",
        "  # replace bunch of weird characters with proper ones\n",
        "  comment = comment.replace(\"─\",\"-\").replace(\"’\",\"'\").replace(\"≤\",\"<=\").replace(\"≥\",\">=\").replace(\"∞\",\"inf\").replace(\"±\",\"+-\").replace(\"“\",\"\\\"\").replace(\"”\",\"\\\"\").replace(\"└\",\" \").replace(\"├\",\" \").replace(\"（\",\"(\").replace(\"）\",\")\")\n",
        "  comment = cleanString(comment)\n",
        "\n",
        "  code = entry['function']\n",
        "  code = removeComments(code)\n",
        "  code = cleanString(code)\n",
        "\n",
        "  code, comment = replaceLinks(code, comment)\n",
        "\n",
        "  code_len = len(word_tokenize(code))\n",
        "  comment_len = len(word_tokenize(comment))\n",
        "\n",
        "  if code_len + comment_len <= 512:\n",
        "    dataset.append([code, comment, code_len, comment_len])\n",
        "  else :\n",
        "    count_token_filter += 1\n",
        "\n",
        "# check we have 507947 rows\n",
        "print(len(dataset))\n",
        "print(\"count_nochar_filter\", count_nochar_filter)\n",
        "print(\"count_nonlatin_filter\", count_nonlatin_filter)\n",
        "print(\"count_token_filter\", count_token_filter)\n",
        "\n",
        "codeSearchNetDataset = [\"<technical_language> \" + line[1] + \" </technical_language><code> \" + line[0] + \" </code>\" for line in dataset]\n",
        "with open('./pretraining_csn.txt', 'w') as f:\n",
        "    for line in codeSearchNetDataset:\n",
        "        f.write(\"%s\\n\" % line)\n",
        "\n",
        "# we store on gcs the processed version of our stack overflow dataset \n",
        "!gsutil cp ./pretraining_csn.txt  gs://{bucket_name}/replication_package/raw_data/pre-training/pretraining_csn.txt"
      ],
      "execution_count": 7,
      "outputs": [
        {
          "output_type": "stream",
          "text": [
            "507947\n",
            "count_nochar_filter 7857\n",
            "count_nonlatin_filter 15229\n",
            "count_token_filter 11958\n",
            "Copying file://./pretraining_csn.txt [Content-Type=text/plain]...\n",
            "==> NOTE: You are uploading one or more large file(s), which would run\n",
            "significantly faster if you enable parallel composite uploads. This\n",
            "feature can be enabled by editing the\n",
            "\"parallel_composite_upload_threshold\" value in your .boto\n",
            "configuration file. However, note that if you do this large files will\n",
            "be uploaded as `composite objects\n",
            "<https://cloud.google.com/storage/docs/composite-objects>`_,which\n",
            "means that any user who downloads such objects will need to have a\n",
            "compiled crcmod installed (see \"gsutil help crcmod\"). This is because\n",
            "without a compiled crcmod, computing checksums on composite objects is\n",
            "so slow that gsutil disables downloads of composite objects.\n",
            "\n",
            "\\\n",
            "Operation completed over 1 objects/340.5 MiB.                                    \n"
          ],
          "name": "stdout"
        }
      ]
    },
    {
      "cell_type": "markdown",
      "metadata": {
        "id": "ml61YPEeBJZ9"
      },
      "source": [
        "## We can now merge the two cleaned datasets a single one"
      ]
    },
    {
      "cell_type": "code",
      "metadata": {
        "colab": {
          "base_uri": "https://localhost:8080/"
        },
        "id": "opwVvCiu95ty",
        "outputId": "4d6fbe36-b7cc-4b05-ba56-16232cf9851d"
      },
      "source": [
        "final_dataset = codeSearchNetDataset + answers \n",
        "with open('./pretraining.txt', 'w') as f:\n",
        "    for line in final_dataset:\n",
        "        f.write(\"%s\\n\" % line)\n",
        "\n",
        "# we store on gcs the processed version of our final pre-training dataset \n",
        "!gsutil cp ./pretraining.txt  gs://{bucket_name}/replication_package/raw_data/pre-training/pretraining.txt\n",
        "\n",
        "# check we have 1485619 rows\n",
        "!wc -l ./pretraining.txt  "
      ],
      "execution_count": 8,
      "outputs": [
        {
          "output_type": "stream",
          "text": [
            "Copying file://./pretraining.txt [Content-Type=text/plain]...\n",
            "/ [0 files][    0.0 B/977.4 MiB]                                                \r==> NOTE: You are uploading one or more large file(s), which would run\n",
            "significantly faster if you enable parallel composite uploads. This\n",
            "feature can be enabled by editing the\n",
            "\"parallel_composite_upload_threshold\" value in your .boto\n",
            "configuration file. However, note that if you do this large files will\n",
            "be uploaded as `composite objects\n",
            "<https://cloud.google.com/storage/docs/composite-objects>`_,which\n",
            "means that any user who downloads such objects will need to have a\n",
            "compiled crcmod installed (see \"gsutil help crcmod\"). This is because\n",
            "without a compiled crcmod, computing checksums on composite objects is\n",
            "so slow that gsutil disables downloads of composite objects.\n",
            "\n",
            "-\n",
            "Operation completed over 1 objects/977.4 MiB.                                    \n",
            "1485619 ./pretraining.txt\n"
          ],
          "name": "stdout"
        }
      ]
    },
    {
      "cell_type": "markdown",
      "metadata": {
        "id": "LcCss_TKCAwF"
      },
      "source": [
        "#Sentencepiece Model\n",
        "\n",
        "Now that we have a pre-training dataset, we can train a sentencepiece model on it setting `32000` as vocab_size, and adding our user defined tokens.\n",
        "\n",
        "This is a long and resource-hungry process and it will require all the ram available in this notebook. Unfortunately we used a lot of them for processing the datasets so far, and if we exceeds the ram limits this process may get interrupted. \n",
        "We suggest to factory reset this notebook, run again the first cell to download dependencies and log in with your GCS credential. Then, you can download the previusly stored `pretraining.txt` dataset running the next cell and proceed training the sentensepiece model."
      ]
    },
    {
      "cell_type": "code",
      "metadata": {
        "colab": {
          "base_uri": "https://localhost:8080/"
        },
        "id": "RSm6ND5wcXZg",
        "outputId": "fb005006-6093-4222-dbd3-4d76ee243276"
      },
      "source": [
        "!gsutil cp gs://{bucket_name}/replication_package/raw_data/pre-training/pretraining.txt ./pretraining.txt"
      ],
      "execution_count": 6,
      "outputs": [
        {
          "output_type": "stream",
          "text": [
            "Copying gs://code_review_automation/replication_package/raw_data/pre-training/pretraining.txt...\n",
            "- [1 files][977.4 MiB/977.4 MiB]   80.1 MiB/s                                   \n",
            "Operation completed over 1 objects/977.4 MiB.                                    \n"
          ],
          "name": "stdout"
        }
      ]
    },
    {
      "cell_type": "code",
      "metadata": {
        "colab": {
          "base_uri": "https://localhost:8080/"
        },
        "id": "ZlYMQCEv95vq",
        "outputId": "0ac3cdf2-b164-4166-94e5-111f77a0e24f"
      },
      "source": [
        "spm.SentencePieceTrainer.train('--user_defined_symbols=<code>,</code>,<technical_language>,</technical_language> --input=./pretraining.txt --model_prefix=TestModel --vocab_size=32000 --bos_id=-1 --eos_id=1 --unk_id=2 --pad_id=0')\n",
        "!gsutil cp ./TestModel.model gs://{bucket_name}/replication_package/code_review_model/TestModel.model\n",
        "!gsutil cp ./TestModel.vocab gs://{bucket_name}/replication_package/code_review_model/TestModel.vocab\n"
      ],
      "execution_count": 5,
      "outputs": [
        {
          "output_type": "stream",
          "text": [
            "Copying file://./TestModel.model [Content-Type=application/octet-stream]...\n",
            "/ [1 files][761.9 KiB/761.9 KiB]                                                \n",
            "Operation completed over 1 objects/761.9 KiB.                                    \n",
            "Copying file://./TestModel.vocab [Content-Type=application/octet-stream]...\n",
            "/ [1 files][557.4 KiB/557.4 KiB]                                                \n",
            "Operation completed over 1 objects/557.4 KiB.                                    \n"
          ],
          "name": "stdout"
        }
      ]
    },
    {
      "cell_type": "markdown",
      "metadata": {
        "id": "4VVWUP3sCX55"
      },
      "source": [
        "# Dataset Masking\n",
        "We run this masking script to produce the final version of the pre-training dataset which we will feed to the T5 model. For each row of the dataset, this funcion will mask some of the tokens and store two lists containing the masked entries and their relative labels. We finally combine those two in a tsv file and store it in our GCS bucket.\n"
      ]
    },
    {
      "cell_type": "code",
      "metadata": {
        "colab": {
          "base_uri": "https://localhost:8080/"
        },
        "id": "OIzoG9I695yP",
        "outputId": "1b373232-f0db-4ead-c085-8ae760016571"
      },
      "source": [
        "!gsutil cp gs://{bucket_name}/replication_package/utils/T5-masking.py ./T5-masking.py \n",
        "!python3 ./T5-masking.py --train_data_file ./pretraining.txt --tokenizer_name ./TestModel.model --save_folder .\n",
        "\n",
        "df_list_inputs = [] \n",
        "with open(\"./train_inputs.txt\",\"r\") as f:\n",
        "  for line in f:\n",
        "    df_list_inputs.append(line)\n",
        "\n",
        "df_list_labels = [] \n",
        "with open(\"./train_labels.txt\",\"r\") as f:\n",
        "  for line in f:\n",
        "    df_list_labels.append(line)\n",
        "\n",
        "df = pd.DataFrame()\n",
        "df['Inputs']  = df_list_inputs\n",
        "df['Labels']  = df_list_labels\n",
        "\n",
        "f = open(\"./pre-training.tsv\", \"w\")\n",
        "for index, row in df.iterrows():\n",
        "  f.write(row['Inputs'].strip() + \"\\t\" + row['Labels'].strip() + \"\\n\" )\n",
        "f.close()\n",
        "\n",
        "# we store the result in our dataset folder\n",
        "!gsutil cp ./pre-training.tsv  gs://{bucket_name}/replication_package/dataset/pre-training/pre-training.tsv"
      ],
      "execution_count": 9,
      "outputs": [
        {
          "output_type": "stream",
          "text": [
            "Copying gs://code_review_automation/replication_package/utils/T5-masking.py...\n",
            "/ [0 files][    0.0 B/  6.8 KiB]                                                \r/ [1 files][  6.8 KiB/  6.8 KiB]                                                \r\n",
            "Operation completed over 1 objects/6.8 KiB.                                      \n",
            "/usr/local/lib/python3.7/dist-packages/transformers/tokenization_utils_base.py:1631: FutureWarning: Calling T5Tokenizer.from_pretrained() with the path to a single file or url is deprecated and won't be possible anymore in v5. Use a model identifier or the path to a directory instead.\n",
            "  FutureWarning,\n",
            "  0% 0/1485619 [00:00<?, ?it/s]2021-05-26 16:30:29.199174: I tensorflow/stream_executor/platform/default/dso_loader.cc:53] Successfully opened dynamic library libcudart.so.11.0\n",
            "100% 1485619/1485619 [5:44:04<00:00, 71.96it/s]\n",
            "Copying file://./pre-training.tsv [Content-Type=text/tab-separated-values]...\n",
            "==> NOTE: You are uploading one or more large file(s), which would run\n",
            "significantly faster if you enable parallel composite uploads. This\n",
            "feature can be enabled by editing the\n",
            "\"parallel_composite_upload_threshold\" value in your .boto\n",
            "configuration file. However, note that if you do this large files will\n",
            "be uploaded as `composite objects\n",
            "<https://cloud.google.com/storage/docs/composite-objects>`_,which\n",
            "means that any user who downloads such objects will need to have a\n",
            "compiled crcmod installed (see \"gsutil help crcmod\"). This is because\n",
            "without a compiled crcmod, computing checksums on composite objects is\n",
            "so slow that gsutil disables downloads of composite objects.\n",
            "\n",
            "|\n",
            "Operation completed over 1 objects/1.7 GiB.                                      \n"
          ],
          "name": "stdout"
        }
      ]
    },
    {
      "cell_type": "markdown",
      "metadata": {
        "id": "OCu0SvJJjRkX"
      },
      "source": [
        "# FINE-TUNING DATASETS\n",
        "\n",
        "In this section we will build our 3 fine-tuning datasets\n",
        "- small version with raw comments\n",
        "- small version with cleaned comments\n",
        "- large version"
      ]
    },
    {
      "cell_type": "markdown",
      "metadata": {
        "id": "Brp6ujPdlPP1"
      },
      "source": [
        "## setup\n",
        "We start by importing the list of english stopwords (available [here](http://)) and java idioms (available [here](http://)) which we will need to clean comments (for the cleaned comment version)\n"
      ]
    },
    {
      "cell_type": "code",
      "metadata": {
        "colab": {
          "base_uri": "https://localhost:8080/"
        },
        "id": "JG-rQve8mcpN",
        "outputId": "ff5db79c-494a-4d98-9e93-0620a8be941b"
      },
      "source": [
        "!gsutil cp gs://{bucket_name}/replication_package/utils/stop-words-english.txt stop-words.txt\n",
        "!gsutil cp gs://{bucket_name}/replication_package/utils/my_idioms_300.csv idioms.txt"
      ],
      "execution_count": 10,
      "outputs": [
        {
          "output_type": "stream",
          "text": [
            "Copying gs://code_review_automation/replication_package/utils/stop-words-english.txt...\n",
            "/ [0 files][    0.0 B/  3.8 KiB]                                                \r/ [1 files][  3.8 KiB/  3.8 KiB]                                                \r\n",
            "Operation completed over 1 objects/3.8 KiB.                                      \n",
            "Copying gs://code_review_automation/replication_package/utils/my_idioms_300.csv...\n",
            "/ [1 files][  2.0 KiB/  2.0 KiB]                                                \n",
            "Operation completed over 1 objects/2.0 KiB.                                      \n"
          ],
          "name": "stdout"
        }
      ]
    },
    {
      "cell_type": "code",
      "metadata": {
        "colab": {
          "base_uri": "https://localhost:8080/"
        },
        "id": "8WpLlpbslNqd",
        "outputId": "e923e81c-b932-4f37-e5a2-5f9189100495"
      },
      "source": [
        "keywords = ['abstract', 'assert', 'boolean', 'break', 'byte', 'case', 'catch',\n",
        "            'char', 'class', 'const', 'continue', 'default', 'do', 'double',\n",
        "            'else', 'enum', 'extends', 'final', 'finally', 'float', 'for', 'if',\n",
        "            'goto', 'implements', 'import', 'instanceof', 'int', 'interface',\n",
        "            'long', 'native', 'new', 'package', 'private', 'protected', 'public',\n",
        "            'return', 'short', 'static', 'strictfp', 'super', 'switch',\n",
        "            'synchronized', 'this', 'throw', 'throws', 'transient', 'try', 'void',\n",
        "            'volatile', 'while', 'true', 'false', 'null', '+=', '&&', '-=', '!=',\n",
        "            '++', '||', '<=', '>=', '<<=', '>>=', '...', '--', '/=', '>>>=', '<<<=',\n",
        "            'equals', 'inline', 'override']\n",
        "\n",
        "keywords = [k.upper() for k in keywords]\n",
        "\n",
        "stopwords = [line.strip().upper() for line in open(\"stop-words.txt\")]\n",
        "# check is 592\n",
        "print(len(stopwords))\n",
        "\n",
        "idioms = [line.strip().upper() for line in open(\"idioms.txt\")]\n",
        "# check is 300\n",
        "print(len(idioms))\n",
        "\n",
        "for word in stopwords:\n",
        "  if word in idioms or word in keywords:\n",
        "    stopwords.pop(stopwords.index(word))\n",
        "# check is 573\n",
        "print(len(stopwords))\n",
        "\n",
        "stopwords.append('nit')\n",
        "\n",
        "def replaceLinks_FourStrings(s1, s2, s3, s4):\n",
        "  link_pattern = regex.compile(r\"https?:\\/\\/(www\\.)?[-a-zA-Z0-9@:%._\\+~#=]{1,256}\\.[a-zA-Z0-9()]{1,6}\\b([-a-zA-Z0-9()@:%_\\+.~#?&//=]*)\")\n",
        "  matches = [m.group() for m in link_pattern.finditer(s1 + \" \" + s2 + \" \" + s3 + \" \" + s4)]\n",
        "  to_replace = set(matches)\n",
        "\n",
        "  # IDEA : for each occurence in the set, replace with LINK_i\n",
        "  for idx, val in enumerate(to_replace):\n",
        "    s1 = s1.replace(val, \"<LINK_\" + str(idx)+ \">\")\n",
        "    s2 = s2.replace(val, \"<LINK_\" + str(idx)+ \">\")\n",
        "    s3 = s3.replace(val, \"<LINK_\" + str(idx)+ \">\")\n",
        "    s4 = s4.replace(val, \"<LINK_\" + str(idx)+ \">\")\n",
        "\n",
        "  return s1, s2, s3, s4\n",
        "\n",
        "def removeComments(s):\n",
        "  block_comment_pattern = regex.compile(r\"/\\*([^*]|[\\r\\n]|(\\*+([^*/]|[\\r\\n])))*\\*+/\")\n",
        "  inline_marked_comment_pattern = regex.compile(r\"(?<!:)\\/\\/.*?(?=<END>)\")\n",
        "  inline_comment_pattern = regex.compile(r\"(?<!:)\\/\\/.*\")\n",
        "\n",
        "  s = block_comment_pattern.sub(r' ', s)\n",
        "  s = inline_marked_comment_pattern.sub(r' ', s)\n",
        "  s = inline_comment_pattern.sub(r' ', s)\n",
        "\n",
        "  return s"
      ],
      "execution_count": 11,
      "outputs": [
        {
          "output_type": "stream",
          "text": [
            "592\n",
            "300\n",
            "573\n"
          ],
          "name": "stdout"
        }
      ]
    },
    {
      "cell_type": "markdown",
      "metadata": {
        "id": "DffIiVWTjrMZ"
      },
      "source": [
        "## Small Version \n",
        "\n",
        "we import the raw datasets first (available [here](http://))"
      ]
    },
    {
      "cell_type": "code",
      "metadata": {
        "colab": {
          "base_uri": "https://localhost:8080/"
        },
        "id": "hAaJBFVmkCmc",
        "outputId": "487f05fd-4aac-41fd-99df-b5574f1d3586"
      },
      "source": [
        "!gsutil cp  gs://{bucket_name}/replication_package/raw_data/fine_tuning_small/test.csv ./test.csv\n",
        "!gsutil cp  gs://{bucket_name}/replication_package/raw_data/fine_tuning_small/train.csv ./train.csv\n",
        "!gsutil cp  gs://{bucket_name}/replication_package/raw_data/fine_tuning_small/val.csv ./val.csv"
      ],
      "execution_count": 13,
      "outputs": [
        {
          "output_type": "stream",
          "text": [
            "Copying file://./test.csv [Content-Type=text/csv]...\n",
            "/ [1 files][  1.8 MiB/  1.8 MiB]                                                \n",
            "Operation completed over 1 objects/1.8 MiB.                                      \n",
            "Copying file://./train.csv [Content-Type=text/csv]...\n",
            "/ [1 files][ 14.7 MiB/ 14.7 MiB]                                                \n",
            "Operation completed over 1 objects/14.7 MiB.                                     \n",
            "Copying file://./val.csv [Content-Type=text/csv]...\n",
            "/ [1 files][  1.8 MiB/  1.8 MiB]                                                \n",
            "Operation completed over 1 objects/1.8 MiB.                                      \n"
          ],
          "name": "stdout"
        }
      ]
    },
    {
      "cell_type": "markdown",
      "metadata": {
        "id": "MeItv4QnzPG9"
      },
      "source": [
        "And we clean them\n",
        "\n",
        "**N.B.** if you restarted the notebook, you will need the functions defined in the second cell, re-run it."
      ]
    },
    {
      "cell_type": "code",
      "metadata": {
        "colab": {
          "base_uri": "https://localhost:8080/"
        },
        "id": "3R4XOlKgzNy1",
        "outputId": "076a068d-a9a8-4909-a87b-ed3a9ad172d3"
      },
      "source": [
        "def trasformCSV(original_path, new_path, clean_comments):\n",
        "  df = pd.read_csv(filepath_or_buffer = original_path, index_col=0, na_filter= False)\n",
        "  # print(\"original len:\", len(df))\n",
        "  count_nonlatin_filter = 0\n",
        "  count_token_filter = 0\n",
        "  for idx, row in df.iterrows():\n",
        "\n",
        "    comment = row[\"comment\"]\n",
        "    code_before = row[\"before\"]\n",
        "    code_after = row[\"after\"]\n",
        "    code_before_marked = row[\"before_marked\"]\n",
        "    \n",
        "    start_end_pattern = regex.compile(r\"(START )(.*?(?= END))( END)\", flags=re.MULTILINE|re.DOTALL)\n",
        "    matches = [m.group() for m in start_end_pattern.finditer(code_before_marked)]\n",
        "    if len(matches) == 1:\n",
        "      code_before_marked = start_end_pattern.sub(r\"<START> \\2 <END>\", code_before_marked)\n",
        "\n",
        "    if not \"<START> \" in code_before_marked or not \" <END>\" in code_before_marked :\n",
        "      print(code_before_marked)\n",
        "    \n",
        "    comment, code_before, code_after, code_before_marked = replaceLinks_FourStrings(comment, code_before, code_after, code_before_marked)\n",
        "    \n",
        "    comment = removeEmojis(comment)\n",
        "    comment = cleanString(comment)\n",
        "    comment = comment.replace(\"`\",\"\").replace(\"←\",\"<-\").replace(\"१२\",\"\").replace(\"⁻⁵\",\"\").replace(\"•\",\"\").replace(\"．\",\"\").replace(\"￼\",\"\").replace(\"°\",\"\").replace(\"»«\",\"\").replace(\"ｔ\",\"t\").replace(\"е\",\"e\").replace(\"≈\",\"\").replace(\"⇒\",\"\").replace(\"¯\",\"\").replace(\"۸\",\"\").replace(\"३\",\"\").replace(\"‘\",\"'\").replace(\"➜\",\"->\").replace(\"≠\",\"!=\").replace(\"？\",\"?\").replace(\"¦¦\",\"\").replace(\"�\",\"\").replace(\"ह\",\"\").replace(\"µ\",\"mu\").replace(\"с\",\"c\").replace(\"×\",\"x\").replace(\"»\",\"\").replace(\"²\",\"\").replace(\"️\",\"\").replace(\"ö\",\"\").replace(\"ô\",\"\").replace(\"ó\",\"\").replace(\"ツ\",\"\").replace(\"⌘\",\"\").replace(\"«\",\"\").replace(\"„\",\"\").replace(\"·\",\"\").replace(\"İ\",\"\").replace(\"。。。\",\"...\").replace(\"λ\",\"lambda\").replace(\"§\",\"\").replace(\"ø\",\"\").replace(\"�\",\"\").replace(\"￼\",\"\").replace(\"→\",\"->\").replace(\"´\",\"'\").replace(\"…\",\" \").replace(\"–\",\"-\").replace(\"—\",\"-\").replace(\"─\",\"-\").replace(\"’\",\"'\").replace(\"≤\",\"<=\").replace(\"≥\",\">=\").replace(\"∞\",\"inf\").replace(\"±\",\"+-\").replace(\"“\",\"\\\"\").replace(\"”\",\"\\\"\").replace(\"└\",\" \").replace(\"├\",\" \").replace(\"（\",\"(\").replace(\"）\",\")\")\n",
        "\n",
        "    ###### CLEAN COMMENTS ######\n",
        "    if clean_comments :\n",
        "      comment = ''.join(w + ' ' for w in comment.split() if w.upper() not in stopwords).strip()\n",
        "      \n",
        "      punctuation = ('-', '.', ':', '>')\n",
        "      if comment.endswith((\"?\", \"!\", \".\")):\n",
        "        comment = comment[:-1]\n",
        "\n",
        "      if comment.startswith(punctuation):\n",
        "        comment = comment[1:].strip()\n",
        "              \n",
        "    ##############################\n",
        "\n",
        "    if isNonLatin(comment):\n",
        "      count_nonlatin_filter += 1\n",
        "      df = df.drop(idx)\n",
        "      continue\n",
        "\n",
        "    code_before = removeComments(code_before)\n",
        "    code_before = cleanString(code_before)\n",
        "\n",
        "    code_after = removeComments(code_after)\n",
        "    code_after = cleanString(code_after)\n",
        "\n",
        "    code_before_marked = removeComments(code_before_marked)\n",
        "    code_before_marked = cleanString(code_before_marked)\n",
        "\n",
        "    if len(comment) == 0 or len(code_before) == 0 or len(code_after) == 0 or len(code_before_marked) == 0 :\n",
        "      # print(\" --- check len --- \")\n",
        "      count_token_filter += 1\n",
        "      continue\n",
        "\n",
        "    df.loc[idx, 'comment'] = comment\n",
        "    df.loc[idx, 'before'] = code_before\n",
        "    df.loc[idx, 'after'] = code_after\n",
        "    df.loc[idx, 'before_marked'] = code_before_marked\n",
        "\n",
        "  df.to_csv(new_path, index=False)\n",
        "\n",
        "  # print(\"count_nonlatin_filter\", count_nonlatin_filter)\n",
        "  # print(\"count_token_filter\", count_token_filter)\n",
        "\n",
        "!mkdir ./fine_tuning_small\n",
        "!mkdir ./fine_tuning_small/v1\n",
        "!mkdir ./fine_tuning_small/v2\n",
        "\n",
        "trasformCSV('./test.csv', \"./fine_tuning_small/v1/test.csv\", clean_comments=False)\n",
        "trasformCSV('./train.csv', \"./fine_tuning_small/v1/train.csv\", clean_comments=False)\n",
        "trasformCSV('./val.csv', \"./fine_tuning_small/v1/val.csv\", clean_comments=False)\n",
        "\n",
        "trasformCSV('./test.csv', \"./fine_tuning_small/v2/test.csv\", clean_comments=True)\n",
        "trasformCSV('./train.csv', \"./fine_tuning_small/v2/train.csv\", clean_comments=True)\n",
        "trasformCSV('./val.csv', \"./fine_tuning_small/v2/val.csv\", clean_comments=True)\n",
        "\n",
        "# check lenght is 1709\n",
        "!wc -l fine_tuning_small/v1/test.csv\n",
        "!wc -l fine_tuning_small/v2/test.csv\n",
        "\n",
        "# check lenght is 13671\n",
        "!wc -l ./fine_tuning_small/v1/train.csv\n",
        "!wc -l ./fine_tuning_small/v2/train.csv\n",
        "\n",
        "# check lenght is 1714\n",
        "!wc -l ./fine_tuning_small/v1/val.csv\n",
        "!wc -l ./fine_tuning_small/v2/val.csv"
      ],
      "execution_count": 19,
      "outputs": [
        {
          "output_type": "stream",
          "text": [
            "mkdir: cannot create directory ‘./fine_tuning_small’: File exists\n",
            "mkdir: cannot create directory ‘./fine_tuning_small/v1’: File exists\n",
            "mkdir: cannot create directory ‘./fine_tuning_small/v2’: File exists\n",
            "1709 fine_tuning_small/v1/test.csv\n",
            "1709 fine_tuning_small/v2/test.csv\n",
            "13671 ./fine_tuning_small/v1/train.csv\n",
            "13671 ./fine_tuning_small/v2/train.csv\n",
            "1714 ./fine_tuning_small/v1/val.csv\n",
            "1714 ./fine_tuning_small/v2/val.csv\n"
          ],
          "name": "stdout"
        }
      ]
    },
    {
      "cell_type": "markdown",
      "metadata": {
        "id": "VVK8Vb6L1Iwo"
      },
      "source": [
        "And finally we create the tsv files to later fine tune our models"
      ]
    },
    {
      "cell_type": "code",
      "metadata": {
        "colab": {
          "base_uri": "https://localhost:8080/"
        },
        "id": "gTqyOFav1I9i",
        "outputId": "d710fef9-99a2-4cc1-a804-b0dfab0fd0d2"
      },
      "source": [
        "def exportVersions(df_name, version):\n",
        "  df = pd.read_csv(\"./fine_tuning_small/\" + version + \"/\" + df_name + \".csv\", dtype=object, na_filter=False)  \n",
        "\n",
        "  with open(\"./fine_tuning_small/\" + version + \"/code_code/\" + df_name + \".tsv\", \"w\") as f:\n",
        "    for index, row in df.iterrows():\n",
        "      f.write(row['before'].strip() + \"\\t\" + row['after'].strip() + \"\\n\")\n",
        "\n",
        "  with open(\"./fine_tuning_small/\" + version + \"/codeANDcomment_code/\" + df_name + \".tsv\", \"w\") as f:\n",
        "    for index, row in df.iterrows():\n",
        "      f.write(\"<code> \" + row['before_marked'].strip() + \" </code><technical_language> \" + row['comment'].strip() + \" </technical_language>\\t\" + row['after'].strip() + \"\\n\")\n",
        "\n",
        "!mkdir ./fine_tuning_small/v1/code_code\n",
        "!mkdir ./fine_tuning_small/v2/code_code\n",
        "\n",
        "!mkdir ./fine_tuning_small/v1/codeANDcomment_code\n",
        "!mkdir ./fine_tuning_small/v2/codeANDcomment_code\n",
        "\n",
        "exportVersions(\"val\", \"v1\")\n",
        "exportVersions(\"train\", \"v1\")\n",
        "exportVersions(\"test\", \"v1\")\n",
        "\n",
        "exportVersions(\"val\", \"v2\")\n",
        "exportVersions(\"train\", \"v2\")\n",
        "exportVersions(\"test\", \"v2\")\n",
        "\n",
        "!gsutil cp ./fine_tuning_small/v1/code_code/test.tsv gs://{bucket_name}/replication_package/dataset/fine-tuning/small/v1/code_code/test.tsv\n",
        "!gsutil cp ./fine_tuning_small/v1/code_code/val.tsv gs://{bucket_name}/replication_package/dataset/fine-tuning/small/v1/code_code/val.tsv\n",
        "!gsutil cp ./fine_tuning_small/v1/code_code/train.tsv gs://{bucket_name}/replication_package/dataset/fine-tuning/small/v1/code_code/train.tsv\n",
        "\n",
        "!gsutil cp ./fine_tuning_small/v1/codeANDcomment_code/test.tsv gs://{bucket_name}/replication_package/dataset/fine-tuning/small/v1/codeANDcomment_code/test.tsv\n",
        "!gsutil cp ./fine_tuning_small/v1/codeANDcomment_code/val.tsv gs://{bucket_name}/replication_package/dataset/fine-tuning/small/v1/codeANDcomment_code/val.tsv\n",
        "!gsutil cp ./fine_tuning_small/v1/codeANDcomment_code/train.tsv gs://{bucket_name}/replication_package/dataset/fine-tuning/small/v1/codeANDcomment_code/train.tsv\n",
        "\n",
        "!gsutil cp ./fine_tuning_small/v2/code_code/test.tsv gs://{bucket_name}/replication_package/dataset/fine-tuning/small/v2/code_code/test.tsv\n",
        "!gsutil cp ./fine_tuning_small/v2/code_code/val.tsv gs://{bucket_name}/replication_package/dataset/fine-tuning/small/v2/code_code/val.tsv\n",
        "!gsutil cp ./fine_tuning_small/v2/code_code/train.tsv gs://{bucket_name}/replication_package/dataset/fine-tuning/small/v2/code_code/train.tsv\n",
        "\n",
        "!gsutil cp ./fine_tuning_small/v2/codeANDcomment_code/test.tsv gs://{bucket_name}/replication_package/dataset/fine-tuning/small/v2/codeANDcomment_code/test.tsv\n",
        "!gsutil cp ./fine_tuning_small/v2/codeANDcomment_code/val.tsv gs://{bucket_name}/replication_package/dataset/fine-tuning/small/v2/codeANDcomment_code/val.tsv\n",
        "!gsutil cp ./fine_tuning_small/v2/codeANDcomment_code/train.tsv gs://{bucket_name}/replication_package/dataset/fine-tuning/small/v2/codeANDcomment_code/train.tsv\n"
      ],
      "execution_count": 26,
      "outputs": [
        {
          "output_type": "stream",
          "text": [
            "mkdir: cannot create directory ‘./fine_tuning_small/v1/code_code’: File exists\n",
            "mkdir: cannot create directory ‘./fine_tuning_small/v2/code_code’: File exists\n",
            "mkdir: cannot create directory ‘./fine_tuning_small/v1/codeANDcomment_code’: File exists\n",
            "mkdir: cannot create directory ‘./fine_tuning_small/v2/codeANDcomment_code’: File exists\n",
            "Copying file://./fine_tuning_small/v1/code_code/test.tsv [Content-Type=text/tab-separated-values]...\n",
            "/ [1 files][855.4 KiB/855.4 KiB]                                                \n",
            "Operation completed over 1 objects/855.4 KiB.                                    \n",
            "Copying file://./fine_tuning_small/v1/code_code/val.tsv [Content-Type=text/tab-separated-values]...\n",
            "/ [1 files][839.5 KiB/839.5 KiB]                                                \n",
            "Operation completed over 1 objects/839.5 KiB.                                    \n",
            "Copying file://./fine_tuning_small/v1/code_code/train.tsv [Content-Type=text/tab-separated-values]...\n",
            "/ [1 files][  6.7 MiB/  6.7 MiB]                                                \n",
            "Operation completed over 1 objects/6.7 MiB.                                      \n",
            "Copying file://./fine_tuning_small/v1/codeANDcomment_code/test.tsv [Content-Type=text/tab-separated-values]...\n",
            "/ [1 files][  1.1 MiB/  1.1 MiB]                                                \n",
            "Operation completed over 1 objects/1.1 MiB.                                      \n",
            "Copying file://./fine_tuning_small/v1/codeANDcomment_code/val.tsv [Content-Type=text/tab-separated-values]...\n",
            "/ [1 files][  1.1 MiB/  1.1 MiB]                                                \n",
            "Operation completed over 1 objects/1.1 MiB.                                      \n",
            "Copying file://./fine_tuning_small/v1/codeANDcomment_code/train.tsv [Content-Type=text/tab-separated-values]...\n",
            "/ [1 files][  8.9 MiB/  8.9 MiB]                                                \n",
            "Operation completed over 1 objects/8.9 MiB.                                      \n",
            "Copying file://./fine_tuning_small/v2/code_code/test.tsv [Content-Type=text/tab-separated-values]...\n",
            "/ [1 files][855.4 KiB/855.4 KiB]                                                \n",
            "Operation completed over 1 objects/855.4 KiB.                                    \n",
            "Copying file://./fine_tuning_small/v2/code_code/val.tsv [Content-Type=text/tab-separated-values]...\n",
            "/ [1 files][839.5 KiB/839.5 KiB]                                                \n",
            "Operation completed over 1 objects/839.5 KiB.                                    \n",
            "Copying file://./fine_tuning_small/v2/code_code/train.tsv [Content-Type=text/tab-separated-values]...\n",
            "/ [1 files][  6.7 MiB/  6.7 MiB]                                                \n",
            "Operation completed over 1 objects/6.7 MiB.                                      \n",
            "Copying file://./fine_tuning_small/v2/codeANDcomment_code/test.tsv [Content-Type=text/tab-separated-values]...\n",
            "/ [1 files][  1.1 MiB/  1.1 MiB]                                                \n",
            "Operation completed over 1 objects/1.1 MiB.                                      \n",
            "Copying file://./fine_tuning_small/v2/codeANDcomment_code/val.tsv [Content-Type=text/tab-separated-values]...\n",
            "/ [1 files][  1.0 MiB/  1.0 MiB]                                                \n",
            "Operation completed over 1 objects/1.0 MiB.                                      \n",
            "Copying file://./fine_tuning_small/v2/codeANDcomment_code/train.tsv [Content-Type=text/tab-separated-values]...\n",
            "/ [1 files][  8.5 MiB/  8.5 MiB]                                                \n",
            "Operation completed over 1 objects/8.5 MiB.                                      \n"
          ],
          "name": "stdout"
        }
      ]
    },
    {
      "cell_type": "markdown",
      "metadata": {
        "id": "05l4zcN5kEct"
      },
      "source": [
        "## Large Version \n",
        "\n",
        "we import the raw datasets first (available [here](http://))\n"
      ]
    },
    {
      "cell_type": "code",
      "metadata": {
        "colab": {
          "base_uri": "https://localhost:8080/"
        },
        "id": "WpU2-1QD4XLS",
        "outputId": "6ced272b-3a70-4b29-935b-5bfe4b31874d"
      },
      "source": [
        "!gsutil cp gs://{bucket_name}/code_review_automation/replication_package/raw_data/fine_tuning_large/final_df.csv  ./final_df.csv\n",
        "# check we have 168054 rows\n",
        "!wc -l ./final_df.csv"
      ],
      "execution_count": 29,
      "outputs": [
        {
          "output_type": "stream",
          "text": [
            "Copying gs://code_review_automation/replication_package/dataset/fine-tuning/large/final_df.csv...\n",
            "\\ [1 files][350.6 MiB/350.6 MiB]                                                \n",
            "Operation completed over 1 objects/350.6 MiB.                                    \n",
            "168054 ./final_df.csv\n"
          ],
          "name": "stdout"
        }
      ]
    },
    {
      "cell_type": "markdown",
      "metadata": {
        "id": "se0xw3RE4Xad"
      },
      "source": [
        "We read the dataset in a pandas dataframe, we shuffle the data and we build the train-val-test partitions"
      ]
    },
    {
      "cell_type": "code",
      "metadata": {
        "colab": {
          "base_uri": "https://localhost:8080/"
        },
        "id": "EwkqW7Ta4Qxs",
        "outputId": "69f311b6-4165-4343-fa38-38d38db761a2"
      },
      "source": [
        "df = pd.read_csv(filepath_or_buffer = \"./final_df.csv\", index_col=0, na_filter=False).reset_index().drop([\"index\"], axis=1)\n",
        "\n",
        "# shuffle data\n",
        "df = df.sample(frac=1) \n",
        "fractions = np.array([0.8, 0.10, 0.10])\n",
        "# split into 3 parts\n",
        "train, val, test = np.array_split(df, (fractions[:-1].cumsum() * len(df)).astype(int))\n",
        "\n",
        "# check we have 134442 entries\n",
        "print(len(train))\n",
        "# check we have 16806 entries\n",
        "print(len(test))\n",
        "# check we have 16805 entries\n",
        "print(len(val))\n",
        "\n",
        "train.to_csv(\"./train.csv\", index=False)\n",
        "test.to_csv(\"./test.csv\", index=False)\n",
        "val.to_csv(\"./val.csv\", index=False)\n",
        "\n",
        "!mkdir ./fine_tuning_large\n",
        "\n",
        "!mkdir ./fine_tuning_large/code_code\n",
        "!mkdir ./fine_tuning_large/code_comment\n",
        "!mkdir ./fine_tuning_large/codeANDcomment_code\n",
        "!mkdir ./fine_tuning_large/marked_code"
      ],
      "execution_count": 31,
      "outputs": [
        {
          "output_type": "stream",
          "text": [
            "134442\n",
            "16806\n",
            "16805\n"
          ],
          "name": "stdout"
        }
      ]
    },
    {
      "cell_type": "markdown",
      "metadata": {
        "id": "6DZ8EAVb5gzl"
      },
      "source": [
        "Now, like above, we make our tsv files for all the fine-tuning tasks"
      ]
    },
    {
      "cell_type": "code",
      "metadata": {
        "colab": {
          "base_uri": "https://localhost:8080/"
        },
        "id": "xLNs7r0g5ny0",
        "outputId": "600cf118-a5ab-441a-d1e5-b758d7972edd"
      },
      "source": [
        "def exportVersions(df_name):\n",
        "  df = pd.read_csv(\"./\" + df_name + \".csv\")  \n",
        "  all_columns = list(df)\n",
        "  df[all_columns] = df[all_columns].astype(str)\n",
        "\n",
        "  with open(\"fine_tuning_large/code_code/\" + df_name + \".tsv\", \"w\") as f:\n",
        "    for index, row in df.iterrows():\n",
        "      f.write(row['before'].strip() + \"\\t\" + row['after'].strip() + \"\\n\")\n",
        "\n",
        "  with open(\"fine_tuning_large/code_comment/\" + df_name + \".tsv\", \"w\") as f:\n",
        "    for index, row in df.iterrows():\n",
        "      f.write(row['before'].strip() + \"\\t\" + row['comment'].strip() + \"\\n\")\n",
        "  \n",
        "  with open(\"fine_tuning_large/marked_code/\" + df_name + \".tsv\", \"w\") as f:\n",
        "    for index, row in df.iterrows():\n",
        "      f.write(row['before_marked'].strip() + \"\\t\" + row['after'].strip() + \"\\n\")\n",
        "\n",
        "  with open(\"fine_tuning_large/codeANDcomment_code/\" + df_name + \".tsv\", \"w\") as f:\n",
        "    for index, row in df.iterrows():\n",
        "      f.write(\"<code>\" + row['before_marked'].strip() + \"</code><technical_language>\" + row['comment_no_stopwords'].strip() + \"</technical_language>\\t\" + row['after'].strip() + \"\\n\")\n",
        "\n",
        "exportVersions(\"val\")\n",
        "exportVersions(\"train\")\n",
        "exportVersions(\"test\")\n",
        "\n",
        "!gsutil cp ./fine_tuning_large/code_code/test.tsv gs://{bucket_name}/replication_package/dataset/fine-tuning/large/code_code/test.tsv\n",
        "!gsutil cp ./fine_tuning_large/code_code/train.tsv gs://{bucket_name}/replication_package/dataset/fine-tuning/large/code_code/train.tsv\n",
        "!gsutil cp ./fine_tuning_large/code_code/val.tsv gs://{bucket_name}/replication_package/dataset/fine-tuning/large/code_code/val.tsv\n",
        "\n",
        "!gsutil cp ./fine_tuning_large/codeANDcomment_code/test.tsv gs://{bucket_name}/replication_package/dataset/fine-tuning/large/codeANDcomment_code/test.tsv\n",
        "!gsutil cp ./fine_tuning_large/codeANDcomment_code/train.tsv gs://{bucket_name}/replication_package/dataset/fine-tuning/large/codeANDcomment_code/train.tsv\n",
        "!gsutil cp ./fine_tuning_large/codeANDcomment_code/val.tsv gs://{bucket_name}/replication_package/dataset/fine-tuning/large/codeANDcomment_code/val.tsv\n",
        "\n",
        "!gsutil cp ./fine_tuning_large/code_comment/test.tsv gs://{bucket_name}/replication_package/dataset/fine-tuning/large/code_comment/test.tsv\n",
        "!gsutil cp ./fine_tuning_large/code_comment/train.tsv gs://{bucket_name}/replication_package/dataset/fine-tuning/large/code_comment/train.tsv\n",
        "!gsutil cp ./fine_tuning_large/code_comment/val.tsv gs://{bucket_name}/replication_package/dataset/fine-tuning/large/code_comment/val.tsv\n",
        "\n",
        "!gsutil cp ./fine_tuning_large/marked_code/test.tsv gs://{bucket_name}/replication_package/dataset/fine-tuning/large/marked_code/test.tsv\n",
        "!gsutil cp ./fine_tuning_large/marked_code/train.tsv gs://{bucket_name}/replication_package/dataset/fine-tuning/large/marked_code/train.tsv\n",
        "!gsutil cp ./fine_tuning_large/marked_code/val.tsv gs://{bucket_name}/replication_package/dataset/fine-tuning/large/marked_code/val.tsv"
      ],
      "execution_count": 33,
      "outputs": [
        {
          "output_type": "stream",
          "text": [
            "Copying file://./fine_tuning_large/code_code/test.tsv [Content-Type=text/tab-separated-values]...\n",
            "/ [1 files][ 20.8 MiB/ 20.8 MiB]                                                \n",
            "Operation completed over 1 objects/20.8 MiB.                                     \n",
            "Copying file://./fine_tuning_large/code_code/train.tsv [Content-Type=text/tab-separated-values]...\n",
            "==> NOTE: You are uploading one or more large file(s), which would run\n",
            "significantly faster if you enable parallel composite uploads. This\n",
            "feature can be enabled by editing the\n",
            "\"parallel_composite_upload_threshold\" value in your .boto\n",
            "configuration file. However, note that if you do this large files will\n",
            "be uploaded as `composite objects\n",
            "<https://cloud.google.com/storage/docs/composite-objects>`_,which\n",
            "means that any user who downloads such objects will need to have a\n",
            "compiled crcmod installed (see \"gsutil help crcmod\"). This is because\n",
            "without a compiled crcmod, computing checksums on composite objects is\n",
            "so slow that gsutil disables downloads of composite objects.\n",
            "\n",
            "\\ [1 files][166.0 MiB/166.0 MiB]                                                \n",
            "Operation completed over 1 objects/166.0 MiB.                                    \n",
            "Copying file://./fine_tuning_large/code_code/val.tsv [Content-Type=text/tab-separated-values]...\n",
            "/ [1 files][ 20.8 MiB/ 20.8 MiB]                                                \n",
            "Operation completed over 1 objects/20.8 MiB.                                     \n",
            "Copying file://./fine_tuning_large/codeANDcomment_code/test.tsv [Content-Type=text/tab-separated-values]...\n",
            "/ [1 files][ 23.2 MiB/ 23.2 MiB]                                                \n",
            "Operation completed over 1 objects/23.2 MiB.                                     \n",
            "Copying file://./fine_tuning_large/codeANDcomment_code/train.tsv [Content-Type=text/tab-separated-values]...\n",
            "==> NOTE: You are uploading one or more large file(s), which would run\n",
            "significantly faster if you enable parallel composite uploads. This\n",
            "feature can be enabled by editing the\n",
            "\"parallel_composite_upload_threshold\" value in your .boto\n",
            "configuration file. However, note that if you do this large files will\n",
            "be uploaded as `composite objects\n",
            "<https://cloud.google.com/storage/docs/composite-objects>`_,which\n",
            "means that any user who downloads such objects will need to have a\n",
            "compiled crcmod installed (see \"gsutil help crcmod\"). This is because\n",
            "without a compiled crcmod, computing checksums on composite objects is\n",
            "so slow that gsutil disables downloads of composite objects.\n",
            "\n",
            "/\n",
            "Operation completed over 1 objects/185.0 MiB.                                    \n",
            "Copying file://./fine_tuning_large/codeANDcomment_code/val.tsv [Content-Type=text/tab-separated-values]...\n",
            "/ [1 files][ 23.1 MiB/ 23.1 MiB]                                                \n",
            "Operation completed over 1 objects/23.1 MiB.                                     \n",
            "Copying file://./fine_tuning_large/code_comment/test.tsv [Content-Type=text/tab-separated-values]...\n",
            "/ [1 files][ 12.4 MiB/ 12.4 MiB]                                                \n",
            "Operation completed over 1 objects/12.4 MiB.                                     \n",
            "Copying file://./fine_tuning_large/code_comment/train.tsv [Content-Type=text/tab-separated-values]...\n",
            "|\n",
            "Operation completed over 1 objects/98.8 MiB.                                     \n",
            "Copying file://./fine_tuning_large/code_comment/val.tsv [Content-Type=text/tab-separated-values]...\n",
            "/ [1 files][ 12.4 MiB/ 12.4 MiB]                                                \n",
            "Operation completed over 1 objects/12.4 MiB.                                     \n",
            "Copying file://./fine_tuning_large/marked_code/test.tsv [Content-Type=text/tab-separated-values]...\n",
            "/ [1 files][ 21.0 MiB/ 21.0 MiB]                                                \n",
            "Operation completed over 1 objects/21.0 MiB.                                     \n",
            "Copying file://./fine_tuning_large/marked_code/train.tsv [Content-Type=text/tab-separated-values]...\n",
            "==> NOTE: You are uploading one or more large file(s), which would run\n",
            "significantly faster if you enable parallel composite uploads. This\n",
            "feature can be enabled by editing the\n",
            "\"parallel_composite_upload_threshold\" value in your .boto\n",
            "configuration file. However, note that if you do this large files will\n",
            "be uploaded as `composite objects\n",
            "<https://cloud.google.com/storage/docs/composite-objects>`_,which\n",
            "means that any user who downloads such objects will need to have a\n",
            "compiled crcmod installed (see \"gsutil help crcmod\"). This is because\n",
            "without a compiled crcmod, computing checksums on composite objects is\n",
            "so slow that gsutil disables downloads of composite objects.\n",
            "\n",
            "\\ [1 files][167.8 MiB/167.8 MiB]                                                \n",
            "Operation completed over 1 objects/167.8 MiB.                                    \n",
            "Copying file://./fine_tuning_large/marked_code/val.tsv [Content-Type=text/tab-separated-values]...\n",
            "/ [1 files][ 21.0 MiB/ 21.0 MiB]                                                \n",
            "Operation completed over 1 objects/21.0 MiB.                                     \n"
          ],
          "name": "stdout"
        }
      ]
    },
    {
      "cell_type": "markdown",
      "metadata": {
        "id": "tof1tcDS4S3-"
      },
      "source": [
        "# Connection the GCS & Setup\n"
      ]
    },
    {
      "cell_type": "code",
      "metadata": {
        "colab": {
          "base_uri": "https://localhost:8080/"
        },
        "id": "MzC-mFyi47OB",
        "outputId": "11a5464f-e139-483f-cb9f-2b68e39604e8"
      },
      "source": [
        "#@title ## Your GCS credential\n",
        "\n",
        "replication_package_path = \"gs://code_review_automation/replication_package\"#@param {type:\"string\"}\n",
        "\n",
        "!gsutil -m cp -r \"{replication_package_path}\" .\n"
      ],
      "execution_count": 2,
      "outputs": [
        {
          "output_type": "stream",
          "text": [
            "Copying gs://code_review_automation/replication_package/code_review_model/TestModel.model...\n",
            "/ [0/65 files][    0.0 B/ 11.0 GiB]   0% Done                                   \rCopying gs://code_review_automation/replication_package/code_review_model/TestModel.vocab...\n",
            "/ [0/65 files][    0.0 B/ 11.0 GiB]   0% Done                                   \rCopying gs://code_review_automation/replication_package/dataset/fine-tuning/large/codeANDcomment_code/test.tsv...\n",
            "/ [0/65 files][    0.0 B/ 11.0 GiB]   0% Done                                   \rCopying gs://code_review_automation/replication_package/code_review_model/operative_config.gin...\n",
            "Copying gs://code_review_automation/replication_package/dataset/fine-tuning/large/codeANDcomment_code/train.tsv...\n",
            "/ [0/65 files][    0.0 B/ 11.0 GiB]   0% Done                                   \r/ [0/65 files][    0.0 B/ 11.0 GiB]   0% Done                                   \rCopying gs://code_review_automation/replication_package/dataset/fine-tuning/large/code_comment/train.tsv...\n",
            "Copying gs://code_review_automation/replication_package/dataset/fine-tuning/large/codeANDcomment_code/val.tsv...\n",
            "/ [0/65 files][    0.0 B/ 11.0 GiB]   0% Done                                   \r/ [0/65 files][    0.0 B/ 11.0 GiB]   0% Done                                   \rCopying gs://code_review_automation/replication_package/dataset/fine-tuning/small/v1/codeANDcomment_code/test.tsv...\n",
            "/ [0/65 files][    0.0 B/ 11.0 GiB]   0% Done                                   \rCopying gs://code_review_automation/replication_package/dataset/fine-tuning/small/v1/codeANDcomment_code/train.tsv...\n",
            "/ [0/65 files][    0.0 B/ 11.0 GiB]   0% Done                                   \rCopying gs://code_review_automation/replication_package/dataset/fine-tuning/small/v1/codeANDcomment_code/val.tsv...\n",
            "/ [0/65 files][    0.0 B/ 11.0 GiB]   0% Done                                   \rCopying gs://code_review_automation/replication_package/dataset/fine-tuning/large/code_code/test.tsv...\n",
            "/ [0/65 files][    0.0 B/ 11.0 GiB]   0% Done                                   \rCopying gs://code_review_automation/replication_package/dataset/fine-tuning/large/code_code/val.tsv...\n",
            "/ [0/65 files][    0.0 B/ 11.0 GiB]   0% Done                                   \rCopying gs://code_review_automation/replication_package/dataset/fine-tuning/large/code_code/train.tsv...\n",
            "/ [0/65 files][    0.0 B/ 11.0 GiB]   0% Done                                   \rCopying gs://code_review_automation/replication_package/dataset/fine-tuning/large/marked_code/val.tsv...\n",
            "Copying gs://code_review_automation/replication_package/dataset/fine-tuning/small/v1/code_code/test.tsv...\n",
            "/ [0/65 files][    0.0 B/ 11.0 GiB]   0% Done                                   \r/ [0/65 files][    0.0 B/ 11.0 GiB]   0% Done                                   \rCopying gs://code_review_automation/replication_package/dataset/fine-tuning/large/marked_code/test.tsv...\n",
            "Copying gs://code_review_automation/replication_package/dataset/fine-tuning/large/code_comment/test.tsv...\n",
            "/ [0/65 files][    0.0 B/ 11.0 GiB]   0% Done                                   \r/ [0/65 files][    0.0 B/ 11.0 GiB]   0% Done                                   \rCopying gs://code_review_automation/replication_package/dataset/fine-tuning/large/marked_code/train.tsv...\n",
            "Copying gs://code_review_automation/replication_package/dataset/fine-tuning/large/code_comment/val.tsv...\n",
            "Copying gs://code_review_automation/replication_package/dataset/fine-tuning/small/v1/code_code/train.tsv...\n",
            "Copying gs://code_review_automation/replication_package/dataset/fine-tuning/small/v1/code_code/val.tsv...\n",
            "Copying gs://code_review_automation/replication_package/dataset/fine-tuning/small/v2/codeANDcomment_code/test.tsv...\n",
            "Copying gs://code_review_automation/replication_package/dataset/fine-tuning/small/v2/codeANDcomment_code/train.tsv...\n",
            "Copying gs://code_review_automation/replication_package/dataset/fine-tuning/small/v2/codeANDcomment_code/val.tsv...\n",
            "Copying gs://code_review_automation/replication_package/dataset/fine-tuning/small/v2/code_code/test.tsv...\n",
            "Copying gs://code_review_automation/replication_package/dataset/fine-tuning/small/v2/code_code/train.tsv...\n",
            "Copying gs://code_review_automation/replication_package/dataset/fine-tuning/small/v2/code_code/val.tsv...\n",
            "Copying gs://code_review_automation/replication_package/dataset/pre-training/pre-training.txt...\n",
            "Copying gs://code_review_automation/replication_package/dataset/pre-training/pre-training.tsv...\n",
            "Copying gs://code_review_automation/replication_package/model_dumps/checkpoint...\n",
            "Copying gs://code_review_automation/replication_package/model_dumps/events.out.tfevents.1622031354.b25afaabdfcc...\n",
            "Copying gs://code_review_automation/replication_package/model_dumps/events.out.tfevents.1622033894.bd51575ebbca...\n",
            "Copying gs://code_review_automation/replication_package/model_dumps/events.out.tfevents.1622100017.a06e02a654bf...\n",
            "Copying gs://code_review_automation/replication_package/model_dumps/graph.pbtxt...\n",
            "Copying gs://code_review_automation/replication_package/model_dumps/model.ckpt-0.data-00000-of-00002...\n",
            "Copying gs://code_review_automation/replication_package/model_dumps/model.ckpt-0.data-00001-of-00002...\n",
            "Copying gs://code_review_automation/replication_package/model_dumps/model.ckpt-0.index...\n",
            "Copying gs://code_review_automation/replication_package/model_dumps/model.ckpt-0.meta...\n",
            "Copying gs://code_review_automation/replication_package/model_dumps/model.ckpt-300.data-00000-of-00002...\n",
            "Copying gs://code_review_automation/replication_package/model_dumps/model.ckpt-300.index...\n",
            "Copying gs://code_review_automation/replication_package/model_dumps/model.ckpt-300.data-00001-of-00002...\n",
            "Copying gs://code_review_automation/replication_package/model_dumps/model.ckpt-300.meta...\n",
            "Copying gs://code_review_automation/replication_package/model_dumps/model.ckpt-400.data-00000-of-00002...\n",
            "Copying gs://code_review_automation/replication_package/model_dumps/model.ckpt-400.data-00001-of-00002...\n",
            "Copying gs://code_review_automation/replication_package/model_dumps/model.ckpt-400.index...\n",
            "Copying gs://code_review_automation/replication_package/model_dumps/model.ckpt-400.meta...\n",
            "Copying gs://code_review_automation/replication_package/model_dumps/operative_config.gin...\n",
            "Copying gs://code_review_automation/replication_package/raw_data/fine_tuning_large/final_df.csv...\n",
            "Copying gs://code_review_automation/replication_package/raw_data/fine_tuning_small/test.csv...\n",
            "Copying gs://code_review_automation/replication_package/raw_data/fine_tuning_small/train.csv...\n",
            "Copying gs://code_review_automation/replication_package/raw_data/fine_tuning_small/val.csv...\n",
            "Copying gs://code_review_automation/replication_package/raw_data/pre-training/java_dedupe_definitions_v2.pkl...\n",
            "Copying gs://code_review_automation/replication_package/raw_data/pre-training/pretraining.txt...\n",
            "Copying gs://code_review_automation/replication_package/raw_data/pre-training/pretraining_csn.txt...\n",
            "Copying gs://code_review_automation/replication_package/raw_data/pre-training/pretraining_so.txt...\n",
            "Copying gs://code_review_automation/replication_package/raw_data/pre-training/stackoverflow_EXT.csv...\n",
            "Copying gs://code_review_automation/replication_package/utils/T5-masking.py...\n",
            "Copying gs://code_review_automation/replication_package/utils/my_idioms_300.csv...\n",
            "Copying gs://code_review_automation/replication_package/utils/stop-words-english.txt...\n"
          ],
          "name": "stdout"
        }
      ]
    },
    {
      "cell_type": "code",
      "metadata": {
        "colab": {
          "base_uri": "https://localhost:8080/"
        },
        "id": "aktlXmnoznut",
        "outputId": "a99537cb-7d11-488e-c250-c63a7e0ddd95"
      },
      "source": [
        "!zip -r /content/data.zip /content/replication_package"
      ],
      "execution_count": 4,
      "outputs": [
        {
          "output_type": "stream",
          "text": [
            "  adding: content/replication_package/ (stored 0%)\n",
            "  adding: content/replication_package/dataset/ (stored 0%)\n",
            "  adding: content/replication_package/dataset/fine-tuning/ (stored 0%)\n",
            "  adding: content/replication_package/dataset/fine-tuning/large/ (stored 0%)\n",
            "  adding: content/replication_package/dataset/fine-tuning/large/code_comment/ (stored 0%)\n",
            "  adding: content/replication_package/dataset/fine-tuning/large/code_comment/train.tsv (deflated 68%)\n",
            "  adding: content/replication_package/dataset/fine-tuning/large/code_comment/val.tsv (deflated 68%)\n",
            "  adding: content/replication_package/dataset/fine-tuning/large/code_comment/test.tsv (deflated 68%)\n",
            "  adding: content/replication_package/dataset/fine-tuning/large/marked_code/ (stored 0%)\n",
            "  adding: content/replication_package/dataset/fine-tuning/large/marked_code/train.tsv (deflated 81%)\n",
            "  adding: content/replication_package/dataset/fine-tuning/large/marked_code/val.tsv (deflated 81%)\n",
            "  adding: content/replication_package/dataset/fine-tuning/large/marked_code/test.tsv (deflated 81%)\n",
            "  adding: content/replication_package/dataset/fine-tuning/large/codeANDcomment_code/ (stored 0%)\n",
            "  adding: content/replication_package/dataset/fine-tuning/large/codeANDcomment_code/train.tsv (deflated 80%)\n",
            "  adding: content/replication_package/dataset/fine-tuning/large/codeANDcomment_code/val.tsv (deflated 80%)\n",
            "  adding: content/replication_package/dataset/fine-tuning/large/codeANDcomment_code/test.tsv (deflated 80%)\n",
            "  adding: content/replication_package/dataset/fine-tuning/large/code_code/ (stored 0%)\n",
            "  adding: content/replication_package/dataset/fine-tuning/large/code_code/train.tsv (deflated 81%)\n",
            "  adding: content/replication_package/dataset/fine-tuning/large/code_code/val.tsv (deflated 81%)\n",
            "  adding: content/replication_package/dataset/fine-tuning/large/code_code/test.tsv (deflated 81%)\n",
            "  adding: content/replication_package/dataset/fine-tuning/small/ (stored 0%)\n",
            "  adding: content/replication_package/dataset/fine-tuning/small/v2/ (stored 0%)\n",
            "  adding: content/replication_package/dataset/fine-tuning/small/v2/codeANDcomment_code/ (stored 0%)\n",
            "  adding: content/replication_package/dataset/fine-tuning/small/v2/codeANDcomment_code/train.tsv (deflated 80%)\n",
            "  adding: content/replication_package/dataset/fine-tuning/small/v2/codeANDcomment_code/val.tsv (deflated 78%)\n",
            "  adding: content/replication_package/dataset/fine-tuning/small/v2/codeANDcomment_code/test.tsv (deflated 78%)\n",
            "  adding: content/replication_package/dataset/fine-tuning/small/v2/code_code/ (stored 0%)\n",
            "  adding: content/replication_package/dataset/fine-tuning/small/v2/code_code/train.tsv (deflated 81%)\n",
            "  adding: content/replication_package/dataset/fine-tuning/small/v2/code_code/val.tsv (deflated 79%)\n",
            "  adding: content/replication_package/dataset/fine-tuning/small/v2/code_code/test.tsv (deflated 79%)\n",
            "  adding: content/replication_package/dataset/fine-tuning/small/v1/ (stored 0%)\n",
            "  adding: content/replication_package/dataset/fine-tuning/small/v1/codeANDcomment_code/ (stored 0%)\n",
            "  adding: content/replication_package/dataset/fine-tuning/small/v1/codeANDcomment_code/train.tsv (deflated 79%)\n",
            "  adding: content/replication_package/dataset/fine-tuning/small/v1/codeANDcomment_code/val.tsv (deflated 77%)\n",
            "  adding: content/replication_package/dataset/fine-tuning/small/v1/codeANDcomment_code/test.tsv (deflated 77%)\n",
            "  adding: content/replication_package/dataset/fine-tuning/small/v1/code_code/ (stored 0%)\n",
            "  adding: content/replication_package/dataset/fine-tuning/small/v1/code_code/train.tsv (deflated 81%)\n",
            "  adding: content/replication_package/dataset/fine-tuning/small/v1/code_code/val.tsv (deflated 79%)\n",
            "  adding: content/replication_package/dataset/fine-tuning/small/v1/code_code/test.tsv (deflated 79%)\n",
            "  adding: content/replication_package/dataset/pre-training/ (stored 0%)\n",
            "  adding: content/replication_package/dataset/pre-training/pre-training.txt (deflated 72%)\n",
            "  adding: content/replication_package/dataset/pre-training/pre-training.tsv (deflated 73%)\n",
            "  adding: content/replication_package/raw_data/ (stored 0%)\n",
            "  adding: content/replication_package/raw_data/fine_tuning_large/ (stored 0%)\n",
            "  adding: content/replication_package/raw_data/fine_tuning_large/final_df.csv (deflated 87%)\n",
            "  adding: content/replication_package/raw_data/fine_tuning_small/ (stored 0%)\n",
            "  adding: content/replication_package/raw_data/fine_tuning_small/val.csv (deflated 83%)\n",
            "  adding: content/replication_package/raw_data/fine_tuning_small/train.csv (deflated 84%)\n",
            "  adding: content/replication_package/raw_data/fine_tuning_small/test.csv (deflated 83%)\n",
            "  adding: content/replication_package/raw_data/pre-training/ (stored 0%)\n",
            "  adding: content/replication_package/raw_data/pre-training/pretraining_csn.txt (deflated 81%)\n",
            "  adding: content/replication_package/raw_data/pre-training/pretraining_so.txt (deflated 67%)\n",
            "  adding: content/replication_package/raw_data/pre-training/stackoverflow_EXT.csv (deflated 73%)\n",
            "  adding: content/replication_package/raw_data/pre-training/java_dedupe_definitions_v2.pkl (deflated 77%)\n",
            "  adding: content/replication_package/raw_data/pre-training/pretraining.txt (deflated 72%)\n",
            "  adding: content/replication_package/model_dumps/ (stored 0%)\n",
            "  adding: content/replication_package/model_dumps/model.ckpt-0.index (deflated 23%)\n",
            "  adding: content/replication_package/model_dumps/model.ckpt-400.data-00001-of-00002 (deflated 21%)\n",
            "  adding: content/replication_package/model_dumps/events.out.tfevents.1622031354.b25afaabdfcc (deflated 86%)\n",
            "  adding: content/replication_package/model_dumps/events.out.tfevents.1622100017.a06e02a654bf (deflated 86%)\n",
            "  adding: content/replication_package/model_dumps/model.ckpt-400.data-00000-of-00002 (deflated 25%)\n",
            "  adding: content/replication_package/model_dumps/model.ckpt-0.data-00000-of-00002 (deflated 38%)\n",
            "  adding: content/replication_package/model_dumps/checkpoint (deflated 67%)\n",
            "  adding: content/replication_package/model_dumps/model.ckpt-300.index (deflated 19%)\n",
            "  adding: content/replication_package/model_dumps/graph.pbtxt (deflated 93%)\n",
            "  adding: content/replication_package/model_dumps/model.ckpt-0.data-00001-of-00002 (deflated 23%)\n",
            "  adding: content/replication_package/model_dumps/model.ckpt-400.index (deflated 18%)\n",
            "  adding: content/replication_package/model_dumps/model.ckpt-300.meta (deflated 87%)\n",
            "  adding: content/replication_package/model_dumps/model.ckpt-300.data-00000-of-00002 (deflated 25%)\n",
            "  adding: content/replication_package/model_dumps/model.ckpt-300.data-00001-of-00002 (deflated 21%)\n",
            "  adding: content/replication_package/model_dumps/model.ckpt-0.meta (deflated 87%)\n",
            "  adding: content/replication_package/model_dumps/events.out.tfevents.1622033894.bd51575ebbca (deflated 86%)\n",
            "  adding: content/replication_package/model_dumps/model.ckpt-400.meta (deflated 87%)\n",
            "  adding: content/replication_package/model_dumps/operative_config.gin (deflated 84%)\n",
            "  adding: content/replication_package/utils/ (stored 0%)\n",
            "  adding: content/replication_package/utils/stop-words-english.txt (deflated 57%)\n",
            "  adding: content/replication_package/utils/my_idioms_300.csv (deflated 45%)\n",
            "  adding: content/replication_package/utils/T5-masking.py (deflated 67%)\n",
            "  adding: content/replication_package/code_review_model/ (stored 0%)\n",
            "  adding: content/replication_package/code_review_model/TestModel.model (deflated 47%)\n",
            "  adding: content/replication_package/code_review_model/operative_config.gin (deflated 84%)\n",
            "  adding: content/replication_package/code_review_model/TestModel.vocab (deflated 62%)\n"
          ],
          "name": "stdout"
        }
      ]
    },
    {
      "cell_type": "code",
      "metadata": {
        "id": "STzlRSCXwPJC"
      },
      "source": [
        "model = \"small/v2\"#@param [\"large\", \"small/v1\", \"small/v2\"]\n",
        "task = 'code_code' #@param [\"code_code\", \"codeANDcomment_code\", \"marked_code\", \"code_comment\"]\n",
        "code_review_automation/replication_package/dataset/fine-tuning/small/v1\n",
        "nq_tsv_path_code_code = {\n",
        "    \"train\":      'gs://code_review_automation/dataset/new/fineTuningDatasets/code_code/train.tsv',\n",
        "    \"validation\": 'gs://code_review_automation/dataset/new/fineTuningDatasets/code_code/val.tsv'\n",
        "}\n",
        "num_nq_examples_code_code = dict(train=134442, validation=16805)\n",
        "\n",
        "nq_tsv_path_code_comment = {\n",
        "    \"train\":      'gs://code_review_automation/dataset/new/fineTuningDatasets/code_comment/train.tsv',\n",
        "    \"validation\": 'gs://code_review_automation/dataset/new/fineTuningDatasets/code_comment/val.tsv'\n",
        "}\n",
        "num_nq_examples_code_comment = dict(train=134442, validation=16805)\n",
        "\n",
        "nq_tsv_path_codeANDcomment_code = {\n",
        "    \"train\":      'gs://code_review_automation/dataset/new/fineTuningDatasets/codeANDcomment_code/train.tsv',\n",
        "    \"validation\": 'gs://code_review_automation/dataset/new/fineTuningDatasets/codeANDcomment_code/val.tsv'\n",
        "}\n",
        "num_nq_examples_codeANDcomment_code = dict(train=134442, validation=16805)\n",
        "\n",
        "nq_tsv_path_marked_code = {\n",
        "    \"train\":      'gs://code_review_automation/dataset/new/fineTuningDatasets/marked_code/train.tsv',\n",
        "    \"validation\": 'gs://code_review_automation/dataset/new/fineTuningDatasets/marked_code/val.tsv'\n",
        "}\n",
        "num_nq_examples_marked_code = dict(train=134442, validation=16805)\n"
      ],
      "execution_count": null,
      "outputs": []
    }
  ]
}