{
  "nbformat": 4,
  "nbformat_minor": 0,
  "metadata": {
    "colab": {
      "name": "codeRevDataBuilder.ipynb",
      "provenance": [],
      "collapsed_sections": [],
      "authorship_tag": "ABX9TyPixwrhJK3oQbsTo8dz0Xe+",
      "include_colab_link": true
    },
    "kernelspec": {
      "name": "python3",
      "display_name": "Python 3"
    }
  },
  "cells": [
    {
      "cell_type": "markdown",
      "metadata": {
        "id": "view-in-github",
        "colab_type": "text"
      },
      "source": [
        "<a href=\"https://colab.research.google.com/github/masies/CRA/blob/main/codeRevDataBuilder.ipynb\" target=\"_parent\"><img src=\"https://colab.research.google.com/assets/colab-badge.svg\" alt=\"Open In Colab\"/></a>"
      ]
    },
    {
      "cell_type": "code",
      "metadata": {
        "colab": {
          "base_uri": "https://localhost:8080/"
        },
        "id": "-FThBWRLSldU",
        "outputId": "4ee57af6-a4da-4cb7-e1c6-f232aa6fed7d"
      },
      "source": [
        "from google.colab import auth\n",
        "auth.authenticate_user()\n",
        "project_id = 'helical-loop-303918'\n",
        "bucket_name = 'code_review_automation'\n",
        "!gcloud config set project {project_id}\n",
        "\n",
        "import os\n",
        "import pandas as pd\n",
        "!pip install lizard\n",
        "import lizard\n",
        "\n",
        "!pip install nltk\n",
        "from nltk.tokenize import word_tokenize\n",
        "import nltk\n",
        "nltk.download('punkt')\n",
        "\n",
        "!mkdir processed"
      ],
      "execution_count": null,
      "outputs": [
        {
          "output_type": "stream",
          "text": [
            "Updated property [core/project].\n",
            "Requirement already satisfied: lizard in /usr/local/lib/python3.7/dist-packages (1.17.7)\n",
            "Requirement already satisfied: nltk in /usr/local/lib/python3.7/dist-packages (3.2.5)\n",
            "Requirement already satisfied: six in /usr/local/lib/python3.7/dist-packages (from nltk) (1.15.0)\n",
            "[nltk_data] Downloading package punkt to /root/nltk_data...\n",
            "[nltk_data]   Package punkt is already up-to-date!\n"
          ],
          "name": "stdout"
        }
      ]
    },
    {
      "cell_type": "code",
      "metadata": {
        "colab": {
          "base_uri": "https://localhost:8080/"
        },
        "id": "I-aJnYdYV9F8",
        "outputId": "bd0f68bf-2f2e-45ee-d256-6f42d5620feb"
      },
      "source": [
        "# !gsutil cp gs://{bucket_name}/raw_data/finetuning/new/github.zip github.zip\n",
        "# !unzip github.zip\n",
        "# !rm github/.DS_Store\n",
        "# !gsutil -m cp -r github gs://code_review_automation/dataset/new/\n",
        "\n",
        "# !gsutil cp gs://{bucket_name}/raw_data/finetuning/new/gerrit.zip gerrit.zip\n",
        "# !unzip gerrit.zip\n",
        "# !rm gerrit/.DS_Store\n",
        "# !gsutil -m cp -r gerrit gs://code_review_automation/dataset/new/\n",
        "\n",
        "# !rm -rf __MACOSX"
      ],
      "execution_count": null,
      "outputs": [
        {
          "output_type": "stream",
          "text": [
            "Copying gs://code_review_automation/raw_data/finetuning/new/gerrit.zip...\n",
            "| [1 files][  1.2 GiB/  1.2 GiB]   54.9 MiB/s                                   \n",
            "Operation completed over 1 objects/1.2 GiB.                                      \n",
            "Archive:  gerrit.zip\n",
            "   creating: gerrit/\n",
            "  inflating: __MACOSX/._gerrit       \n",
            "  inflating: gerrit/gerrit_wikimedia.csv  \n",
            "  inflating: __MACOSX/gerrit/._gerrit_wikimedia.csv  \n",
            "  inflating: gerrit/gerrit_gerrithub.csv  \n",
            "  inflating: __MACOSX/gerrit/._gerrit_gerrithub.csv  \n",
            "  inflating: gerrit/.DS_Store        \n",
            "  inflating: __MACOSX/gerrit/._.DS_Store  \n",
            "  inflating: gerrit/gerrit_android.csv  \n",
            "  inflating: __MACOSX/gerrit/._gerrit_android.csv  \n",
            "  inflating: gerrit/gerrit_ovirt.csv  \n",
            "  inflating: __MACOSX/gerrit/._gerrit_ovirt.csv  \n",
            "  inflating: gerrit/gerrit_googlesource.csv  \n",
            "  inflating: __MACOSX/gerrit/._gerrit_googlesource.csv  \n",
            "  inflating: gerrit/gerrit_eclipse.csv  \n",
            "  inflating: __MACOSX/gerrit/._gerrit_eclipse.csv  \n",
            "Copying file://gerrit/gerrit_ovirt.csv [Content-Type=text/csv]...\n",
            "==> NOTE: You are uploading one or more large file(s), which would run\n",
            "significantly faster if you enable parallel composite uploads. This\n",
            "feature can be enabled by editing the\n",
            "\"parallel_composite_upload_threshold\" value in your .boto\n",
            "configuration file. However, note that if you do this large files will\n",
            "be uploaded as `composite objects\n",
            "<https://cloud.google.com/storage/docs/composite-objects>`_,which\n",
            "means that any user who downloads such objects will need to have a\n",
            "compiled crcmod installed (see \"gsutil help crcmod\"). This is because\n",
            "without a compiled crcmod, computing checksums on composite objects is\n",
            "so slow that gsutil disables downloads of composite objects.\n",
            "\n",
            "Copying file://gerrit/gerrit_googlesource.csv [Content-Type=text/csv]...\n",
            "Copying file://gerrit/gerrit_android.csv [Content-Type=text/csv]...\n",
            "Copying file://gerrit/gerrit_wikimedia.csv [Content-Type=text/csv]...\n",
            "Copying file://gerrit/gerrit_gerrithub.csv [Content-Type=text/csv]...\n",
            "Copying file://gerrit/gerrit_eclipse.csv [Content-Type=text/csv]...\n",
            "|\n",
            "Operation completed over 6 objects/9.6 GiB.                                      \n"
          ],
          "name": "stdout"
        }
      ]
    }
  ]
}